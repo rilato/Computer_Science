{
 "cells": [
  {
   "cell_type": "code",
   "execution_count": 1,
   "id": "429fdeff",
   "metadata": {},
   "outputs": [
    {
     "data": {
      "text/plain": [
       "{'a', 'b', 'c'}"
      ]
     },
     "execution_count": 1,
     "metadata": {},
     "output_type": "execute_result"
    }
   ],
   "source": [
    "# 연습문제\n",
    "# 1. 리스트를 집합 자료형으로 변환\n",
    "\n",
    "myList = ['a', 'b', 'c']\n",
    "mySet = set(myList)\n",
    "mySet"
   ]
  },
  {
   "cell_type": "code",
   "execution_count": 2,
   "id": "e461d57b",
   "metadata": {},
   "outputs": [
    {
     "data": {
      "text/plain": [
       "{1, 2, 3, 4, 5}"
      ]
     },
     "execution_count": 2,
     "metadata": {},
     "output_type": "execute_result"
    }
   ],
   "source": [
    "# 2. Set을 이용하여 중복된 숫자 제거\n",
    "\n",
    "a = [1, 1, 1, 2, 2, 3, 3, 3, 4 ,4, 5]\n",
    "a = set(a)\n",
    "a"
   ]
  },
  {
   "cell_type": "code",
   "execution_count": 3,
   "id": "0de3b8d9",
   "metadata": {},
   "outputs": [
    {
     "data": {
      "text/plain": [
       "{'a', 'b'}"
      ]
     },
     "execution_count": 3,
     "metadata": {},
     "output_type": "execute_result"
    }
   ],
   "source": [
    "# 3. s1의 항목 중 s2에 포함된 항목 제거\n",
    "\n",
    "s1 = set(['a', 'b', 'c', 'd', 'e'])\n",
    "s2 = set(['c', 'd', 'e', 'f', 'g'])\n",
    "\n",
    "s1 - s2\n",
    "# s1.difference(s2)"
   ]
  },
  {
   "cell_type": "code",
   "execution_count": 8,
   "id": "2ad60ef3",
   "metadata": {},
   "outputs": [
    {
     "data": {
      "text/plain": [
       "set"
      ]
     },
     "execution_count": 8,
     "metadata": {},
     "output_type": "execute_result"
    }
   ],
   "source": [
    "# 4. 비어있는 집합 자료형은 어떻게 만들까?\n",
    "\n",
    "emptySet = set()\n",
    "type(emptySet)"
   ]
  },
  {
   "cell_type": "code",
   "execution_count": 9,
   "id": "4c78deea",
   "metadata": {},
   "outputs": [
    {
     "data": {
      "text/plain": [
       "{'a', 'b', 'c', 'd', 'e', 'f'}"
      ]
     },
     "execution_count": 9,
     "metadata": {},
     "output_type": "execute_result"
    }
   ],
   "source": [
    "# 5. 집합 자료형에 값들 추가\n",
    "\n",
    "a = {'a', 'b', 'c'}\n",
    "b = ['d', 'e', 'f']\n",
    "a.update(b)\n",
    "a"
   ]
  },
  {
   "cell_type": "code",
   "execution_count": 10,
   "id": "da558dff",
   "metadata": {},
   "outputs": [
    {
     "data": {
      "text/plain": [
       "False"
      ]
     },
     "execution_count": 10,
     "metadata": {},
     "output_type": "execute_result"
    }
   ],
   "source": [
    "# Bool 연습문제는 강의록에서 확인\n",
    "bool(0)"
   ]
  },
  {
   "cell_type": "code",
   "execution_count": 31,
   "id": "9c83855b",
   "metadata": {},
   "outputs": [
    {
     "data": {
      "text/plain": [
       "'홀홀홀'"
      ]
     },
     "execution_count": 31,
     "metadata": {},
     "output_type": "execute_result"
    }
   ],
   "source": [
    "# 실습문제\n",
    "\n",
    "#자료형 연습 문제 \n",
    "#%% 23 아래의 문자열에서 '홀' 만 출력하라.\n",
    "string = \"홀짝홀짝홀짝\"\n",
    "\n",
    "string = string[0] + string[2] + string[4]\n",
    "string"
   ]
  },
  {
   "cell_type": "code",
   "execution_count": 2,
   "id": "91e92976",
   "metadata": {},
   "outputs": [
    {
     "name": "stdout",
     "output_type": "stream",
     "text": [
      "01011112222\n",
      "01011112222\n"
     ]
    }
   ],
   "source": [
    "#%% 26 아래의 전화번호에서 하이픈 ('-')을 제거하고 '01011112222' 출력하라.\n",
    "\n",
    "phone_number = \"010-1111-2222\"\n",
    "\n",
    "print(phone_number[:3] + phone_number[4:8] + phone_number[9:])\n",
    "\n",
    "nohyphen=phone_number.replace(\"-\",\"\")\n",
    "print(nohyphen)"
   ]
  },
  {
   "cell_type": "code",
   "execution_count": 33,
   "id": "c15c85dd",
   "metadata": {},
   "outputs": [
    {
     "name": "stdout",
     "output_type": "stream",
     "text": [
      "Abcdfe2A354A32A\n"
     ]
    }
   ],
   "source": [
    "#%% 29 아래 문자열에서 소문자 'a'를 대문자 'A'로 변경하라.(replace 함수 사용)\n",
    "\n",
    "string = 'abcdfe2a354a32a'\n",
    "\n",
    "print(string.replace('a','A'))"
   ]
  },
  {
   "cell_type": "code",
   "execution_count": 34,
   "id": "17a5bc97",
   "metadata": {},
   "outputs": [
    {
     "name": "stdout",
     "output_type": "stream",
     "text": [
      "python java python java python java python java \n"
     ]
    }
   ],
   "source": [
    "#%% 15 'python java python java python java python java '가 출력되도록 아래에서 나머지 코드를 작성하라 \n",
    "\n",
    "t1 = 'python'\n",
    "t2 = 'java'\n",
    "\n",
    "t = t1 + \" \" + t2 + \" \"\n",
    "print(t * 4)"
   ]
  },
  {
   "cell_type": "code",
   "execution_count": 4,
   "id": "16a67f05",
   "metadata": {},
   "outputs": [
    {
     "data": {
      "text/plain": [
       "str"
      ]
     },
     "execution_count": 4,
     "metadata": {},
     "output_type": "execute_result"
    }
   ],
   "source": [
    "#%% 19 문자열 '720'를 정수형으로 변환하라.\n",
    "\n",
    "num_str = \"720\"\n",
    "\n",
    "int(num_str)\n",
    "\n",
    "# 다시 string으로 바꾸기\n",
    "type(str(num_str))"
   ]
  },
  {
   "cell_type": "code",
   "execution_count": 38,
   "id": "9a0a97be",
   "metadata": {},
   "outputs": [
    {
     "data": {
      "text/plain": [
       "['닥터 스트레인지', '슈퍼맨', '스플릿', '럭키', '배트맨']"
      ]
     },
     "execution_count": 38,
     "metadata": {},
     "output_type": "execute_result"
    }
   ],
   "source": [
    "# 43 movie_rank 리스트에는 아래와 같이 네 개의 영화 제목이 바인딩되어 있다. \n",
    "#\"슈퍼맨\"을 \"닥터 스트레인지\"와 \"스플릿\" 사이에 추가하라.\n",
    "\n",
    "movie_rank = ['닥터 스트레인지', '스플릿', '럭키', '배트맨']\n",
    "\n",
    "movie_rank.insert(1, \"슈퍼맨\")\n",
    "movie_rank"
   ]
  },
  {
   "cell_type": "code",
   "execution_count": 39,
   "id": "bcd76eb8",
   "metadata": {},
   "outputs": [
    {
     "name": "stdout",
     "output_type": "stream",
     "text": [
      "1\n",
      "7\n"
     ]
    }
   ],
   "source": [
    "#%% 47 다음 리스트에서 최댓값과 최솟값을 출력하라. (힌트: min(), max() 함수 사용)\n",
    "\n",
    "nums = [1, 2, 3, 4, 5, 6, 7]\n",
    "\n",
    "print(min(nums))\n",
    "print(max(nums))"
   ]
  },
  {
   "cell_type": "code",
   "execution_count": 40,
   "id": "98196634",
   "metadata": {},
   "outputs": [
    {
     "name": "stdout",
     "output_type": "stream",
     "text": [
      "28\n"
     ]
    }
   ],
   "source": [
    "#%% 48 다음 리스트의 합을 출력하라. (sum() 함수 사용)\n",
    "nums = [1, 2, 3, 4, 5, 6, 7]\n",
    "\n",
    "print(sum(nums))"
   ]
  },
  {
   "cell_type": "code",
   "execution_count": 41,
   "id": "ffe33589",
   "metadata": {},
   "outputs": [
    {
     "data": {
      "text/plain": [
       "12"
      ]
     },
     "execution_count": 41,
     "metadata": {},
     "output_type": "execute_result"
    }
   ],
   "source": [
    "#%% 49 다음 리스트에 저장된 데이터의 개수를 화면에 구하라.\n",
    "\n",
    "cook = [\"피자\", \"김밥\", \"만두\", \"양념치킨\", \"족발\", \"피자\", \"김치만두\", \"쫄면\", \"쏘세지\", \"라면\", \"팥빙수\", \"김치전\"]\n",
    "\n",
    "len(cook)"
   ]
  },
  {
   "cell_type": "code",
   "execution_count": 42,
   "id": "f74fe471",
   "metadata": {},
   "outputs": [
    {
     "name": "stdout",
     "output_type": "stream",
     "text": [
      "3.0\n"
     ]
    }
   ],
   "source": [
    "#%% 50 다음 리스트의 평균을 출력하라.\n",
    "\n",
    "nums = [1, 2, 3, 4, 5]\n",
    "\n",
    "count = len(nums)\n",
    "plus = sum(nums)\n",
    "\n",
    "print(plus/count)"
   ]
  },
  {
   "cell_type": "code",
   "execution_count": 43,
   "id": "cf41f514",
   "metadata": {},
   "outputs": [
    {
     "data": {
      "text/plain": [
       "'삼성전자 LG전자 Naver SK하이닉스 미래에셋대우'"
      ]
     },
     "execution_count": 43,
     "metadata": {},
     "output_type": "execute_result"
    }
   ],
   "source": [
    "#%%  56 interest 리스트를 '삼성전자 LG전자 Naver SK하이닉스 미래에셋대우' 로 출력하는 코드를 작성하시오 \n",
    "\n",
    "interest = ['삼성전자', 'LG전자', 'Naver', 'SK하이닉스', '미래에셋대우']\n",
    "\n",
    "\" \".join(interest)"
   ]
  },
  {
   "cell_type": "code",
   "execution_count": 44,
   "id": "d65a2f54",
   "metadata": {},
   "outputs": [
    {
     "data": {
      "text/plain": [
       "'삼성전자/LG전자/Naver/SK하이닉스/미래에셋대우'"
      ]
     },
     "execution_count": 44,
     "metadata": {},
     "output_type": "execute_result"
    }
   ],
   "source": [
    "#%% 57 interest 리스트를 '삼성전자/LG전자/Naver/SK하이닉스/미래에셋대우' 로 출력하는 코드를 작성하시오\n",
    "interest = ['삼성전자', 'LG전자', 'Naver', 'SK하이닉스', '미래에셋대우']\n",
    "\n",
    "'/'.join(interest)"
   ]
  },
  {
   "cell_type": "code",
   "execution_count": 45,
   "id": "7f90488e",
   "metadata": {},
   "outputs": [
    {
     "name": "stdout",
     "output_type": "stream",
     "text": [
      "삼성전자\n",
      "LG전자\n",
      "Naver\n",
      "SK하이닉스\n",
      "미래에셋대우\n"
     ]
    }
   ],
   "source": [
    "#%% 58\n",
    "'''\n",
    "interest 리스트를 \n",
    "삼성전자\n",
    "LG전자\n",
    "Naver\n",
    "SK하이닉스\n",
    "미래에셋대우 로 출력하는 코드를 작성하시오 \n",
    "'''\n",
    "interest = ['삼성전자', 'LG전자', 'Naver', 'SK하이닉스', '미래에셋대우']\n",
    "\n",
    "# print를 넣지 않으면 개행이 되지 않음!!\n",
    "print('\\n'.join(interest))"
   ]
  },
  {
   "cell_type": "code",
   "execution_count": 46,
   "id": "364c61fa",
   "metadata": {},
   "outputs": [
    {
     "data": {
      "text/plain": [
       "['삼성전자', 'LG전자', 'Naver']"
      ]
     },
     "execution_count": 46,
     "metadata": {},
     "output_type": "execute_result"
    }
   ],
   "source": [
    "#%% 59 회사 이름이 슬래시 ('/')로 구분되어 하나의 문자열로 저장되어 있다. \n",
    "#이를 interest 이름의 리스트로 분리 저장하라. (예. ['삼성전자', 'LG전자', 'Naver'])\n",
    "\n",
    "string = \"삼성전자/LG전자/Naver\"\n",
    "\n",
    "string.split('/')"
   ]
  },
  {
   "cell_type": "code",
   "execution_count": 47,
   "id": "d21c2b2d",
   "metadata": {},
   "outputs": [
    {
     "name": "stdout",
     "output_type": "stream",
     "text": [
      "1340.0\n"
     ]
    }
   ],
   "source": [
    "#%% 87 icecream 딕셔너리에서 아이스크림 판매 금액의 평균을 출력하라.\n",
    "\n",
    "icecream = {'탱크보이': 1200, '폴라포': 1200, '빵빠레': 1800, '월드콘': 1500, '메로나': 1000}\n",
    "\n",
    "length = len(icecream)\n",
    "plus = sum(icecream.values())\n",
    "\n",
    "print(plus/length)"
   ]
  },
  {
   "cell_type": "code",
   "execution_count": 48,
   "id": "072f9c63",
   "metadata": {},
   "outputs": [
    {
     "data": {
      "text/plain": [
       "{'탱크보이': 1200,\n",
       " '폴라포': 1200,\n",
       " '빵빠레': 1800,\n",
       " '월드콘': 1500,\n",
       " '메로나': 1000,\n",
       " '팥빙수': 2700,\n",
       " '아맛나': 1000}"
      ]
     },
     "execution_count": 48,
     "metadata": {},
     "output_type": "execute_result"
    }
   ],
   "source": [
    "#%% 88 아래의 new_product 딕셔너리를 icecream 딕셔너리에 추가하라. (update() 함수 사용)\n",
    "\n",
    "icecream = {'탱크보이': 1200, '폴라포': 1200, '빵빠레': 1800, '월드콘': 1500, '메로나': 1000}\n",
    "new_product = {'팥빙수':2700, '아맛나':1000}\n",
    "\n",
    "icecream.update(new_product)\n",
    "icecream"
   ]
  },
  {
   "cell_type": "code",
   "execution_count": 49,
   "id": "5a41a164",
   "metadata": {},
   "outputs": [
    {
     "name": "stdout",
     "output_type": "stream",
     "text": [
      "{'apple': 300, 'pear': 250, 'peach': 400}\n"
     ]
    }
   ],
   "source": [
    "#%% 89 아래 두 개의 튜플을 하나의 딕셔너리로 변환하라. keys를 키로, vals를 값으로 result 이름의 딕셔너리로 저장한다.\n",
    "#zip() 함수 사용 \n",
    "\n",
    "keys = (\"apple\", \"pear\", \"peach\")\n",
    "vals = (300, 250, 400)\n",
    "\n",
    "result = dict(zip(keys, vals))\n",
    "print(result)"
   ]
  },
  {
   "cell_type": "code",
   "execution_count": null,
   "id": "ac0a2d5b",
   "metadata": {},
   "outputs": [],
   "source": []
  }
 ],
 "metadata": {
  "kernelspec": {
   "display_name": "Python 3 (ipykernel)",
   "language": "python",
   "name": "python3"
  },
  "language_info": {
   "codemirror_mode": {
    "name": "ipython",
    "version": 3
   },
   "file_extension": ".py",
   "mimetype": "text/x-python",
   "name": "python",
   "nbconvert_exporter": "python",
   "pygments_lexer": "ipython3",
   "version": "3.9.12"
  }
 },
 "nbformat": 4,
 "nbformat_minor": 5
}
