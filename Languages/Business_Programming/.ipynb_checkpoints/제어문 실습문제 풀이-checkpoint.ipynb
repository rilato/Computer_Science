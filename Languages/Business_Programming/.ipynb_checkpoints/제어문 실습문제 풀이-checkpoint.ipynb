{
 "cells": [
  {
   "cell_type": "code",
   "execution_count": null,
   "metadata": {},
   "outputs": [],
   "source": [
    "[실습문제 (제어문)]\n",
    "\n",
    "다음과 같이 room과 해당 면적 area 변수를 정의하여 43~48 번을 연결하는 코드를 완성하시오. \n",
    "들여쓰기(indentation, tab=^^^^)을 지켜 에러가 나지 않도록 하시오.\n",
    "\n",
    "(43~45번 코드는 반드시 문제의 순서와 같지 않을 수 있음.)\n",
    "문제 43.\troom 이 “kit” 이라면 “Looking around in the kitchen.”을 print하는 코드를 작성하시오.\n",
    "문제 44.\troom 이 “kit”이 아니라면 \"looking around elsewhere.\"을 print 하는 코드를 작성하시오.\n",
    "문제 45.\troom 이 “bed”라면 \"looking around in the bedroom.\"를 print 하는 elif문을 작성하여 추가하시오. \n",
    "\n",
    "\n",
    "(46~48번 코드는 반드시 문제의 순서와 같지 않을 수 있음.)\n",
    "문제 46.\tarea 가 15보다 크면 “big place!”를 print하는 코드를 작성하시오.\n",
    "문제 47.\tarea 가 15보다 크지 않으면 “pretty small.”을 print 하는 코드를 작성하시오. \n",
    "문제 48.\tarea가 10보다 크면 “medium size, nice!\" 를 print하는 elif 문 코드를 추가로 작성하시오. \n",
    "\n",
    "문제 49. 다음의 값으로 43-48에 해당하는 코드를 실행하였을 때  print 되는 결과는 무엇인가?\n",
    "room = \"bed\"\n",
    "area = 12.0"
   ]
  },
  {
   "cell_type": "code",
   "execution_count": null,
   "metadata": {},
   "outputs": [],
   "source": [
    "문제 50.\t아래와 같이 정의된 house를 사용하여 “ the x(room) is y(area) sqm” 을 출력하는 for loop 문을 작성하시오. \n",
    "house는 코드 내에 주어진 값이므로 변경하지 말고 이후 코드를 작성하시오. \n",
    "house = [[\"hallway\", 11.25], \n",
    "         [\"kitchen\", 18.0], \n",
    "         [\"living room\", 20.0], \n",
    "         [\"bedroom\", 10.75], \n",
    "         [\"bathroom\", 9.50]]"
   ]
  },
  {
   "cell_type": "code",
   "execution_count": 15,
   "metadata": {},
   "outputs": [
    {
     "name": "stdout",
     "output_type": "stream",
     "text": [
      "looking around in the bedroom.\n"
     ]
    }
   ],
   "source": [
    "#%% 43~45\n",
    "room = \"bed\"\n",
    "area = 12.0\n",
    "\n",
    "if room == \"kit\" :\n",
    "    print(\"looking around in the kitchen.\")\n",
    "elif room == \"bed\":\n",
    "    print(\"looking around in the bedroom.\")\n",
    "else :\n",
    "    print(\"looking around elsewhere.\")\n",
    "   "
   ]
  },
  {
   "cell_type": "code",
   "execution_count": 16,
   "metadata": {},
   "outputs": [
    {
     "name": "stdout",
     "output_type": "stream",
     "text": [
      "medium size, nice!\n"
     ]
    }
   ],
   "source": [
    "#%%46~48\n",
    "if area > 15 :\n",
    "    print(\"big place!\")\n",
    "elif area > 10 :\n",
    "    print(\"medium size, nice!\")\n",
    "else :\n",
    "    print(\"pretty small.\")"
   ]
  },
  {
   "cell_type": "code",
   "execution_count": null,
   "metadata": {},
   "outputs": [],
   "source": [
    "#%%49\n",
    "\n",
    "#looking around in the bedroom.\n",
    "#medium size, nice! \n"
   ]
  },
  {
   "cell_type": "code",
   "execution_count": null,
   "metadata": {},
   "outputs": [],
   "source": [
    "문제 50.\t아래와 같이 정의된 house를 사용하여 “the x(room) is y(area) sqm” 을 출력하는 for loop 문을 작성하시오. \n",
    "house는 코드 내에 주어진 값이므로 변경하지 말고 이후 코드를 작성하시오. \n",
    "house = [[\"hallway\", 11.25], \n",
    "         [\"kitchen\", 18.0], \n",
    "         [\"living room\", 20.0], \n",
    "         [\"bedroom\", 10.75], \n",
    "         [\"bathroom\", 9.50]]"
   ]
  },
  {
   "cell_type": "code",
   "execution_count": 17,
   "metadata": {},
   "outputs": [
    {
     "name": "stdout",
     "output_type": "stream",
     "text": [
      "[['hallway', 11.25], ['kitchen', 18.0], ['living room', 20.0], ['bedroom', 10.75], ['bathroom', 9.5]]\n"
     ]
    }
   ],
   "source": [
    "#%% 50\n",
    "house = [[\"hallway\", 11.25], \n",
    "         [\"kitchen\", 18.0], \n",
    "         [\"living room\", 20.0], \n",
    "         [\"bedroom\", 10.75], \n",
    "         [\"bathroom\", 9.50]]\n",
    "\n",
    "print(house)"
   ]
  },
  {
   "cell_type": "code",
   "execution_count": 18,
   "metadata": {},
   "outputs": [
    {
     "name": "stdout",
     "output_type": "stream",
     "text": [
      "the hallway is 11.25 sqm\n",
      "the kitchen is 18.0 sqm\n",
      "the living room is 20.0 sqm\n",
      "the bedroom is 10.75 sqm\n",
      "the bathroom is 9.5 sqm\n"
     ]
    }
   ],
   "source": [
    "for x in house :\n",
    "    print(\"the \" + x[0] + \" is \" + str(x[1]) + \" sqm\")\n",
    "    "
   ]
  },
  {
   "cell_type": "code",
   "execution_count": 8,
   "metadata": {},
   "outputs": [
    {
     "name": "stdout",
     "output_type": "stream",
     "text": [
      "the hallway is 11.25 sqm\n",
      "the kitchen is 18.00 sqm\n",
      "the living room is 20.00 sqm\n",
      "the bedroom is 10.75 sqm\n",
      "the bathroom is 9.50 sqm\n"
     ]
    }
   ],
   "source": [
    "for i in house:\n",
    "    print(\"the %s is %0.2f sqm\" % (i[0],i[1]))\n",
    "    "
   ]
  },
  {
   "cell_type": "code",
   "execution_count": 19,
   "metadata": {},
   "outputs": [
    {
     "name": "stdout",
     "output_type": "stream",
     "text": [
      "3\n",
      "2\n",
      "1\n",
      "0\n"
     ]
    }
   ],
   "source": [
    "#%% 51\n",
    "\"\"\"\n",
    "for loop을 이용하여 list[3,2,1,0] 의 값을 순서대로 print하는 코드를 작성하시오.\n",
    "[출력결과]\n",
    "3\n",
    "2\n",
    "1\n",
    "0\n",
    "\n",
    "\"\"\"\n",
    "\n",
    "lst = [3,2,1,0]\n",
    "for num in lst:\n",
    "    print(num)\n"
   ]
  },
  {
   "cell_type": "code",
   "execution_count": 21,
   "metadata": {},
   "outputs": [
    {
     "name": "stdout",
     "output_type": "stream",
     "text": [
      "Input Score: 45\n",
      "Grade is F\n"
     ]
    }
   ],
   "source": [
    "#%% 52. input()함수로 점수를 받아 학점을 부여하는 코드를 작성하시오. \n",
    "#90점 이상은 A, 80점 이상은 B, 70점 이상은 C, 60점 이상은 D, 나머지는 F.\n",
    "    \n",
    "score = int(input(('Input Score: ')))   # 사용자로부터 정수값을 입력받습니다\n",
    "if 90 <= score <= 100:\n",
    "    grade = \"A\"\n",
    "elif 80 <= score < 90:\n",
    "    grade = \"B\"\n",
    "elif 70 <= score < 80:\n",
    "    grade = \"C\"\n",
    "elif 60 <= score < 70:\n",
    "    grade = \"D\"\n",
    "else:\n",
    "    grade = \"F\"\n",
    "\n",
    "print(\"Grade is \" + grade)\n",
    "#%%"
   ]
  },
  {
   "cell_type": "code",
   "execution_count": 22,
   "metadata": {},
   "outputs": [
    {
     "name": "stdout",
     "output_type": "stream",
     "text": [
      "-- 1 ---\n",
      "1 * 1 = 1\n",
      "1 * 2 = 2\n",
      "1 * 3 = 3\n",
      "1 * 4 = 4\n",
      "1 * 5 = 5\n",
      "1 * 6 = 6\n",
      "1 * 7 = 7\n",
      "1 * 8 = 8\n",
      "1 * 9 = 9\n",
      "-- 2 ---\n",
      "2 * 1 = 2\n",
      "2 * 2 = 4\n",
      "2 * 3 = 6\n",
      "2 * 4 = 8\n",
      "2 * 5 = 10\n",
      "2 * 6 = 12\n",
      "2 * 7 = 14\n",
      "2 * 8 = 16\n",
      "2 * 9 = 18\n"
     ]
    }
   ],
   "source": [
    "# 53\n",
    "n = 2\n",
    "k = 0\n",
    "\n",
    "for i in range(n):\n",
    "    i += 1\n",
    "    print('-- %d ---' %i)\n",
    "    for k in range(9):\n",
    "        k += 1\n",
    "        print('%d * %d = %d' %(i, k, i*k))\n",
    "    \n",
    "    if i > 2:\n",
    "        break"
   ]
  },
  {
   "cell_type": "code",
   "execution_count": null,
   "metadata": {},
   "outputs": [],
   "source": []
  }
 ],
 "metadata": {
  "kernelspec": {
   "display_name": "Python 3 (ipykernel)",
   "language": "python",
   "name": "python3"
  },
  "language_info": {
   "codemirror_mode": {
    "name": "ipython",
    "version": 3
   },
   "file_extension": ".py",
   "mimetype": "text/x-python",
   "name": "python",
   "nbconvert_exporter": "python",
   "pygments_lexer": "ipython3",
   "version": "3.9.12"
  }
 },
 "nbformat": 4,
 "nbformat_minor": 4
}
