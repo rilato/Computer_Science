{
 "cells": [
  {
   "cell_type": "code",
   "execution_count": 38,
   "id": "0c764c43",
   "metadata": {},
   "outputs": [
    {
     "name": "stdout",
     "output_type": "stream",
     "text": [
      "1 2 3 4 5 6 7 8 9 10 11 12 13 14 15 16 17 18 19 20 21 22 23 24 25 26 27 28 29 30 31 32 33 34 35 36 37 38 39 40 41 42 43 44 45 46 47 48 49 50 51 52 53 54 55 56 57 58 59 60 61 62 63 64 65 66 67 68 69 70 71 72 73 74 75 76 77 78 79 80 81 82 83 84 85 86 87 88 89 90 91 92 93 94 95 96 97 98 99 100 "
     ]
    }
   ],
   "source": [
    "# 연습문제\n",
    "\n",
    "# 1. 1부터 100까지 출력\n",
    "\n",
    "# range에서 마지막 범위를 나타내는 숫자는 포함되지 않는다!!!\n",
    "for i in range(1, 101):\n",
    "    print(i, end = \" \")"
   ]
  },
  {
   "cell_type": "code",
   "execution_count": 41,
   "id": "8eff57eb",
   "metadata": {},
   "outputs": [
    {
     "name": "stdout",
     "output_type": "stream",
     "text": [
      "100500\n"
     ]
    }
   ],
   "source": [
    "# 2. 5의 배수의 총합\n",
    "\n",
    "add = 0\n",
    "# sum2 = 0\n",
    "\n",
    "# range에서 마지막 범위를 나타내는 숫자는 포함되지 않는다!!!\n",
    "for i in range(1, 1001):\n",
    "    if i % 5 == 0:\n",
    "        add += i\n",
    "\n",
    "# for i in range(1, 201):\n",
    "    #sum2 += 5 * i\n",
    "        \n",
    "print(add)\n",
    "# print(sum2)"
   ]
  },
  {
   "cell_type": "code",
   "execution_count": 42,
   "id": "7aee4a85",
   "metadata": {},
   "outputs": [
    {
     "name": "stdout",
     "output_type": "stream",
     "text": [
      "79.0\n"
     ]
    }
   ],
   "source": [
    "# 3. 학급의 평균 점수\n",
    "\n",
    "A = [70, 60, 55, 75, 95, 90, 80, 80, 85, 100]\n",
    "\n",
    "add = 0\n",
    "length = len(A)\n",
    "\n",
    "# A 자체가 리스트이므로, range(A)가 아니다!!\n",
    "for i in A:\n",
    "    add += i\n",
    "    \n",
    "print(add / length)"
   ]
  },
  {
   "cell_type": "code",
   "execution_count": 40,
   "id": "33fc3d15",
   "metadata": {},
   "outputs": [
    {
     "name": "stdout",
     "output_type": "stream",
     "text": [
      "A : 3명\n",
      "B : 3명\n",
      "O : 3명\n",
      "AB : 3명\n",
      "{'A': 3, 'B': 3, 'O': 3, 'AB': 3}\n"
     ]
    }
   ],
   "source": [
    "# 4. 혈액형\n",
    "\n",
    "bloodType = ['A', 'B', 'A', 'O', 'AB', 'AB', 'O', 'A', 'B', 'O', 'B', 'AB']\n",
    "ans = {'A':0, 'B':0, 'O':0, 'AB':0}\n",
    "\n",
    "# 딕셔너리 값에 접근하기 위해 ans['A']처럼 key값을 인덱싱하여 VALUE를 얻어낸다!!\n",
    "for i in bloodType:\n",
    "    if i == 'A':\n",
    "        ans['A'] += 1\n",
    "    elif i == 'B':\n",
    "        ans['B'] += 1\n",
    "    elif i == 'O':\n",
    "        ans['O'] += 1\n",
    "    else:\n",
    "        ans['AB'] += 1\n",
    "\n",
    "# dictionary의 key와 value를 모두 출력하기 위해, .items()를 이용한다!!\n",
    "for key, value in ans.items():\n",
    "    print(f'{key} : {value}명')\n",
    "    \n",
    "    \n",
    "    \n",
    "    \n",
    "# 또 다른 풀이\n",
    "\n",
    "# 결과를 저장할 빈 딕셔너리\n",
    "result = {}\n",
    "\n",
    "for i in bloodType:\n",
    "    # result가 있으면 그 값 증가\n",
    "    if i in result:\n",
    "        result[i] += 1\n",
    "    # result가 없으면 key와 value를 새로 만들고 값을 1로 설정\n",
    "    else:\n",
    "        result[i] = 1\n",
    "        \n",
    "print(result)"
   ]
  },
  {
   "cell_type": "code",
   "execution_count": 55,
   "id": "3ae3b89c",
   "metadata": {},
   "outputs": [
    {
     "name": "stdout",
     "output_type": "stream",
     "text": [
      "숫자를 입력하시오 : 3\n",
      "3는 홀수입니다.\n"
     ]
    }
   ],
   "source": [
    "# 연습문제\n",
    "\n",
    "# 1. 홀수 짝수 판별\n",
    "\n",
    "def is_odd(a):\n",
    "    if (a % 2 == 1):\n",
    "        return True\n",
    "    else:\n",
    "        return False\n",
    "\n",
    "a = int(input(\"숫자를 입력하시오 : \"))\n",
    "\n",
    "if (is_odd(a)):\n",
    "    print(f'{a}는 홀수입니다.')\n",
    "else:\n",
    "    print(f'{a}는 짝수입니다.')"
   ]
  },
  {
   "cell_type": "code",
   "execution_count": 61,
   "id": "41081bb4",
   "metadata": {},
   "outputs": [
    {
     "data": {
      "text/plain": [
       "3.0"
      ]
     },
     "execution_count": 61,
     "metadata": {},
     "output_type": "execute_result"
    }
   ],
   "source": [
    "# 2. 평균값 계산\n",
    "\n",
    "def average(*num):\n",
    "    add = 0\n",
    "    \n",
    "    for i in num:\n",
    "        add += i\n",
    "    \n",
    "    return add/len(num)\n",
    "\n",
    "average(1, 2, 3, 4, 5)"
   ]
  },
  {
   "cell_type": "code",
   "execution_count": 63,
   "id": "2506d7f5",
   "metadata": {},
   "outputs": [
    {
     "name": "stdout",
     "output_type": "stream",
     "text": [
      "5 * 1 = 5\n",
      "5 * 2 = 10\n",
      "5 * 3 = 15\n",
      "5 * 4 = 20\n",
      "5 * 5 = 25\n",
      "5 * 6 = 30\n",
      "5 * 7 = 35\n",
      "5 * 8 = 40\n",
      "5 * 9 = 45\n"
     ]
    }
   ],
   "source": [
    "# 3. 구구단 출력\n",
    "\n",
    "def product(n):\n",
    "    for i in range(1, 10):\n",
    "        print(f'{n} * {i} = {n * i}')\n",
    "        \n",
    "product(5)"
   ]
  },
  {
   "cell_type": "code",
   "execution_count": 64,
   "id": "26398537",
   "metadata": {},
   "outputs": [
    {
     "name": "stdout",
     "output_type": "stream",
     "text": [
      "kit\n",
      "Looking around in the kitchen.\n"
     ]
    }
   ],
   "source": [
    "# 실습문제\n",
    "\n",
    "# 1. \n",
    "\n",
    "room = input()\n",
    "\n",
    "if room == \"kit\":\n",
    "    print(\"Looking around in the kitchen.\")\n",
    "if room != \"kit\":\n",
    "    print(\"looking around elsewhere.\")\n",
    "elif room == \"bed\":\n",
    "    print(\"looking around in the bedroom.\")"
   ]
  },
  {
   "cell_type": "code",
   "execution_count": 65,
   "id": "10482d7f",
   "metadata": {},
   "outputs": [
    {
     "name": "stdout",
     "output_type": "stream",
     "text": [
      "12\n",
      "pretty small.\n"
     ]
    }
   ],
   "source": [
    "# 2.\n",
    "\n",
    "area = int(input())\n",
    "\n",
    "if area > 15:\n",
    "    print(\"big place!\")\n",
    "if area <= 15:\n",
    "    print(\"pretty small.\")\n",
    "elif area > 10:\n",
    "    print(\"medium size, nice!\")"
   ]
  },
  {
   "cell_type": "code",
   "execution_count": 66,
   "id": "23f9abc8",
   "metadata": {},
   "outputs": [
    {
     "name": "stdout",
     "output_type": "stream",
     "text": [
      "looking around elsewhere.\n",
      "pretty small.\n"
     ]
    }
   ],
   "source": [
    "# 3.\n",
    "\n",
    "room = \"bed\"\n",
    "area = 12.0\n",
    "\n",
    "if room == \"kit\":\n",
    "    print(\"Looking around in the kitchen.\")\n",
    "if room != \"kit\":\n",
    "    print(\"looking around elsewhere.\")\n",
    "elif room == \"bed\":\n",
    "    print(\"looking around in the bedroom.\")\n",
    "    \n",
    "if area > 15:\n",
    "    print(\"big place!\")\n",
    "if area <= 15:\n",
    "    print(\"pretty small.\")\n",
    "elif area > 10:\n",
    "    print(\"medium size, nice!\")"
   ]
  },
  {
   "cell_type": "code",
   "execution_count": 67,
   "id": "5bffefb6",
   "metadata": {},
   "outputs": [
    {
     "name": "stdout",
     "output_type": "stream",
     "text": [
      "the hallway is 11.25 sqm \n",
      "\n",
      "the kitchen is 18.0 sqm \n",
      "\n",
      "the living room is 20.0 sqm \n",
      "\n",
      "the bedroom is 10.75 sqm \n",
      "\n",
      "the bathroom is 9.5 sqm \n",
      "\n"
     ]
    }
   ],
   "source": [
    "# 4.\n",
    "\n",
    "house = [[\"hallway\", 11.25], \n",
    "         [\"kitchen\", 18.0], \n",
    "         [\"living room\", 20.0], \n",
    "         [\"bedroom\", 10.75], \n",
    "         [\"bathroom\", 9.50]]\n",
    "\n",
    "check = True\n",
    "\n",
    "for i in house:\n",
    "    for j in i:\n",
    "        if check == True:\n",
    "            print(f'the {j} is', end = \" \")\n",
    "            check = False;\n",
    "        else:\n",
    "            print(f'{j} sqm', end = \" \")\n",
    "            check = True;\n",
    "    print('\\n')"
   ]
  },
  {
   "cell_type": "code",
   "execution_count": 69,
   "id": "08e29361",
   "metadata": {},
   "outputs": [
    {
     "name": "stdout",
     "output_type": "stream",
     "text": [
      "3\n",
      "2\n",
      "1\n",
      "0\n"
     ]
    }
   ],
   "source": [
    "# 5.\n",
    "\n",
    "myList = [3,2,1,0]\n",
    "\n",
    "for i in myList:\n",
    "    print(i)"
   ]
  },
  {
   "cell_type": "code",
   "execution_count": 70,
   "id": "d9bc3681",
   "metadata": {},
   "outputs": [
    {
     "name": "stdout",
     "output_type": "stream",
     "text": [
      "70\n",
      "C\n"
     ]
    }
   ],
   "source": [
    "# 6.\n",
    "\n",
    "# 숫자로 입력받기 위해 반드시 int 사용!\n",
    "grade = int(input())\n",
    "\n",
    "if(grade >= 90):\n",
    "    print('A')\n",
    "elif(grade >= 80):\n",
    "    print('B')\n",
    "elif(grade >= 70):\n",
    "    print('C')\n",
    "elif(grade >= 60):\n",
    "    print('D')\n",
    "else:\n",
    "    print('F')"
   ]
  },
  {
   "cell_type": "code",
   "execution_count": 71,
   "id": "dda34e6d",
   "metadata": {},
   "outputs": [
    {
     "name": "stdout",
     "output_type": "stream",
     "text": [
      "-- 1 ---\n",
      "1 * 1 = 1\n",
      "1 * 2 = 2\n",
      "1 * 3 = 3\n",
      "1 * 4 = 4\n",
      "1 * 5 = 5\n",
      "1 * 6 = 6\n",
      "1 * 7 = 7\n",
      "1 * 8 = 8\n",
      "1 * 9 = 9\n",
      "-- 2 ---\n",
      "2 * 1 = 2\n",
      "2 * 2 = 4\n",
      "2 * 3 = 6\n",
      "2 * 4 = 8\n",
      "2 * 5 = 10\n",
      "2 * 6 = 12\n",
      "2 * 7 = 14\n",
      "2 * 8 = 16\n",
      "2 * 9 = 18\n"
     ]
    }
   ],
   "source": [
    "# 7.\n",
    "\n",
    "print(\"-- 1 ---\")\n",
    "\n",
    "for i in range(1,10):\n",
    "    print(f'1 * {i} = {i}')\n",
    "\n",
    "print(\"-- 2 ---\")\n",
    "\n",
    "for i in range(1, 10):\n",
    "    print(f'2 * {i} = {2 * i}')"
   ]
  },
  {
   "cell_type": "code",
   "execution_count": null,
   "id": "4aa1440a",
   "metadata": {},
   "outputs": [],
   "source": []
  }
 ],
 "metadata": {
  "kernelspec": {
   "display_name": "Python 3 (ipykernel)",
   "language": "python",
   "name": "python3"
  },
  "language_info": {
   "codemirror_mode": {
    "name": "ipython",
    "version": 3
   },
   "file_extension": ".py",
   "mimetype": "text/x-python",
   "name": "python",
   "nbconvert_exporter": "python",
   "pygments_lexer": "ipython3",
   "version": "3.9.12"
  }
 },
 "nbformat": 4,
 "nbformat_minor": 5
}
