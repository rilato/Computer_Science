{
 "cells": [
  {
   "cell_type": "markdown",
   "metadata": {},
   "source": [
    "(숫자,문자열,변수)"
   ]
  },
  {
   "cell_type": "markdown",
   "metadata": {},
   "source": [
    "2.1 1시간은 몇초인가? 대화식 인터프리터를 사용해서 계산해보시오. 1시간은 60분이고 1분은 60초이다."
   ]
  },
  {
   "cell_type": "code",
   "execution_count": null,
   "metadata": {},
   "outputs": [],
   "source": []
  },
  {
   "cell_type": "markdown",
   "metadata": {},
   "source": [
    "2.1 2.1의 결과를 seconds_per_hour 변수에 저장하고 출력하시오."
   ]
  },
  {
   "cell_type": "code",
   "execution_count": null,
   "metadata": {},
   "outputs": [],
   "source": []
  },
  {
   "cell_type": "markdown",
   "metadata": {},
   "source": [
    "2.3 1일은 몇초인가? seconds_per_day 변수를 사용하여 결과를 저장하고 출력하시오."
   ]
  },
  {
   "cell_type": "code",
   "execution_count": null,
   "metadata": {},
   "outputs": [],
   "source": []
  },
  {
   "cell_type": "markdown",
   "metadata": {},
   "source": [
    "2.5 seconds_per_day를 seconds_per_hour로 나누어 소숫점 이하 결과가 나타나도록 출력하시오."
   ]
  },
  {
   "cell_type": "code",
   "execution_count": null,
   "metadata": {},
   "outputs": [],
   "source": []
  },
  {
   "cell_type": "markdown",
   "metadata": {},
   "source": [
    "(리스트, 튜플, 딕셔너리, 셋)"
   ]
  },
  {
   "cell_type": "markdown",
   "metadata": {},
   "source": [
    "3.1 출생년도에 대한 리스트 year_lists를 만드시오. 출생년도를 첫번째 요소로 하고 1년씩 증가하는 다섯번째 생일까지의 요소를 넣으시오. 출생년도가 1980이라고 가정하시오. 만나이로 계산하시오."
   ]
  },
  {
   "cell_type": "code",
   "execution_count": 26,
   "metadata": {},
   "outputs": [
    {
     "name": "stdout",
     "output_type": "stream",
     "text": [
      "[1980, 1981, 1982, 1983, 1984, 1985]\n"
     ]
    }
   ],
   "source": [
    "year_lists = []\n",
    "for i in range(6):\n",
    "    _________________________\n",
    "print(year_lists)"
   ]
  },
  {
   "cell_type": "code",
   "execution_count": 110,
   "metadata": {},
   "outputs": [
    {
     "name": "stdout",
     "output_type": "stream",
     "text": [
      "[1980, 1981, 1982, 1983, 1984, 1985]\n"
     ]
    }
   ],
   "source": [
    "#리스트 내포 사용\n",
    "year_lists=[________________________]\n",
    "print(year_lists)"
   ]
  },
  {
   "cell_type": "markdown",
   "metadata": {},
   "source": [
    "3.2 year_lists의 세살 생일의 년도를 출력하시오. 만으로 계산하시오."
   ]
  },
  {
   "cell_type": "code",
   "execution_count": 2,
   "metadata": {
    "collapsed": true
   },
   "outputs": [
    {
     "ename": "NameError",
     "evalue": "name 'year_lists' is not defined",
     "output_type": "error",
     "traceback": [
      "\u001b[0;31m---------------------------------------------------------------------------\u001b[0m",
      "\u001b[0;31mNameError\u001b[0m                                 Traceback (most recent call last)",
      "\u001b[0;32m/var/folders/fh/blj5j5sx0vj3zl9rttysrg680000gp/T/ipykernel_74839/1932998069.py\u001b[0m in \u001b[0;36m<module>\u001b[0;34m\u001b[0m\n\u001b[0;32m----> 1\u001b[0;31m \u001b[0mprint\u001b[0m\u001b[0;34m(\u001b[0m\u001b[0myear_lists\u001b[0m\u001b[0;34m[\u001b[0m\u001b[0;36m3\u001b[0m\u001b[0;34m]\u001b[0m\u001b[0;34m)\u001b[0m\u001b[0;34m\u001b[0m\u001b[0;34m\u001b[0m\u001b[0m\n\u001b[0m",
      "\u001b[0;31mNameError\u001b[0m: name 'year_lists' is not defined"
     ]
    }
   ],
   "source": [
    "print(year_lists[__])"
   ]
  },
  {
   "cell_type": "markdown",
   "metadata": {},
   "source": [
    "3.3 years_list 중 가장 나이가 많을 때의 년도는?"
   ]
  },
  {
   "cell_type": "code",
   "execution_count": 27,
   "metadata": {},
   "outputs": [
    {
     "name": "stdout",
     "output_type": "stream",
     "text": [
      "1985\n"
     ]
    }
   ],
   "source": [
    "print(year_lists[__])"
   ]
  },
  {
   "cell_type": "markdown",
   "metadata": {},
   "source": [
    "3.4 things 리스트를 만드시오. 이 리스트는 'mozzarella','cinderella','salmonella' 세 문자열을 요소로 갖는다."
   ]
  },
  {
   "cell_type": "code",
   "execution_count": 51,
   "metadata": {},
   "outputs": [],
   "source": []
  },
  {
   "cell_type": "code",
   "execution_count": 39,
   "metadata": {},
   "outputs": [
    {
     "name": "stdout",
     "output_type": "stream",
     "text": [
      "['mozzarella', 'cinderella', 'salmonella']\n"
     ]
    }
   ],
   "source": [
    "print(things)"
   ]
  },
  {
   "cell_type": "markdown",
   "metadata": {},
   "source": [
    "3.5 things 리스트에서 사람 이름의(cinderrella) 첫 글자를 대문자로 바꿔서 출력하시오.(문자열.capitalize() 함수 사용) "
   ]
  },
  {
   "cell_type": "code",
   "execution_count": null,
   "metadata": {},
   "outputs": [],
   "source": []
  },
  {
   "cell_type": "code",
   "execution_count": 45,
   "metadata": {},
   "outputs": [
    {
     "name": "stdout",
     "output_type": "stream",
     "text": [
      "['mozzarella', 'Cinderella', 'salmonella']\n"
     ]
    }
   ],
   "source": [
    "print(things)"
   ]
  },
  {
   "cell_type": "markdown",
   "metadata": {},
   "source": [
    "3.6 things 리스트의 치즈 요소를 모두 대문자로 바꿔 출력하시오."
   ]
  },
  {
   "cell_type": "code",
   "execution_count": 46,
   "metadata": {},
   "outputs": [
    {
     "data": {
      "text/plain": [
       "'MOZZARELLA'"
      ]
     },
     "execution_count": 46,
     "metadata": {},
     "output_type": "execute_result"
    }
   ],
   "source": [
    "things[0].__________"
   ]
  },
  {
   "cell_type": "markdown",
   "metadata": {},
   "source": [
    "3.7 things 리스트에 질병 요소가 있다면 제거한 뒤 리스트를 출력하시오."
   ]
  },
  {
   "cell_type": "code",
   "execution_count": null,
   "metadata": {},
   "outputs": [],
   "source": [
    "things=['mozzarella','cinderella','salmonella']"
   ]
  },
  {
   "cell_type": "code",
   "execution_count": null,
   "metadata": {},
   "outputs": [],
   "source": []
  },
  {
   "cell_type": "code",
   "execution_count": 50,
   "metadata": {},
   "outputs": [
    {
     "data": {
      "text/plain": [
       "['mozzarella', 'Cinderella']"
      ]
     },
     "execution_count": 50,
     "metadata": {},
     "output_type": "execute_result"
    }
   ],
   "source": [
    "things"
   ]
  },
  {
   "cell_type": "markdown",
   "metadata": {},
   "source": [
    "or"
   ]
  },
  {
   "cell_type": "code",
   "execution_count": null,
   "metadata": {},
   "outputs": [],
   "source": [
    "things=['mozzarella','cinderella','salmonella']"
   ]
  },
  {
   "cell_type": "code",
   "execution_count": 52,
   "metadata": {},
   "outputs": [],
   "source": []
  },
  {
   "cell_type": "code",
   "execution_count": 53,
   "metadata": {},
   "outputs": [
    {
     "data": {
      "text/plain": [
       "['mozzarella', 'cinderella']"
      ]
     },
     "execution_count": 53,
     "metadata": {},
     "output_type": "execute_result"
    }
   ],
   "source": [
    "things"
   ]
  },
  {
   "cell_type": "markdown",
   "metadata": {},
   "source": [
    "3.8 surprise 리스트를 생성하시오. 이 리스트는 'Groucho','Chico','Harpo' 세 문자열을 요소로 갖는다."
   ]
  },
  {
   "cell_type": "code",
   "execution_count": 54,
   "metadata": {},
   "outputs": [],
   "source": []
  },
  {
   "cell_type": "markdown",
   "metadata": {},
   "source": [
    "3.15 이차원 딕셔너리 life를 만드시오. 최상위 키는 'animals','plants','other' 이다. 그리고 'animals'는 각각 'cats','octopi','emus'를 키로 하고 'Henri','Grumpy','Lucy'를 값으로 하는 또 다른 딕셔너리를 참조하고 있다. 나머지 요소는 빈 딕셔너리를 참조하시오."
   ]
  },
  {
   "cell_type": "code",
   "execution_count": 66,
   "metadata": {},
   "outputs": [],
   "source": []
  },
  {
   "cell_type": "code",
   "execution_count": 67,
   "metadata": {},
   "outputs": [
    {
     "data": {
      "text/plain": [
       "{'animals': {'cats': 'Henri', 'ocpoti': 'Grumpy', 'emus': 'Lucy'},\n",
       " 'plants': {},\n",
       " 'other': {}}"
      ]
     },
     "execution_count": 67,
     "metadata": {},
     "output_type": "execute_result"
    }
   ],
   "source": [
    "life"
   ]
  },
  {
   "cell_type": "markdown",
   "metadata": {},
   "source": [
    "3.16 life 딕셔너리의 최상위 키를 출력하시오."
   ]
  },
  {
   "cell_type": "code",
   "execution_count": 69,
   "metadata": {},
   "outputs": [
    {
     "data": {
      "text/plain": [
       "dict_keys(['animals', 'plants', 'other'])"
      ]
     },
     "execution_count": 69,
     "metadata": {},
     "output_type": "execute_result"
    }
   ],
   "source": []
  },
  {
   "cell_type": "markdown",
   "metadata": {},
   "source": [
    "3.17 life['animals']의 모든 키를 출력하시오."
   ]
  },
  {
   "cell_type": "code",
   "execution_count": 70,
   "metadata": {},
   "outputs": [
    {
     "data": {
      "text/plain": [
       "dict_keys(['cats', 'ocpoti', 'emus'])"
      ]
     },
     "execution_count": 70,
     "metadata": {},
     "output_type": "execute_result"
    }
   ],
   "source": []
  },
  {
   "cell_type": "markdown",
   "metadata": {},
   "source": [
    "3.18 life['animals']의 모든 값을 출력하시오."
   ]
  },
  {
   "cell_type": "code",
   "execution_count": 73,
   "metadata": {},
   "outputs": [
    {
     "data": {
      "text/plain": [
       "dict_values(['Henri', 'Grumpy', 'Lucy'])"
      ]
     },
     "execution_count": 73,
     "metadata": {},
     "output_type": "execute_result"
    }
   ],
   "source": []
  },
  {
   "cell_type": "markdown",
   "metadata": {},
   "source": [
    "(제어문)"
   ]
  },
  {
   "cell_type": "markdown",
   "metadata": {},
   "source": [
    "4.1 guess_me 변수에 7을 할당한다. 그리고 값이 7보다 작으면 문자열 'too low'를, 7보다 크면 'too high'를, 7과 같으면 'just right'를 출력하는 조건문(if, elif, else) 를 작성하라."
   ]
  },
  {
   "cell_type": "code",
   "execution_count": 20,
   "metadata": {},
   "outputs": [
    {
     "name": "stdout",
     "output_type": "stream",
     "text": [
      "just right\n"
     ]
    }
   ],
   "source": [
    "guess_me = 7\n",
    "\n",
    ".\n",
    ".\n",
    ".\n",
    "\n"
   ]
  },
  {
   "cell_type": "markdown",
   "metadata": {},
   "source": [
    "4.2 guess_me 변수에 7을 할당하고 start 변수에 1을 할당한다. start와 guess_me를 비교하는 while 문을 작성하라. start가 guess_me보다 작은 경우에는 'too low'를 출력하고 start와 guess_me가 같은 경우에는 'found it!'을 출력하고 루프를 종료한다. start가 guess_me보다 큰 경우에는 'oops'를 출력하고 루프를 종료한다."
   ]
  },
  {
   "cell_type": "code",
   "execution_count": 27,
   "metadata": {},
   "outputs": [
    {
     "name": "stdout",
     "output_type": "stream",
     "text": [
      "oops!\n"
     ]
    }
   ],
   "source": [
    "guess_me = 7\n",
    "start = 3\n",
    "\n",
    "while True:\n",
    "    .\n",
    "    .\n",
    "    .\n",
    "    \n",
    "    \n",
    "    \n",
    "    \n",
    "    "
   ]
  },
  {
   "cell_type": "markdown",
   "metadata": {},
   "source": [
    "4.3 for 문으로 리스트값 [3,2,1,0]을 출력하시오."
   ]
  },
  {
   "cell_type": "code",
   "execution_count": 3,
   "metadata": {},
   "outputs": [
    {
     "name": "stdout",
     "output_type": "stream",
     "text": [
      "[0, 1, 2, 3]\n"
     ]
    }
   ],
   "source": [
    "lst = []\n",
    ".\n",
    ".\n",
    "\n",
    "\n",
    "print(lst)"
   ]
  },
  {
   "cell_type": "markdown",
   "metadata": {},
   "source": [
    "(모듈, 패키지)"
   ]
  },
  {
   "cell_type": "markdown",
   "metadata": {},
   "source": [
    "5.1 zoo.py 모듈에서 \"Open 9-5 daily\" 문자열을 반환하는 hours() 함수를 정의하라. 그리고 zoo 모듈을 임포트하여 hours() 함수를 호출하시오"
   ]
  },
  {
   "cell_type": "code",
   "execution_count": null,
   "metadata": {},
   "outputs": [],
   "source": [
    "import zoo"
   ]
  },
  {
   "cell_type": "code",
   "execution_count": 24,
   "metadata": {},
   "outputs": [
    {
     "name": "stdout",
     "output_type": "stream",
     "text": [
      "Open 9-5 daily\n"
     ]
    }
   ],
   "source": [
    "zoo.hours()"
   ]
  },
  {
   "cell_type": "markdown",
   "metadata": {},
   "source": [
    "5.2 zoo 모듈을 menageria 라는 이름으로 import한 후 hours() 함수를 호출하라"
   ]
  },
  {
   "cell_type": "code",
   "execution_count": null,
   "metadata": {},
   "outputs": [],
   "source": []
  },
  {
   "cell_type": "code",
   "execution_count": 375,
   "metadata": {},
   "outputs": [
    {
     "name": "stdout",
     "output_type": "stream",
     "text": [
      "Open 9-5 daily\n"
     ]
    }
   ],
   "source": [
    "menageria.hours()"
   ]
  },
  {
   "cell_type": "markdown",
   "metadata": {},
   "source": [
    "5.4 key:value 쌍이 'a':1, 'b':2, 'c':3 인 plain 딕셔너리를 만들어서 출력한 후, 'a'의 value를 'something for a '로 바꾸어 출력하시오."
   ]
  },
  {
   "cell_type": "code",
   "execution_count": 377,
   "metadata": {},
   "outputs": [
    {
     "name": "stdout",
     "output_type": "stream",
     "text": [
      "{'a': 1, 'b': 2, 'c': 3}\n"
     ]
    }
   ],
   "source": [
    ".\n",
    "print(plain)"
   ]
  },
  {
   "cell_type": "code",
   "execution_count": 378,
   "metadata": {},
   "outputs": [
    {
     "name": "stdout",
     "output_type": "stream",
     "text": [
      "{'a': 'something for a ', 'b': 2, 'c': 3}\n"
     ]
    }
   ],
   "source": [
    ".\n",
    "print(plain)"
   ]
  },
  {
   "cell_type": "markdown",
   "metadata": {},
   "source": [
    "5.1 같은 숫자가 나올때까지 주사위 3개를 동시에 무한 반복해서 던집니다.<br>\n",
    "    같은 숫자는 무엇이고 같은 숫자가 나올때까지 몇번 던졌는지 출력하시오. <br>\n",
    "    다음 코드를 이용하시오."
   ]
  },
  {
   "cell_type": "code",
   "execution_count": 139,
   "metadata": {},
   "outputs": [
    {
     "data": {
      "text/plain": [
       "5"
      ]
     },
     "execution_count": 139,
     "metadata": {},
     "output_type": "execute_result"
    }
   ],
   "source": [
    "import random\n",
    "random.randrange(1,7)"
   ]
  },
  {
   "cell_type": "code",
   "execution_count": 26,
   "metadata": {},
   "outputs": [
    {
     "name": "stdout",
     "output_type": "stream",
     "text": [
      "The number matched is 6\n",
      "The number of throwing the cubes are 16.\n"
     ]
    }
   ],
   "source": [
    "throwCount = 0\n",
    "\n",
    "while True:\n",
    "    dice1 = random.randrange(1,7)\n",
    "    dice2 = random.randrange(1,7)\n",
    "    dice3 = random.randrange(1,7)\n",
    "\n",
    "    .\n",
    "    .\n",
    "    .\n"
   ]
  },
  {
   "cell_type": "code",
   "execution_count": null,
   "metadata": {},
   "outputs": [],
   "source": []
  },
  {
   "cell_type": "markdown",
   "metadata": {},
   "source": [
    "6.1 사용자가 숫자를 여러개 입력하면 '+'문자를 입력한 숫자만큼 출력하는 코드를 만들어 실행하시오.<br>\n",
    "예를 들어 6398을 입력하면 6개, 3개, 9개, 8개의 '+'을 각기 다른 줄에 출력하시오."
   ]
  },
  {
   "cell_type": "code",
   "execution_count": 383,
   "metadata": {},
   "outputs": [
    {
     "name": "stdout",
     "output_type": "stream",
     "text": [
      "Please input the numbers you want to draw '+': 3\n",
      "+++\n"
     ]
    }
   ],
   "source": [
    "user_number = input(\"Please input the numbers you want to draw '+': \")\n",
    "\n",
    "num_list = list(user_number)\n",
    "\n",
    ".\n",
    ".\n",
    ".\n",
    "\n"
   ]
  },
  {
   "cell_type": "markdown",
   "metadata": {},
   "source": [
    "1.2 숫자 맞히기 게임<br>\n",
    "    사용자가 1부터 10까지의 숫자 중 하나를 입력하여 미리 지정된 숫자를 맞히는 프로그램이다. 3회까지만 시도할 수 있다. guess_num() 함수를 호출하여 실행한다."
   ]
  },
  {
   "cell_type": "code",
   "execution_count": null,
   "metadata": {},
   "outputs": [],
   "source": [
    "import random\n",
    "\n",
    "def guess_num():\n",
    "    number = random.randint(1,10)\n",
    "    count = 0\n",
    "    while True:\n",
    "        \n",
    "        count __ _\n",
    "        if count _ 3:\n",
    "            print('Oops, 3 trials are done!')\n",
    "            _____\n",
    "            \n",
    "        guess_num = ___(_____(\"Please enter the number you are guessing!: \"))\n",
    "        \n",
    "        if guess_num __ ______:\n",
    "            print(\"Just right!\")\n",
    "            _____\n",
    "        elif guess_num _ ______:\n",
    "            print('too low')\n",
    "        else:\n",
    "            print('too high')"
   ]
  },
  {
   "cell_type": "code",
   "execution_count": 31,
   "metadata": {},
   "outputs": [
    {
     "name": "stdout",
     "output_type": "stream",
     "text": [
      "Please enter the number you are guessing!: 5\n",
      "Too low\n",
      "Please enter the number you are guessing!: 7\n",
      "Too high\n",
      "Please enter the number you are guessing!: 6\n",
      "Just right!\n"
     ]
    }
   ],
   "source": [
    "#결과: 함수호출\n",
    "\n",
    "guess_num()"
   ]
  },
  {
   "cell_type": "markdown",
   "metadata": {},
   "source": [
    "(함수)"
   ]
  },
  {
   "cell_type": "markdown",
   "metadata": {},
   "source": [
    "6.3 (비밀번호 생성기 함수) 알파벳 문자열과 정수를 패러미터로 받아 정수에 해당하는 갯수의 알파벳을 문자열에서 랜덤하게 선택해 비밀번호를 생성하는 함수 create_password_generator() 함수를 만드시오.(random.choice()함수를 사용하시오)"
   ]
  },
  {
   "cell_type": "code",
   "execution_count": 113,
   "metadata": {},
   "outputs": [],
   "source": [
    "import random"
   ]
  },
  {
   "cell_type": "code",
   "execution_count": 114,
   "metadata": {},
   "outputs": [],
   "source": [
    "def create_password_generator(char, length):\n",
    "    output = []\n",
    "    for _______________________:\n",
    "        output.append(random.choice(char))\n",
    "    return _______________    "
   ]
  },
  {
   "cell_type": "code",
   "execution_count": 135,
   "metadata": {},
   "outputs": [
    {
     "name": "stdout",
     "output_type": "stream",
     "text": [
      "8eop80\n"
     ]
    }
   ],
   "source": [
    "print(create_password_generator('aoei340958u20fhjapwe','6'))"
   ]
  },
  {
   "cell_type": "markdown",
   "metadata": {},
   "source": [
    "(함수형 프로그래밍: 리스트 내포)"
   ]
  },
  {
   "cell_type": "code",
   "execution_count": 103,
   "metadata": {},
   "outputs": [
    {
     "name": "stdout",
     "output_type": "stream",
     "text": [
      "[0, 1, 4, 9, 16]\n"
     ]
    }
   ],
   "source": [
    "# 리스트 내포 \n",
    "[x*x for x in range(5)]"
   ]
  },
  {
   "cell_type": "code",
   "execution_count": 390,
   "metadata": {},
   "outputs": [
    {
     "name": "stdout",
     "output_type": "stream",
     "text": [
      "[0, 1, 4, 9, 16]\n"
     ]
    }
   ],
   "source": [
    "y=[]\n",
    "for x in range(5):\n",
    "    y.append(x*x)\n",
    "    \n",
    "print(y)"
   ]
  },
  {
   "cell_type": "code",
   "execution_count": 104,
   "metadata": {},
   "outputs": [
    {
     "data": {
      "text/plain": [
       "{0: 0, 1: 1, 2: 4, 3: 9, 4: 16}"
      ]
     },
     "execution_count": 104,
     "metadata": {},
     "output_type": "execute_result"
    }
   ],
   "source": [
    "# 딕셔너리 내포\n",
    "{x:x*x for x in range(5)}"
   ]
  },
  {
   "cell_type": "code",
   "execution_count": 392,
   "metadata": {},
   "outputs": [
    {
     "name": "stdout",
     "output_type": "stream",
     "text": [
      "{0: 0, 1: 1, 2: 4, 3: 9, 4: 16}\n"
     ]
    }
   ],
   "source": [
    "y = dict()\n",
    "for x in range(5):\n",
    "    y[x] = x*x\n",
    "    \n",
    "print(y)"
   ]
  },
  {
   "cell_type": "code",
   "execution_count": 393,
   "metadata": {},
   "outputs": [
    {
     "data": {
      "text/plain": [
       "{0, 1, 4, 9, 16}"
      ]
     },
     "execution_count": 393,
     "metadata": {},
     "output_type": "execute_result"
    }
   ],
   "source": [
    "# 세트 내포\n",
    "{x*x for x in range(5)}"
   ]
  },
  {
   "cell_type": "code",
   "execution_count": 131,
   "metadata": {},
   "outputs": [
    {
     "name": "stdout",
     "output_type": "stream",
     "text": [
      "{0, 1, 4, 9, 16}\n"
     ]
    }
   ],
   "source": [
    "y=[]\n",
    "for x in range(5):\n",
    "    y.append(x*x)\n",
    "y_set = set(y)\n",
    "\n",
    "print(y_set)"
   ]
  },
  {
   "cell_type": "markdown",
   "metadata": {},
   "source": [
    "최종적으로 리스트(딕셔너리, 세트)를 만드는 것이 목적이라면 내포를 사용하고, 각각의 요소에 특정 처리를 하는 것이 목적이면 반복문 사용"
   ]
  },
  {
   "cell_type": "markdown",
   "metadata": {},
   "source": [
    "7.1 range를 매개변수로 받아 숫자들을 쉼표(,)로 연결해 리턴하는 join_numbers 함수를 만드시오. 즉, range(9)를 매개변수로 넣으면 다음과 같은 문자열을 리턴하시오.<br>\n",
    "0,1,2,3,4,5,6,7,8"
   ]
  },
  {
   "cell_type": "code",
   "execution_count": 105,
   "metadata": {},
   "outputs": [
    {
     "name": "stdout",
     "output_type": "stream",
     "text": [
      "0,1,2,3,4,5,6,7,8\n"
     ]
    }
   ],
   "source": [
    "def join_numbers(numbers):\n",
    "    return ','.join(_________________________________)\n",
    "\n",
    "print(join_numbers(range(9)))"
   ]
  },
  {
   "cell_type": "markdown",
   "metadata": {},
   "source": [
    "7.2 다음과 같은 문자열을 입력받아 숫자만 합하여 총합을 출력하는 함수 sum_numbers()를 구현하시오.<br><br>\n",
    "10 abc 20 de44 30 55fg 40"
   ]
  },
  {
   "cell_type": "code",
   "execution_count": 396,
   "metadata": {},
   "outputs": [
    {
     "name": "stdout",
     "output_type": "stream",
     "text": [
      "100\n"
     ]
    }
   ],
   "source": [
    "def sum_numbers(numbers):\n",
    "    return sum(_____________________________________________ if number.isdigit())\n",
    "\n",
    "print(sum_numbers('10 abc 20 de44 30 55fg 40'))"
   ]
  },
  {
   "cell_type": "markdown",
   "metadata": {},
   "source": [
    "7.3 리스트의 리스트(2차원 리스트)를 패러미터로 받고, 이를 1차원 리스트로 평탄화하여 리턴하는 flatten() 함수를 만드시오.<br>\n",
    "\n",
    "flatten([[1,2],[3,4]])<br>\n",
    "[1,2,3,4]\n"
   ]
  },
  {
   "cell_type": "code",
   "execution_count": 117,
   "metadata": {},
   "outputs": [],
   "source": [
    "def flatten(mylist):\n",
    "    return [___________________________________________________________]"
   ]
  },
  {
   "cell_type": "code",
   "execution_count": 119,
   "metadata": {},
   "outputs": [
    {
     "data": {
      "text/plain": [
       "[1, 2, 3, 4]"
      ]
     },
     "execution_count": 119,
     "metadata": {},
     "output_type": "execute_result"
    }
   ],
   "source": [
    "flatten([[1,2],[3,4]])"
   ]
  },
  {
   "cell_type": "markdown",
   "metadata": {},
   "source": [
    "7.5 (딕셔너리 반전하기)다음의 딕셔너리 a의 key를 value로, value를 key로 반전하여 return하는 함수 flipped_dict()를 만드시오.<br>\n",
    "(모든 key와 value는 중복되지 않고 같은 값을 가지지 않음.)"
   ]
  },
  {
   "cell_type": "code",
   "execution_count": 120,
   "metadata": {},
   "outputs": [],
   "source": [
    "a = {'a':1,'b':2,'c':3}"
   ]
  },
  {
   "cell_type": "code",
   "execution_count": 122,
   "metadata": {
    "collapsed": true
   },
   "outputs": [
    {
     "ename": "SyntaxError",
     "evalue": "invalid syntax (965153205.py, line 3)",
     "output_type": "error",
     "traceback": [
      "\u001b[0;36m  File \u001b[0;32m\"/var/folders/fh/blj5j5sx0vj3zl9rttysrg680000gp/T/ipykernel_53518/965153205.py\"\u001b[0;36m, line \u001b[0;32m3\u001b[0m\n\u001b[0;31m    return {value:key _________________________________}\u001b[0m\n\u001b[0m                      ^\u001b[0m\n\u001b[0;31mSyntaxError\u001b[0m\u001b[0;31m:\u001b[0m invalid syntax\n"
     ]
    }
   ],
   "source": [
    "#1\n",
    "def flipped_dict(a_dict):\n",
    "    return {value:key _________________________________}\n",
    "\n",
    "print(flipped_dict(a))"
   ]
  },
  {
   "cell_type": "code",
   "execution_count": 110,
   "metadata": {},
   "outputs": [
    {
     "name": "stdout",
     "output_type": "stream",
     "text": [
      "[1980, 1981, 1982, 1983, 1984, 1985]\n"
     ]
    }
   ],
   "source": [
    "#2\n",
    "def flipped_dict(a_dict):\n",
    "    return {a_dict[key]:______________________}\n",
    "\n",
    "print(flipped_dict(a))"
   ]
  },
  {
   "cell_type": "markdown",
   "metadata": {},
   "source": [
    "(객체)"
   ]
  },
  {
   "cell_type": "markdown",
   "metadata": {},
   "source": [
    " 9.1.2 Scoop 클래스를 만들어 flavor 문자열 속성을 만드시오. create_scoops 함수에서 Scoop 인스턴스 3개를 만들어 scoops 리스트에 넣고 이들의 flavor를 출력하시오."
   ]
  },
  {
   "cell_type": "code",
   "execution_count": 402,
   "metadata": {},
   "outputs": [],
   "source": [
    "class Scoop: \n",
    "    def __init__(self,flavor):\n",
    "        _____________________\n",
    "\n",
    "def creat_scoops():\n",
    "    .\n",
    "    .\n",
    "    .\n",
    "       "
   ]
  },
  {
   "cell_type": "code",
   "execution_count": 126,
   "metadata": {},
   "outputs": [
    {
     "name": "stdout",
     "output_type": "stream",
     "text": [
      "apple\n",
      "berry\n",
      "banana\n"
     ]
    }
   ],
   "source": [
    "creat_scoops()"
   ]
  },
  {
   "cell_type": "markdown",
   "metadata": {},
   "source": [
    "9.1.3 Beverage 클래스를 만들고 name, temperature 속성을 만들어 temperature의 기본값을 75로 설정하시오. bev 라는 instance를 만들고 name을 'Soo'로 주어 bev.name이 'Soo', bev.temperature 가 75로 출력되는지 확인하시오."
   ]
  },
  {
   "cell_type": "code",
   "execution_count": 403,
   "metadata": {},
   "outputs": [],
   "source": [
    "class Beverage:\n",
    "    def __init__(__________________________):\n",
    "        self.name = name\n",
    "        self.temperature = temperature"
   ]
  },
  {
   "cell_type": "code",
   "execution_count": 404,
   "metadata": {},
   "outputs": [],
   "source": [
    "bev = Beverage('Soo')"
   ]
  },
  {
   "cell_type": "code",
   "execution_count": 405,
   "metadata": {},
   "outputs": [
    {
     "data": {
      "text/plain": [
       "'Soo'"
      ]
     },
     "execution_count": 405,
     "metadata": {},
     "output_type": "execute_result"
    }
   ],
   "source": [
    "bev.name"
   ]
  },
  {
   "cell_type": "code",
   "execution_count": 406,
   "metadata": {},
   "outputs": [
    {
     "data": {
      "text/plain": [
       "75"
      ]
     },
     "execution_count": 406,
     "metadata": {},
     "output_type": "execute_result"
    }
   ],
   "source": [
    "bev.temperature"
   ]
  },
  {
   "cell_type": "markdown",
   "metadata": {},
   "source": [
    "9.2 아이스크림 여러 스쿱을 넣을 수 있는 Bowl 클래스를 만들고 bowl 인스턴스를 만들어 bowl의 패러미터로 Scoop 여러개를 받아 이들의 flavor를 모두 추가하는 add_scoops()라는 메소드를 만드시오. print(bowl.scoops[-1])을 통해 마지막 추가된 scoop의 flavor를 출력하시오."
   ]
  },
  {
   "cell_type": "code",
   "execution_count": 128,
   "metadata": {},
   "outputs": [],
   "source": [
    "class Scoop: \n",
    "    .\n",
    "    .\n",
    "        \n",
    "class Bowl:\n",
    "    def __init__(self):\n",
    "        .\n",
    "    \n",
    "    def add_scoops(self,*scoops):\n",
    "        .\n",
    "        ."
   ]
  },
  {
   "cell_type": "code",
   "execution_count": 130,
   "metadata": {},
   "outputs": [
    {
     "name": "stdout",
     "output_type": "stream",
     "text": [
      "apple\n",
      "chocolate\n"
     ]
    }
   ],
   "source": [
    "s1=Scoop('chocolate')\n",
    "s2=Scoop('apple')\n",
    "s3=Scoop('banana')\n",
    "\n",
    "bowl=Bowl()\n",
    "bowl.add_scoops(s1,s2)\n",
    "print(bowl.scoops[-1].flavor)\n",
    "\n",
    "bowl.add_scoops(s3,s2,s1)\n",
    "print(bowl.scoops[-1].flavor)"
   ]
  },
  {
   "cell_type": "markdown",
   "metadata": {},
   "source": [
    "181. 데이터 파일을 읽어들여 연도별 출생아 수를 계산하시오. count_baby() 함수에서 연도별 텍스트를 한줄씩 읽어들여 출생아 수만 추출하고 더하여,<br>\n",
    "그 결과값을 baby_born.csv 파일에 연도별로 저장하시오.<br>\n",
    "\n",
    "\n",
    "https://catalog.data.gov/dataset/baby-names-from-social-security-card-applications-national-data "
   ]
  },
  {
   "cell_type": "code",
   "execution_count": 411,
   "metadata": {},
   "outputs": [
    {
     "data": {
      "text/plain": [
       "'/Users/HK/BP/실습문제'"
      ]
     },
     "execution_count": 411,
     "metadata": {},
     "output_type": "execute_result"
    }
   ],
   "source": [
    "import os\n",
    "os.getcwd()"
   ]
  },
  {
   "cell_type": "code",
   "execution_count": 5,
   "metadata": {},
   "outputs": [],
   "source": [
    "def count_baby():\n",
    "   \n",
    "    birth_year = dict()\n",
    "    \n",
    "    for i in range(1880,2022):\n",
    "        total_born = 0\n",
    "            \n",
    "        .\n",
    "        .\n",
    "        .\n",
    "        \n",
    "        \n",
    "        \n",
    "        \n",
    "        \n",
    "        \n",
    "        "
   ]
  },
  {
   "cell_type": "code",
   "execution_count": 7,
   "metadata": {},
   "outputs": [],
   "source": [
    "count_baby()"
   ]
  },
  {
   "cell_type": "markdown",
   "metadata": {},
   "source": [
    "181_1. count_baby_gender() 함수에서 데이터 파일을 읽어들여 연도별 성별 출생아 수를 계산하고,<br>\n",
    "그 결과값을 baby_born_1.csv 파일에 연도별, 성별로 저장하시오.<br>\n",
    "https://catalog.data.gov/dataset/baby-names-from-social-security-card-applications-national-data "
   ]
  },
  {
   "cell_type": "code",
   "execution_count": 4,
   "metadata": {},
   "outputs": [],
   "source": [
    "count_baby_gender()"
   ]
  },
  {
   "cell_type": "markdown",
   "metadata": {},
   "source": [
    "181_2. 데이터 파일을 읽어들여 연도별 성별, 가장 인기있는 이름 상위 10개의 출생아 수를 계산하시오.<br>\n",
    "그 결과값을 baby_born_2.csv 파일에 연도별, 성별, 인기순위별로 저장하시오.<br>\n",
    "https://catalog.data.gov/dataset/baby-names-from-social-security-card-applications-national-data "
   ]
  },
  {
   "cell_type": "code",
   "execution_count": null,
   "metadata": {},
   "outputs": [],
   "source": []
  }
 ],
 "metadata": {
  "kernelspec": {
   "display_name": "Python 3 (ipykernel)",
   "language": "python",
   "name": "python3"
  },
  "language_info": {
   "codemirror_mode": {
    "name": "ipython",
    "version": 3
   },
   "file_extension": ".py",
   "mimetype": "text/x-python",
   "name": "python",
   "nbconvert_exporter": "python",
   "pygments_lexer": "ipython3",
   "version": "3.9.12"
  }
 },
 "nbformat": 4,
 "nbformat_minor": 4
}
