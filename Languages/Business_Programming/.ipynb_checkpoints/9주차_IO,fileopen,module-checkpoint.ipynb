{
 "cells": [
  {
   "cell_type": "code",
   "execution_count": 1,
   "id": "fbfffc5f",
   "metadata": {},
   "outputs": [
    {
     "name": "stdout",
     "output_type": "stream",
     "text": [
      "enter number: 123\n"
     ]
    }
   ],
   "source": [
    "a = input('enter number: ')"
   ]
  },
  {
   "cell_type": "code",
   "execution_count": 2,
   "id": "244c03ea",
   "metadata": {},
   "outputs": [
    {
     "data": {
      "text/plain": [
       "['Life', 'is', 'too', 'short']"
      ]
     },
     "execution_count": 2,
     "metadata": {},
     "output_type": "execute_result"
    }
   ],
   "source": [
    "b = ['Life', 'is', 'too', 'short']\n",
    "b"
   ]
  },
  {
   "cell_type": "code",
   "execution_count": 3,
   "id": "9558a588",
   "metadata": {},
   "outputs": [
    {
     "name": "stdout",
     "output_type": "stream",
     "text": [
      "123\n"
     ]
    }
   ],
   "source": [
    "print(a)"
   ]
  },
  {
   "cell_type": "code",
   "execution_count": 4,
   "id": "2e3beb5a",
   "metadata": {},
   "outputs": [
    {
     "ename": "SyntaxError",
     "evalue": "invalid syntax (548083213.py, line 1)",
     "output_type": "error",
     "traceback": [
      "\u001b[1;36m  Input \u001b[1;32mIn [4]\u001b[1;36m\u001b[0m\n\u001b[1;33m    print('python'+'is'+'not\"+'java', end = ' ')\u001b[0m\n\u001b[1;37m                               ^\u001b[0m\n\u001b[1;31mSyntaxError\u001b[0m\u001b[1;31m:\u001b[0m invalid syntax\n"
     ]
    }
   ],
   "source": [
    "print('python'+'is'+'not\"+'java', end = ' ')\n",
    "print('python')"
   ]
  },
  {
   "cell_type": "code",
   "execution_count": 6,
   "id": "3b3a5d75",
   "metadata": {},
   "outputs": [],
   "source": [
    "# file open\n",
    "# 1번째부터 10번째 줄 생성\n",
    "\n",
    "# new_file.txt라는 파일 생성\n",
    "f = open('new_file.txt', 'w')\n",
    "\n",
    "for i in range(1,11):\n",
    "    data = \"%dth line.\\n\" %i\n",
    "    f.write(data)\n",
    "\n",
    "# 반드시 파일을 닫아줄 것!!\n",
    "f.close()"
   ]
  },
  {
   "cell_type": "code",
   "execution_count": 7,
   "id": "17b30693",
   "metadata": {},
   "outputs": [],
   "source": [
    "# file overwrite\n",
    "# 추가로 11번째부터 20번째 줄 생성\n",
    "\n",
    "# new_file.txt라는 파일에서 a(수정작업) 시작\n",
    "# w를 쓰면 기존의 내용이 덮어쓰여져 삭제되므로 주의!!\n",
    "f = open('new_file.txt', 'a')\n",
    "\n",
    "for i in range(11,21):\n",
    "    data = \"%dth line.\\n\" %i\n",
    "    f.write(data)\n",
    "\n",
    "# 반드시 파일을 닫아줄 것!!\n",
    "f.close()"
   ]
  },
  {
   "cell_type": "code",
   "execution_count": 17,
   "id": "f339e88b",
   "metadata": {},
   "outputs": [
    {
     "name": "stdout",
     "output_type": "stream",
     "text": [
      "1th line.\n",
      "2th line.\n",
      "3th line.\n",
      "4th line.\n",
      "5th line.\n",
      "6th line.\n",
      "7th line.\n",
      "8th line.\n",
      "9th line.\n",
      "10th line.\n",
      "11th line.\n",
      "12th line.\n",
      "13th line.\n",
      "14th line.\n",
      "15th line.\n",
      "16th line.\n",
      "17th line.\n",
      "18th line.\n",
      "19th line.\n",
      "20th line.\n",
      "\n",
      "<class 'str'>\n"
     ]
    }
   ],
   "source": [
    "# file read\n",
    "\n",
    "# new_file.txt라는 파일 생성\n",
    "f = open('new_file.txt', 'r')\n",
    "\n",
    "# 파일의 첫 번째 줄만 읽기 : readline()\n",
    "# for문을 통해 모든 라인 출력 가능\n",
    "# line = f.readline()\n",
    "# print(line)\n",
    "\n",
    "# 모든 라인을 하나의 리스트로 구성\n",
    "# lines = f.readlines()\n",
    "# print(lines)\n",
    "\n",
    "# 파일의 모든 줄 읽기\n",
    "allLines = f.read()\n",
    "print(allLines)\n",
    "print(type(allLines))\n",
    "\n",
    "# 반드시 파일을 닫아줄 것!!\n",
    "f.close()"
   ]
  },
  {
   "cell_type": "code",
   "execution_count": 18,
   "id": "a8509fe9",
   "metadata": {},
   "outputs": [],
   "source": [
    "# with을 사용하면 자동으로 close되므로 편리하다!\n",
    "\n",
    "with open(\"fo.txt\", 'w') as f:\n",
    "    f.write('Life is too short')"
   ]
  },
  {
   "cell_type": "code",
   "execution_count": 21,
   "id": "e8215801",
   "metadata": {},
   "outputs": [
    {
     "data": {
      "text/plain": [
       "1"
      ]
     },
     "execution_count": 21,
     "metadata": {},
     "output_type": "execute_result"
    }
   ],
   "source": [
    "# 모듈\n",
    "# mod1.py로 부터\n",
    "# 모듈 가져오기\n",
    "\n",
    "# 확장자 필요 없음\n",
    "import mod1\n",
    "\n",
    "# 모듈명.함수이름()\n",
    "mod1.add(1,2)\n",
    "mod1.minus(2,1)"
   ]
  },
  {
   "cell_type": "code",
   "execution_count": null,
   "id": "a645355a",
   "metadata": {},
   "outputs": [],
   "source": []
  }
 ],
 "metadata": {
  "kernelspec": {
   "display_name": "Python 3 (ipykernel)",
   "language": "python",
   "name": "python3"
  },
  "language_info": {
   "codemirror_mode": {
    "name": "ipython",
    "version": 3
   },
   "file_extension": ".py",
   "mimetype": "text/x-python",
   "name": "python",
   "nbconvert_exporter": "python",
   "pygments_lexer": "ipython3",
   "version": "3.9.12"
  }
 },
 "nbformat": 4,
 "nbformat_minor": 5
}
