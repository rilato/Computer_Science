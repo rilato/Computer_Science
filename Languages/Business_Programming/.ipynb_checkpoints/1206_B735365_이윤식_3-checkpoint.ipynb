{
 "cells": [
  {
   "cell_type": "code",
   "execution_count": 41,
   "id": "34c7d754",
   "metadata": {},
   "outputs": [
    {
     "name": "stdout",
     "output_type": "stream",
     "text": [
      "0,1,2,3,4,5,6,7,8\n"
     ]
    }
   ],
   "source": [
    "# 실습문제 1 이어서\n",
    "\n",
    "# 7.1 range를 매개변수로 받아 숫자들을 쉼표(,)로 연결해 리턴하는 join_numbers 함수를 만드시오.\n",
    "# 즉, range(9)를 매개변수로 넣으면 다음과 같은 문자열을 리턴하시오.\n",
    "# 0,1,2,3,4,5,6,7,8\n",
    "\n",
    "def join_numbers(numbers):\n",
    "    return ','.join(str(number) for number in numbers)\n",
    "\n",
    "print(join_numbers(range(9)))"
   ]
  },
  {
   "cell_type": "code",
   "execution_count": 43,
   "id": "a6f62f2a",
   "metadata": {},
   "outputs": [
    {
     "name": "stdout",
     "output_type": "stream",
     "text": [
      "100\n"
     ]
    }
   ],
   "source": [
    "# 7.2 다음과 같은 문자열을 입력받아 숫자만 합하여 총합을 출력하는 함수 sum_numbers()를 구현하시오.\n",
    "\n",
    "# 10 abc 20 de44 30 55fg 40\n",
    "\n",
    "def sum_numbers(numbers):\n",
    "    return sum(int(number) for number in numbers.split() if number.isdigit())\n",
    "\n",
    "print(sum_numbers('10 abc 20 de44 30 55fg 40'))"
   ]
  },
  {
   "cell_type": "code",
   "execution_count": 48,
   "id": "6bb82285",
   "metadata": {},
   "outputs": [
    {
     "data": {
      "text/plain": [
       "[1, 2, 3, 4]"
      ]
     },
     "execution_count": 48,
     "metadata": {},
     "output_type": "execute_result"
    }
   ],
   "source": [
    "# 7.3 리스트의 리스트(2차원 리스트)를 패러미터로 받고, 이를 1차원 리스트로 평탄화하여 리턴하는 flatten() 함수를 만드시오.\n",
    "\n",
    "def flatten(mylist):\n",
    "    return [one_element for one_sublist in mylist for one_element in one_sublist]\n",
    "\n",
    "flatten([[1,2],[3,4]])\n",
    "# [1,2,3,4]"
   ]
  },
  {
   "cell_type": "code",
   "execution_count": 55,
   "id": "05ae0085",
   "metadata": {},
   "outputs": [
    {
     "name": "stdout",
     "output_type": "stream",
     "text": [
      "{1: 'a', 2: 'b', 3: 'c'}\n"
     ]
    }
   ],
   "source": [
    "# 7.5 (딕셔너리 반전하기)다음의 딕셔너리 a의 key를 value로, value를 key로 반전하는 함수 flipped_dict()를 만드시오.\n",
    "# (모든 key와 value는 중복되지 않고 같은 값을 가지지 않음.)\n",
    "\n",
    "a = {'a':1,'b':2,'c':3}\n",
    "\n",
    "def flipped_dict(myDict):\n",
    "    return {value:key for key, value in myDict.items()}\n",
    "print(flipped_dict(a))"
   ]
  },
  {
   "cell_type": "code",
   "execution_count": 56,
   "id": "da6378aa",
   "metadata": {},
   "outputs": [
    {
     "name": "stdout",
     "output_type": "stream",
     "text": [
      "{1: 'a', 2: 'b', 3: 'c'}\n"
     ]
    }
   ],
   "source": [
    "# 7.5 (딕셔너리 반전하기)다음의 딕셔너리 a의 key를 value로, value를 key로 반전하는 함수 flipped_dict()를 만드시오.\n",
    "# (모든 key와 value는 중복되지 않고 같은 값을 가지지 않음.)\n",
    "\n",
    "a = {'a':1,'b':2,'c':3}\n",
    "\n",
    "def flipped_dict(myDict):\n",
    "    return {myDict[key]:key for key in myDict}\n",
    "print(flipped_dict(a))"
   ]
  },
  {
   "cell_type": "code",
   "execution_count": 13,
   "id": "5529875c",
   "metadata": {},
   "outputs": [
    {
     "name": "stdout",
     "output_type": "stream",
     "text": [
      "[1980, 1981, 1982, 1983, 1984, 1985]\n"
     ]
    }
   ],
   "source": [
    "# 3.1 출생년도에 대한 리스트 year_lists를 만드시오.\n",
    "# 출생년도를 첫번째 요소로 하고 1년씩 증가하는 다섯번째 생일까지의 요소를 넣으시오.\n",
    "# 출생년도가 1980이라고 가정하시오.\n",
    "# 만나이로 계산하시오.\n",
    "\n",
    "year_lists = []\n",
    "start = 1980\n",
    "for i in range(6):\n",
    "    year_lists.append(start)\n",
    "    start += 1\n",
    "print(year_lists)"
   ]
  },
  {
   "cell_type": "code",
   "execution_count": null,
   "id": "d9da5988",
   "metadata": {},
   "outputs": [],
   "source": [
    "#리스트 내포 사용\n",
    "\n",
    "year_lists=[________________________]\n",
    "print(year_lists)"
   ]
  },
  {
   "cell_type": "code",
   "execution_count": 14,
   "id": "7fb6a34d",
   "metadata": {},
   "outputs": [
    {
     "name": "stdout",
     "output_type": "stream",
     "text": [
      "1982\n"
     ]
    }
   ],
   "source": [
    "# 3.2 year_lists의 세살 생일의 년도를 출력하시오. 만으로 계산하시오.\n",
    "\n",
    "print(year_lists[2])\n"
   ]
  },
  {
   "cell_type": "code",
   "execution_count": 15,
   "id": "7bdf7053",
   "metadata": {},
   "outputs": [
    {
     "name": "stdout",
     "output_type": "stream",
     "text": [
      "1985\n"
     ]
    }
   ],
   "source": [
    "# 3.3 years_list 중 가장 나이가 많을 때의 년도는?\n",
    "\n",
    "print(year_lists[-1])"
   ]
  },
  {
   "cell_type": "code",
   "execution_count": 16,
   "id": "a8f44f8d",
   "metadata": {},
   "outputs": [
    {
     "name": "stdout",
     "output_type": "stream",
     "text": [
      "['mozzarella', 'cinderella', 'salmonella']\n"
     ]
    }
   ],
   "source": [
    "# 3.4 things 리스트를 만드시오.\n",
    "# 이 리스트는 'mozzarella','cinderella','salmonella' 세 문자열을 요소로 갖는다.\n",
    "\n",
    "things = ['mozzarella', 'cinderella', 'salmonella']\n",
    "print(things)"
   ]
  },
  {
   "cell_type": "code",
   "execution_count": 21,
   "id": "8150d392",
   "metadata": {},
   "outputs": [
    {
     "name": "stdout",
     "output_type": "stream",
     "text": [
      "['Mozzarella', 'Cinderella', 'Salmonella']\n"
     ]
    }
   ],
   "source": [
    "# 3.5 things 리스트에서 사람 이름의(cinderrella) 첫 글자를 대문자로 바꿔서 출력하시오.(문자열.capitalize() 함수 사용)\n",
    "\n",
    "things = ['mozzarella', 'cinderella', 'salmonella']\n",
    "i = 0\n",
    "for word in things:\n",
    "    things[i] = word.capitalize()\n",
    "    i += 1\n",
    "    \n",
    "print(things)"
   ]
  },
  {
   "cell_type": "code",
   "execution_count": 24,
   "id": "af2bf8de",
   "metadata": {},
   "outputs": [
    {
     "name": "stdout",
     "output_type": "stream",
     "text": [
      "MOZZARELLA\n",
      "CINDERELLA\n",
      "SALMONELLA\n"
     ]
    }
   ],
   "source": [
    "# 3.6 things 리스트의 치즈 요소를 모두 대문자로 바꿔 출력하시오.\n",
    "\n",
    "things = ['mozzarella', 'cinderella', 'salmonella']\n",
    "for word in things:\n",
    "    print(word.upper())"
   ]
  },
  {
   "cell_type": "code",
   "execution_count": 25,
   "id": "9ed656c8",
   "metadata": {},
   "outputs": [
    {
     "data": {
      "text/plain": [
       "['mozzarella', 'cinderella']"
      ]
     },
     "execution_count": 25,
     "metadata": {},
     "output_type": "execute_result"
    }
   ],
   "source": [
    "# 3.7 things 리스트에 질병 요소가 있다면 제거한 뒤 리스트를 출력하시오.\n",
    "\n",
    "things=['mozzarella','cinderella','salmonella']\n",
    "things.pop()\n",
    "things"
   ]
  },
  {
   "cell_type": "code",
   "execution_count": 26,
   "id": "3c20b7b4",
   "metadata": {},
   "outputs": [
    {
     "data": {
      "text/plain": [
       "['mozzarella', 'cinderella']"
      ]
     },
     "execution_count": 26,
     "metadata": {},
     "output_type": "execute_result"
    }
   ],
   "source": [
    "things=['mozzarella','cinderella','salmonella']\n",
    "things = things[:2]\n",
    "things"
   ]
  },
  {
   "cell_type": "code",
   "execution_count": 27,
   "id": "fd8c9b95",
   "metadata": {},
   "outputs": [
    {
     "data": {
      "text/plain": [
       "['Groucho', 'Chico', 'Harpo']"
      ]
     },
     "execution_count": 27,
     "metadata": {},
     "output_type": "execute_result"
    }
   ],
   "source": [
    "# 3.8 surprise 리스트를 생성하시오. 이 리스트는 'Groucho','Chico','Harpo' 세 문자열을 요소로 갖는다.\n",
    "\n",
    "surprise = ['Groucho', 'Chico', 'Harpo']\n",
    "surprise"
   ]
  },
  {
   "cell_type": "code",
   "execution_count": 47,
   "id": "1901858e",
   "metadata": {},
   "outputs": [
    {
     "data": {
      "text/plain": [
       "{'animals': {'cats': 'Henri', 'plants': 'Grumpy', 'emus': 'Lucy'},\n",
       " 'plants': {},\n",
       " 'other': {}}"
      ]
     },
     "execution_count": 47,
     "metadata": {},
     "output_type": "execute_result"
    }
   ],
   "source": [
    "# 3.15 이차원 딕셔너리 life를 만드시오.\n",
    "# 최상위 키는 'animals','plants','other' 이다.\n",
    "# 그리고 'animals'는 각각 'cats','octopi','emus'를 키로 하고 'Henri','Grumpy','Lucy'를 값으로 하는 또 다른 딕셔너리를 참조하고 있다.\n",
    "# 나머지 요소는 빈 딕셔너리를 참조하시오.\n",
    " \n",
    "life = {'animals' : {'cats' : 'Henri', 'plants' : 'Grumpy', 'emus' : 'Lucy'}, 'plants' : {}, 'other' : {}}\n",
    "life"
   ]
  },
  {
   "cell_type": "code",
   "execution_count": null,
   "id": "ecdba4e1",
   "metadata": {},
   "outputs": [],
   "source": []
  }
 ],
 "metadata": {
  "kernelspec": {
   "display_name": "Python 3 (ipykernel)",
   "language": "python",
   "name": "python3"
  },
  "language_info": {
   "codemirror_mode": {
    "name": "ipython",
    "version": 3
   },
   "file_extension": ".py",
   "mimetype": "text/x-python",
   "name": "python",
   "nbconvert_exporter": "python",
   "pygments_lexer": "ipython3",
   "version": "3.9.12"
  }
 },
 "nbformat": 4,
 "nbformat_minor": 5
}
