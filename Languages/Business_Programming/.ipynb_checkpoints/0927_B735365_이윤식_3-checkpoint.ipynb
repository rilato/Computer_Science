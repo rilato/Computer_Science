{
 "cells": [
  {
   "cell_type": "code",
   "execution_count": 2,
   "id": "7b4f0306",
   "metadata": {},
   "outputs": [
    {
     "data": {
      "text/plain": [
       "'you too'"
      ]
     },
     "execution_count": 2,
     "metadata": {},
     "output_type": "execute_result"
    }
   ],
   "source": [
    "# 연습문제\n",
    "# 1. a 리스트를 이용하여 다음과 같은 문자열을 출력\n",
    "\n",
    "a = ['Life', 'is', 'too', 'short', 'you', 'need', 'python']\n",
    "\n",
    "a[4] + \" \" + a[2]"
   ]
  },
  {
   "cell_type": "code",
   "execution_count": 11,
   "id": "3c51a72f",
   "metadata": {},
   "outputs": [
    {
     "data": {
      "text/plain": [
       "'Life is too short'"
      ]
     },
     "execution_count": 11,
     "metadata": {},
     "output_type": "execute_result"
    }
   ],
   "source": [
    "# 2. ['Life', 'is', 'too', 'short']라는 리스트를 Life is too short라는 문자열로 만들어 출력\n",
    "# join 활용\n",
    "\n",
    "myList = ['Life', 'is', 'too', 'short']\n",
    "\" \".join(myList)"
   ]
  },
  {
   "cell_type": "code",
   "execution_count": 6,
   "id": "15456141",
   "metadata": {},
   "outputs": [
    {
     "data": {
      "text/plain": [
       "3"
      ]
     },
     "execution_count": 6,
     "metadata": {},
     "output_type": "execute_result"
    }
   ],
   "source": [
    "# 3. 리스트의 사이즈 구하기\n",
    "\n",
    "a = [1, 2, 3]\n",
    "len(a)"
   ]
  },
  {
   "cell_type": "code",
   "execution_count": 2,
   "id": "1f4d5e1f",
   "metadata": {},
   "outputs": [
    {
     "data": {
      "text/plain": [
       "[1, 3, 5]"
      ]
     },
     "execution_count": 2,
     "metadata": {},
     "output_type": "execute_result"
    }
   ],
   "source": [
    "# 6. 리스트 삭제\n",
    "# 주의!!\n",
    "\n",
    "#my_list = [1, 2, 3, 4, 5]\n",
    "#del my_list[1]\n",
    "# 이 위에서 2가 이미 지워지므로, 3, 4, 5가 앞당겨지므로\n",
    "# 아래에서 인덱싱을 3이 아닌 2로 해야 한다.\n",
    "#del my_list[2]\n",
    "\n",
    "my_list = [1, 2, 3, 4, 5]\n",
    "my_list.remove(2)\n",
    "my_list.remove(4)\n",
    "\n",
    "my_list"
   ]
  },
  {
   "cell_type": "code",
   "execution_count": 14,
   "id": "7a52f200",
   "metadata": {},
   "outputs": [
    {
     "name": "stdout",
     "output_type": "stream",
     "text": [
      "[1, 2, 3, [4, 5]]\n",
      "[1, 2, 3, 4, 5]\n"
     ]
    }
   ],
   "source": [
    "# 4. append와 extend의 차이는?\n",
    "\n",
    "a = [1, 2, 3]\n",
    "a.append([4, 5])\n",
    "print(a)\n",
    "a = [1, 2, 3]\n",
    "a.extend([4, 5])\n",
    "print(a)"
   ]
  },
  {
   "cell_type": "code",
   "execution_count": 15,
   "id": "2f187a7d",
   "metadata": {},
   "outputs": [
    {
     "name": "stdout",
     "output_type": "stream",
     "text": [
      "[5, 4, 3, 2, 1]\n"
     ]
    }
   ],
   "source": [
    "# 5. 리스트 정렬\n",
    "\n",
    "temp = [1, 3, 5, 4, 2]\n",
    "temp.sort()\n",
    "temp.reverse()\n",
    "print(temp)"
   ]
  },
  {
   "cell_type": "code",
   "execution_count": 16,
   "id": "4ee4da98",
   "metadata": {},
   "outputs": [
    {
     "data": {
      "text/plain": [
       "tuple"
      ]
     },
     "execution_count": 16,
     "metadata": {},
     "output_type": "execute_result"
    }
   ],
   "source": [
    "# 연습문제\n",
    "# 1. 숫자 3만을 값으로 갖는 튜플\n",
    "\n",
    "t = (3,)\n",
    "type(t)\n",
    "\n",
    "# cf) t = (3)으로 하면 type(t) = int"
   ]
  },
  {
   "cell_type": "code",
   "execution_count": 17,
   "id": "ec591af2",
   "metadata": {},
   "outputs": [],
   "source": [
    "# 2. 튜플 변경, 오류의 원인은?\n",
    "# a = (1, 2, 3)\n",
    "# a[1] = 4\n",
    "# 튜플은 immutable한 특성을 갖고 있기 때문에, 인덱싱을 통한 값 변경이 불가능하다.\n",
    "# 내용을 바꾸기 위해서는 a를 새로운 튜플로 대입해야한다."
   ]
  },
  {
   "cell_type": "code",
   "execution_count": 19,
   "id": "329626ad",
   "metadata": {},
   "outputs": [
    {
     "data": {
      "text/plain": [
       "(1, 2, 3, 4)"
      ]
     },
     "execution_count": 19,
     "metadata": {},
     "output_type": "execute_result"
    }
   ],
   "source": [
    "# 3. 튜플 추가\n",
    "\n",
    "t = (1, 2, 3)\n",
    "# tuple을 더해야 하므로, 그냥 4가 아닌 4,를 넣어야 함!!\n",
    "addNum = (4,)\n",
    "\n",
    "t + addNum"
   ]
  },
  {
   "cell_type": "code",
   "execution_count": 3,
   "id": "91acf39f",
   "metadata": {},
   "outputs": [
    {
     "data": {
      "text/plain": [
       "{'name': '홍길동', 'birth': 1128, 'age': 30}"
      ]
     },
     "execution_count": 3,
     "metadata": {},
     "output_type": "execute_result"
    }
   ],
   "source": [
    "# 연습문제\n",
    "# 1. 딕셔너리로 만들기\n",
    "\n",
    "dic = {'name' : '홍길동', 'birth' : 1128, 'age' : 30}\n",
    "dic"
   ]
  },
  {
   "cell_type": "code",
   "execution_count": 6,
   "id": "f0c336e7",
   "metadata": {},
   "outputs": [],
   "source": [
    "# 2. 오류가 발생하는 경우는?\n",
    "\n",
    "a = dict()\n",
    "a\n",
    "\n",
    "a['name'] = 'python'\n",
    "a[('a',)] = 'python'\n",
    "# a[[1]] = 'python'\n",
    "a[250] = 'python'\n",
    "\n",
    "# key 값으로는 string, int, tuple은 가능하지만,\n",
    "# list와 dict는 불가능!! (mutable한 데이터는 immutable한 key로 들어갈 수 없다)"
   ]
  },
  {
   "cell_type": "code",
   "execution_count": 8,
   "id": "918a526e",
   "metadata": {},
   "outputs": [
    {
     "name": "stdout",
     "output_type": "stream",
     "text": [
      "80\n",
      "{'A': 90, 'C': 70}\n"
     ]
    }
   ],
   "source": [
    "# 3. 딕셔너리 값 추출\n",
    "# B의 값을 얻고, B를 삭제\n",
    "\n",
    "a = {'A' : 90, 'B' : 80, 'C' : 70}\n",
    "# print(a.get('B'))\n",
    "# del a['B']\n",
    "# print(a)\n",
    "\n",
    "# 간단한 방법\n",
    "print(a.pop('B'))\n",
    "print(a)"
   ]
  },
  {
   "cell_type": "code",
   "execution_count": 10,
   "id": "05b86876",
   "metadata": {},
   "outputs": [
    {
     "data": {
      "text/plain": [
       "70"
      ]
     },
     "execution_count": 10,
     "metadata": {},
     "output_type": "execute_result"
    }
   ],
   "source": [
    "# 4. 딕셔너리 값 추출\n",
    "# C에 해당하는 값이 없는 경우, 오류 대신 70을 리턴하도록 하기\n",
    "\n",
    "a = {'A' : 90, 'B' : 80}\n",
    "a.get('C', 70)"
   ]
  },
  {
   "cell_type": "code",
   "execution_count": 12,
   "id": "f5510234",
   "metadata": {},
   "outputs": [
    {
     "data": {
      "text/plain": [
       "70"
      ]
     },
     "execution_count": 12,
     "metadata": {},
     "output_type": "execute_result"
    }
   ],
   "source": [
    "# 5. 딕셔너리에서 최소 값은?\n",
    "\n",
    "a = {'A' : 90, 'B' : 80, 'C' : 70}\n",
    "min(a.values())"
   ]
  },
  {
   "cell_type": "code",
   "execution_count": 14,
   "id": "5f62781a",
   "metadata": {},
   "outputs": [
    {
     "data": {
      "text/plain": [
       "[('A', 90), ('B', 80), ('C', 70)]"
      ]
     },
     "execution_count": 14,
     "metadata": {},
     "output_type": "execute_result"
    }
   ],
   "source": [
    "# 6. 딕셔너리 리스트 변환\n",
    "\n",
    "a = {'A' : 90, 'B' : 80, 'C' : 70}\n",
    "list(a.items())"
   ]
  },
  {
   "cell_type": "code",
   "execution_count": null,
   "id": "6420251b",
   "metadata": {},
   "outputs": [],
   "source": []
  }
 ],
 "metadata": {
  "kernelspec": {
   "display_name": "Python 3 (ipykernel)",
   "language": "python",
   "name": "python3"
  },
  "language_info": {
   "codemirror_mode": {
    "name": "ipython",
    "version": 3
   },
   "file_extension": ".py",
   "mimetype": "text/x-python",
   "name": "python",
   "nbconvert_exporter": "python",
   "pygments_lexer": "ipython3",
   "version": "3.9.12"
  }
 },
 "nbformat": 4,
 "nbformat_minor": 5
}
