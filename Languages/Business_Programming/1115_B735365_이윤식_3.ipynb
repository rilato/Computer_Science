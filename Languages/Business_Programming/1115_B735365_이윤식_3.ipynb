{
 "cells": [
  {
   "cell_type": "code",
   "execution_count": 2,
   "id": "bb8fb215",
   "metadata": {},
   "outputs": [
    {
     "data": {
      "text/plain": [
       "array([30, 32, 34, 36, 38, 40, 42, 44, 46, 48, 50, 52, 54, 56, 58, 60, 62,\n",
       "       64, 66, 68, 70])"
      ]
     },
     "execution_count": 2,
     "metadata": {},
     "output_type": "execute_result"
    }
   ],
   "source": [
    "# numpy 실습문제\n",
    "\n",
    "# B15. 30부터 70까지 짝수로 이루어진 array를 만드시오 \n",
    "\n",
    "import numpy as np\n",
    "\n",
    "evenNum = np.arange(30,71,2)\n",
    "evenNum"
   ]
  },
  {
   "cell_type": "code",
   "execution_count": 5,
   "id": "37892f95",
   "metadata": {},
   "outputs": [
    {
     "name": "stdout",
     "output_type": "stream",
     "text": [
      "[0. 0. 0. 0. 0. 0. 0. 0. 0. 0.]\n",
      "[1. 1. 1. 1. 1. 1. 1. 1. 1. 1.]\n",
      "[5. 5. 5. 5. 5. 5. 5. 5. 5. 5.]\n"
     ]
    }
   ],
   "source": [
    "# B13. 10개의 zero, 10개의 one, 10개의 5로 만들어진 array를 각각 만드시오\n",
    "\n",
    "import numpy as np\n",
    "\n",
    "tenZero = np.zeros(10)\n",
    "tenOne = np.ones(10)\n",
    "tenFive = np.ones(10)*5\n",
    "\n",
    "print(tenZero)\n",
    "print(tenOne)\n",
    "print(tenFive)"
   ]
  },
  {
   "cell_type": "code",
   "execution_count": 6,
   "id": "bbc8f78a",
   "metadata": {},
   "outputs": [
    {
     "name": "stdout",
     "output_type": "stream",
     "text": [
      "16\n",
      "17\n",
      "18\n",
      "19\n",
      "20\n",
      "21\n",
      "22\n",
      "23\n",
      "24\n",
      "25\n",
      "26\n",
      "27\n",
      "28\n",
      "29\n",
      "30\n",
      "31\n",
      "32\n",
      "33\n",
      "34\n",
      "35\n",
      "36\n",
      "37\n",
      "38\n",
      "39\n",
      "40\n",
      "41\n",
      "42\n",
      "43\n",
      "44\n",
      "45\n",
      "46\n",
      "47\n",
      "48\n",
      "49\n",
      "50\n",
      "51\n",
      "52\n",
      "53\n",
      "54\n",
      "[16 17 18 19 20 21 22 23 24 25 26 27 28 29 30 31 32 33 34 35 36 37 38 39\n",
      " 40 41 42 43 44 45 46 47 48 49 50 51 52 53 54]\n"
     ]
    }
   ],
   "source": [
    "# B19. 15부터 55까지 수로 구성된 array에서 첫 요소와 마지막 요소를 제외하고 모두 print하는 코드를 작성하시오\n",
    "\n",
    "import numpy as np\n",
    "\n",
    "myArray = np.arange(15,56)\n",
    "\n",
    "for i in myArray:\n",
    "    if i == 15 or i == 55:\n",
    "        continue\n",
    "    print(i)\n",
    "\n",
    "# -1번째 (맨 마지막)은 포함되지 않음\n",
    "print(myArray[1:-1])"
   ]
  },
  {
   "cell_type": "code",
   "execution_count": 9,
   "id": "589ff859",
   "metadata": {},
   "outputs": [
    {
     "name": "stdout",
     "output_type": "stream",
     "text": [
      "[[10 11 12 13]\n",
      " [14 15 16 17]\n",
      " [18 19 20 21]]\n"
     ]
    }
   ],
   "source": [
    "# B20. 10부터 21까지 정수로 구성되는  3x4 array를 만드시오.\n",
    "\n",
    "import numpy as np\n",
    "\n",
    "arr = np.arange(10,22).reshape(3,4)\n",
    "print(arr)"
   ]
  },
  {
   "cell_type": "code",
   "execution_count": 10,
   "id": "35e7df7b",
   "metadata": {},
   "outputs": [
    {
     "name": "stdout",
     "output_type": "stream",
     "text": [
      "[ 5. 10. 15. 20. 25. 30. 35. 40. 45. 50.]\n"
     ]
    }
   ],
   "source": [
    "# B21. 5부터 50까지 10개의 요소를 등간격으로 구성하는 array를 만드시오 \n",
    "# 등간격은 linspace\n",
    "\n",
    "import numpy as np\n",
    "\n",
    "# linspace는 마지막 숫자인 50이 포함된다!!!\n",
    "myArr = np.linspace(5, 50, 10)\n",
    "print(myArr)"
   ]
  },
  {
   "cell_type": "code",
   "execution_count": 11,
   "id": "ed998b1f",
   "metadata": {},
   "outputs": [
    {
     "name": "stdout",
     "output_type": "stream",
     "text": [
      "[  0   1   2   3   4   5   6   7   8  -9 -10 -11 -12 -13 -14 -15  16  17\n",
      "  18  19  20]\n",
      "[  0   1   2   3   4   5   6   7   8  -9 -10 -11 -12 -13 -14 -15  16  17\n",
      "  18  19  20]\n"
     ]
    }
   ],
   "source": [
    "# B22. 0-20까지 값을 가지는 array에서 9부터 15까지의 요소를 음수로 바꾸시오 \n",
    "# 주의!! 인덱스를 통해 접근하고, 값을 배열에 직접 넣기!\n",
    "\n",
    "import numpy as np\n",
    "\n",
    "myArray = np.arange(0,21)\n",
    "\n",
    "for i in range(0,21):\n",
    "    if 9 <= i and i <= 15:\n",
    "        myArray[i] = -i\n",
    "        \n",
    "print(myArray)\n",
    "\n",
    "\n",
    "\n",
    "x = np.arange(21)\n",
    "x[(x >= 9) & (x <= 15)] *= -1\n",
    "print(x)"
   ]
  },
  {
   "cell_type": "code",
   "execution_count": 15,
   "id": "37d7c6cf",
   "metadata": {},
   "outputs": [
    {
     "name": "stdout",
     "output_type": "stream",
     "text": [
      "[[0.85504079 0.38078659 0.68602908 0.73131362]\n",
      " [0.21630817 0.02106764 0.5929057  0.72616284]\n",
      " [0.84310982 0.62180009 0.49477861 0.65317155]]\n"
     ]
    }
   ],
   "source": [
    "# B23. 임의의 수로 이루어진 3x4 array를 생성하시오 \n",
    "\n",
    "import numpy as np\n",
    "\n",
    "a = np.random.random([3,4])\n",
    "print(a)"
   ]
  },
  {
   "cell_type": "code",
   "execution_count": 18,
   "id": "754950f6",
   "metadata": {},
   "outputs": [
    {
     "name": "stdout",
     "output_type": "stream",
     "text": [
      "[[ 35   8  72  84]\n",
      " [ 92  29 100  82]\n",
      " [ 55  60   7  15]]\n"
     ]
    }
   ],
   "source": [
    "# B24.(random.randint()) 0~100 중 임의의 integer 12개로 이루어진 3x4 array를 생성하시오 \n",
    "\n",
    "import numpy as np\n",
    "\n",
    "b = np.random.randint(0,101,12).reshape(3,4)\n",
    "print(b)"
   ]
  },
  {
   "cell_type": "code",
   "execution_count": 21,
   "id": "ade28a97",
   "metadata": {},
   "outputs": [
    {
     "name": "stdout",
     "output_type": "stream",
     "text": [
      "[[1. 1. 1. 1. 1. 1. 1. 1. 1. 1.]\n",
      " [1. 0. 0. 0. 0. 0. 0. 0. 0. 1.]\n",
      " [1. 0. 0. 0. 0. 0. 0. 0. 0. 1.]\n",
      " [1. 0. 0. 0. 0. 0. 0. 0. 0. 1.]\n",
      " [1. 0. 0. 0. 0. 0. 0. 0. 0. 1.]\n",
      " [1. 0. 0. 0. 0. 0. 0. 0. 0. 1.]\n",
      " [1. 0. 0. 0. 0. 0. 0. 0. 0. 1.]\n",
      " [1. 0. 0. 0. 0. 0. 0. 0. 0. 1.]\n",
      " [1. 0. 0. 0. 0. 0. 0. 0. 0. 1.]\n",
      " [1. 1. 1. 1. 1. 1. 1. 1. 1. 1.]]\n",
      "[[1. 1. 1. 1. 1. 1. 1. 1. 1. 1.]\n",
      " [1. 1. 1. 1. 1. 1. 1. 1. 1. 1.]\n",
      " [1. 1. 1. 1. 1. 1. 1. 1. 1. 1.]\n",
      " [1. 1. 1. 1. 1. 1. 1. 1. 1. 1.]\n",
      " [1. 1. 1. 1. 1. 1. 1. 1. 1. 1.]\n",
      " [1. 1. 1. 1. 1. 1. 1. 1. 1. 1.]\n",
      " [1. 1. 1. 1. 1. 1. 1. 1. 1. 1.]\n",
      " [1. 1. 1. 1. 1. 1. 1. 1. 1. 1.]\n",
      " [1. 1. 1. 1. 1. 1. 1. 1. 1. 1.]\n",
      " [1. 1. 1. 1. 1. 1. 1. 1. 1. 1.]]\n",
      "[[1. 1. 1. 1. 1. 1. 1. 1. 1. 1.]\n",
      " [1. 0. 0. 0. 0. 0. 0. 0. 0. 1.]\n",
      " [1. 0. 0. 0. 0. 0. 0. 0. 0. 1.]\n",
      " [1. 0. 0. 0. 0. 0. 0. 0. 0. 1.]\n",
      " [1. 0. 0. 0. 0. 0. 0. 0. 0. 1.]\n",
      " [1. 0. 0. 0. 0. 0. 0. 0. 0. 1.]\n",
      " [1. 0. 0. 0. 0. 0. 0. 0. 0. 1.]\n",
      " [1. 0. 0. 0. 0. 0. 0. 0. 0. 1.]\n",
      " [1. 0. 0. 0. 0. 0. 0. 0. 0. 1.]\n",
      " [1. 1. 1. 1. 1. 1. 1. 1. 1. 1.]]\n"
     ]
    }
   ],
   "source": [
    "# B28. 10x10 array를 만들어 가운데는 zero 가장자리는 1로 채우시오\n",
    "\n",
    "import numpy as np\n",
    "\n",
    "c = np.zeros([10, 10])\n",
    "\n",
    "for i in range(0, 10):\n",
    "    for j in range(0, 10):\n",
    "        if i == 0 or i == 9 or j == 0 or j == 9:\n",
    "            c[i][j] = 1\n",
    "\n",
    "print(c)\n",
    "\n",
    "c = np.ones([10, 10])\n",
    "print(c)\n",
    "# -1은 포함이 안되므로, 이 앞인 -2까지 적용\n",
    "c[1:-1, 1:-1] = 0\n",
    "print(c)"
   ]
  },
  {
   "cell_type": "code",
   "execution_count": 22,
   "id": "119faa4c",
   "metadata": {},
   "outputs": [
    {
     "name": "stdout",
     "output_type": "stream",
     "text": [
      "[0 0 0 2 3 4 5 0]\n",
      "[0 0 0 2 3 4 5 0]\n"
     ]
    }
   ],
   "source": [
    "# A90. 주어진 array에서 음수를 zero로 바꾸시오\n",
    "\n",
    "import numpy as np\n",
    "\n",
    "x = np.array([-1, -4, 0, 2, 3, 4, 5, -6])\n",
    "\n",
    "for i in range(len(x)):\n",
    "    if x[i] < 0:\n",
    "        x[i] = 0\n",
    "\n",
    "print(x)\n",
    "\n",
    "\n",
    "\n",
    "\n",
    "x[x < 0] = 0\n",
    "\n",
    "print(x)"
   ]
  },
  {
   "cell_type": "code",
   "execution_count": 25,
   "id": "0fd3d121",
   "metadata": {},
   "outputs": [
    {
     "name": "stdout",
     "output_type": "stream",
     "text": [
      "[[0.5        0.5        0.33264781 0.5        0.00096707 0.5       ]\n",
      " [0.5        0.5        0.5        0.01939149 0.43900726 0.42846014]\n",
      " [0.21960772 0.27093064 0.02918032 0.5        0.3280272  0.5       ]\n",
      " [0.07748644 0.37862192 0.5        0.5        0.17946224 0.5       ]\n",
      " [0.5        0.3603441  0.5        0.27595612 0.5        0.21018376]\n",
      " [0.5        0.5        0.18763678 0.5        0.5        0.5       ]]\n",
      "[[0.5        0.5        0.33264781 0.5        0.00096707 0.5       ]\n",
      " [0.5        0.5        0.5        0.01939149 0.43900726 0.42846014]\n",
      " [0.21960772 0.27093064 0.02918032 0.5        0.3280272  0.5       ]\n",
      " [0.07748644 0.37862192 0.5        0.5        0.17946224 0.5       ]\n",
      " [0.5        0.3603441  0.5        0.27595612 0.5        0.21018376]\n",
      " [0.5        0.5        0.18763678 0.5        0.5        0.5       ]]\n"
     ]
    }
   ],
   "source": [
    "# A88. 6x6 random array를 만들어 .5보다 큰 요소는 값을 0.5로 바꾸시오.\n",
    "\n",
    "import numpy as np\n",
    "\n",
    "randArray = np.random.random([6,6])\n",
    "for i in range(6):\n",
    "    for j in range(6):\n",
    "        if randArray[i][j] > 0.5:\n",
    "            randArray[i][j] = 0.5\n",
    "\n",
    "print(randArray)\n",
    "            \n",
    "    \n",
    "    \n",
    "randArray[randArray > .5] = .5\n",
    "print(randArray)"
   ]
  },
  {
   "cell_type": "code",
   "execution_count": null,
   "id": "af09216b",
   "metadata": {},
   "outputs": [],
   "source": []
  }
 ],
 "metadata": {
  "kernelspec": {
   "display_name": "Python 3 (ipykernel)",
   "language": "python",
   "name": "python3"
  },
  "language_info": {
   "codemirror_mode": {
    "name": "ipython",
    "version": 3
   },
   "file_extension": ".py",
   "mimetype": "text/x-python",
   "name": "python",
   "nbconvert_exporter": "python",
   "pygments_lexer": "ipython3",
   "version": "3.9.12"
  }
 },
 "nbformat": 4,
 "nbformat_minor": 5
}
