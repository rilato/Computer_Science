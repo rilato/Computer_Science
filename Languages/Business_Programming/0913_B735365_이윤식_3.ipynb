{
 "cells": [
  {
   "cell_type": "code",
   "execution_count": 1,
   "id": "c7f5f69c",
   "metadata": {},
   "outputs": [
    {
     "name": "stdout",
     "output_type": "stream",
     "text": [
      "70.0\n"
     ]
    }
   ],
   "source": [
    "# 연습문제\n",
    "#1. 국어 : 80, 영어 : 75, 수학 : 55일 때 평균점수는?\n",
    "\n",
    "korean = 80\n",
    "english = 75\n",
    "math = 55\n",
    "\n",
    "sum = korean + english + math\n",
    "\n",
    "print(sum / 3)"
   ]
  },
  {
   "cell_type": "code",
   "execution_count": 2,
   "id": "baa70299",
   "metadata": {},
   "outputs": [
    {
     "data": {
      "text/plain": [
       "5"
      ]
     },
     "execution_count": 2,
     "metadata": {},
     "output_type": "execute_result"
    }
   ],
   "source": [
    "#2. 17을 3으로 나누었을 때 몫은?\n",
    "\n",
    "17 // 3"
   ]
  },
  {
   "cell_type": "code",
   "execution_count": 3,
   "id": "63aa754e",
   "metadata": {},
   "outputs": [
    {
     "data": {
      "text/plain": [
       "2"
      ]
     },
     "execution_count": 3,
     "metadata": {},
     "output_type": "execute_result"
    }
   ],
   "source": [
    "#3. 17을 3으로 나누었을 때 나머지는?\n",
    "\n",
    "17 % 3"
   ]
  },
  {
   "cell_type": "code",
   "execution_count": 4,
   "id": "3cde060a",
   "metadata": {},
   "outputs": [],
   "source": [
    "#4. 주어진 자연수가 홀수인지 짝수인지?\n",
    "\n",
    "# num % 2 == 0 : 짝수\n",
    "# num % 2 == 1 : 홀수"
   ]
  },
  {
   "cell_type": "code",
   "execution_count": 5,
   "id": "2fd02d18",
   "metadata": {},
   "outputs": [
    {
     "data": {
      "text/plain": [
       "int"
      ]
     },
     "execution_count": 5,
     "metadata": {},
     "output_type": "execute_result"
    }
   ],
   "source": [
    "# 실습문제\n",
    "# 123의 자료형을 나타내는 코드?\n",
    "\n",
    "type(123)"
   ]
  },
  {
   "cell_type": "code",
   "execution_count": 6,
   "id": "cdbfd10c",
   "metadata": {},
   "outputs": [
    {
     "data": {
      "text/plain": [
       "2.0"
      ]
     },
     "execution_count": 6,
     "metadata": {},
     "output_type": "execute_result"
    }
   ],
   "source": [
    "# 6을 3으로 나눈 값은?\n",
    "\n",
    "6 / 3"
   ]
  },
  {
   "cell_type": "code",
   "execution_count": 7,
   "id": "364e65f3",
   "metadata": {},
   "outputs": [
    {
     "data": {
      "text/plain": [
       "int"
      ]
     },
     "execution_count": 7,
     "metadata": {},
     "output_type": "execute_result"
    }
   ],
   "source": [
    "# 234의 자료형은?\n",
    "type(234)"
   ]
  },
  {
   "cell_type": "code",
   "execution_count": 9,
   "id": "1901181f",
   "metadata": {},
   "outputs": [
    {
     "data": {
      "text/plain": [
       "float"
      ]
     },
     "execution_count": 9,
     "metadata": {},
     "output_type": "execute_result"
    }
   ],
   "source": [
    "# 6을 3으로 나눈 값의 자료형은?\n",
    "\n",
    "type(6 / 3)"
   ]
  },
  {
   "cell_type": "code",
   "execution_count": 10,
   "id": "6c10d002",
   "metadata": {},
   "outputs": [
    {
     "data": {
      "text/plain": [
       "int"
      ]
     },
     "execution_count": 10,
     "metadata": {},
     "output_type": "execute_result"
    }
   ],
   "source": [
    "# 6 - 4 값의 자료형은?\n",
    "\n",
    "type(6 - 4)"
   ]
  },
  {
   "cell_type": "code",
   "execution_count": 11,
   "id": "8a44a076",
   "metadata": {},
   "outputs": [
    {
     "data": {
      "text/plain": [
       "float"
      ]
     },
     "execution_count": 11,
     "metadata": {},
     "output_type": "execute_result"
    }
   ],
   "source": [
    "# 6 - 5.0의 자료형은?\n",
    "\n",
    "type(6 - 5.0)"
   ]
  },
  {
   "cell_type": "code",
   "execution_count": 12,
   "id": "af64ef35",
   "metadata": {},
   "outputs": [
    {
     "data": {
      "text/plain": [
       "216"
      ]
     },
     "execution_count": 12,
     "metadata": {},
     "output_type": "execute_result"
    }
   ],
   "source": [
    "# 6의 3제곱 값은?\n",
    "\n",
    "6 ** 3"
   ]
  },
  {
   "cell_type": "code",
   "execution_count": 13,
   "id": "612330e4",
   "metadata": {},
   "outputs": [
    {
     "data": {
      "text/plain": [
       "8"
      ]
     },
     "execution_count": 13,
     "metadata": {},
     "output_type": "execute_result"
    }
   ],
   "source": [
    "# 2의 3제곱 값은?\n",
    "\n",
    "2 ** 3"
   ]
  },
  {
   "cell_type": "code",
   "execution_count": 14,
   "id": "469833e6",
   "metadata": {},
   "outputs": [
    {
     "data": {
      "text/plain": [
       "1"
      ]
     },
     "execution_count": 14,
     "metadata": {},
     "output_type": "execute_result"
    }
   ],
   "source": [
    "# 10을 3으로 나눈 나머지는?\n",
    "\n",
    "10 % 3"
   ]
  },
  {
   "cell_type": "code",
   "execution_count": 15,
   "id": "6c290e41",
   "metadata": {},
   "outputs": [
    {
     "data": {
      "text/plain": [
       "3"
      ]
     },
     "execution_count": 15,
     "metadata": {},
     "output_type": "execute_result"
    }
   ],
   "source": [
    "# 10을 3으로 나눈 정수 몫은?\n",
    "\n",
    "10 // 3"
   ]
  },
  {
   "cell_type": "code",
   "execution_count": 16,
   "id": "d395cde8",
   "metadata": {},
   "outputs": [
    {
     "data": {
      "text/plain": [
       "0"
      ]
     },
     "execution_count": 16,
     "metadata": {},
     "output_type": "execute_result"
    }
   ],
   "source": [
    "# 6을 7로 나눈 정수 몫은?\n",
    "\n",
    "6 // 7"
   ]
  },
  {
   "cell_type": "code",
   "execution_count": 19,
   "id": "668856f0",
   "metadata": {},
   "outputs": [
    {
     "data": {
      "text/plain": [
       "3"
      ]
     },
     "execution_count": 19,
     "metadata": {},
     "output_type": "execute_result"
    }
   ],
   "source": [
    "# 100을 3으로 나눈 정수 몫을 10으로 나눈 나머지는?\n",
    "\n",
    "(100 // 3) % 10"
   ]
  },
  {
   "cell_type": "code",
   "execution_count": 20,
   "id": "8ef3f990",
   "metadata": {},
   "outputs": [
    {
     "data": {
      "text/plain": [
       "6"
      ]
     },
     "execution_count": 20,
     "metadata": {},
     "output_type": "execute_result"
    }
   ],
   "source": [
    "# 6을 8로 나눈 나머지는?\n",
    "\n",
    "6 % 8"
   ]
  },
  {
   "cell_type": "code",
   "execution_count": 21,
   "id": "12cf661e",
   "metadata": {},
   "outputs": [
    {
     "name": "stdout",
     "output_type": "stream",
     "text": [
      "3.5\n"
     ]
    }
   ],
   "source": [
    "a = 3;\n",
    "a += 0.5;\n",
    "print(a);"
   ]
  },
  {
   "cell_type": "code",
   "execution_count": 22,
   "id": "8da26aa7",
   "metadata": {},
   "outputs": [
    {
     "name": "stdout",
     "output_type": "stream",
     "text": [
      "2.5\n"
     ]
    }
   ],
   "source": [
    "a = 3;\n",
    "a -= 0.5;\n",
    "print(a);"
   ]
  },
  {
   "cell_type": "code",
   "execution_count": 23,
   "id": "7f3dc714",
   "metadata": {},
   "outputs": [
    {
     "name": "stdout",
     "output_type": "stream",
     "text": [
      "1.5\n"
     ]
    }
   ],
   "source": [
    "a = 3;\n",
    "a *= 0.5;\n",
    "print(a);"
   ]
  },
  {
   "cell_type": "code",
   "execution_count": 24,
   "id": "cfa8785a",
   "metadata": {},
   "outputs": [
    {
     "name": "stdout",
     "output_type": "stream",
     "text": [
      "0\n"
     ]
    }
   ],
   "source": [
    "a = 30;\n",
    "a %= 10;\n",
    "print(a);"
   ]
  },
  {
   "cell_type": "code",
   "execution_count": 25,
   "id": "d3a9a2be",
   "metadata": {},
   "outputs": [
    {
     "name": "stdout",
     "output_type": "stream",
     "text": [
      "4\n"
     ]
    }
   ],
   "source": [
    "a = 30;\n",
    "a //= 7;\n",
    "print(a);"
   ]
  },
  {
   "cell_type": "code",
   "execution_count": 26,
   "id": "955c1702",
   "metadata": {},
   "outputs": [
    {
     "name": "stdout",
     "output_type": "stream",
     "text": [
      "900\n"
     ]
    }
   ],
   "source": [
    "a = 30;\n",
    "a **= 2;\n",
    "print(a);"
   ]
  },
  {
   "cell_type": "code",
   "execution_count": 3,
   "id": "1ce83485",
   "metadata": {},
   "outputs": [
    {
     "name": "stdout",
     "output_type": "stream",
     "text": [
      "\"I love \n",
      "\"Hotdog\"!!\"\n",
      "\"I love \n",
      "\"Hotdog\"!!\"\n",
      "\"I love \n",
      "\"Hotdog\"!!\"\n",
      "\"I love \n",
      "\"Hotdog\"!!\"\n",
      "\"I love\n",
      "\"Hotdog\"!!\"\n",
      "\"I love\n",
      "\"Hotdog\"!!\"\n",
      "\"I love \n",
      "\"Hotdog\"!!\"\n",
      "\"I love \n",
      "\"Hotdog\"!!\"\n",
      "\"I love \n",
      "\"Hotdog\"!!\"\n",
      "\"I love\n",
      "\"Hotdog\"!!\"\n"
     ]
    }
   ],
   "source": [
    "# 실습문제\n",
    "# string을 print하는 다양한 코드를 작성하시오 (3-6가지 코드)\n",
    "a = '\\\"I love \\n\\\"Hotdog\\\"!!\\\"'\n",
    "b = \"\\\"I love \\n\\\"Hotdog\\\"!!\\\"\"\n",
    "c = '''\"I love \\n\"Hotdog\"!!\"'''\n",
    "d = \"\"\"\\\"I love \\n\"Hotdog\"!!\\\"\"\"\"\n",
    "e = '''\"I love\n",
    "\"Hotdog\"!!\"'''\n",
    "f = \"\"\"\\\"I love\n",
    "\"Hotdog\"!!\\\"\"\"\"\n",
    "g = '''\\\"I love \\n\\\"Hotdog\\\"!!\\\"'''\n",
    "h = \"\"\"\\\"I love \\n\\\"Hotdog\\\"!!\\\"\"\"\"\n",
    "i = '\"I love \\n\"Hotdog\"!!\"'\n",
    "# 맨 처음에는 \"을 네 개 쓰면 \"을 \\없이도 \"로 인식함\n",
    "j = \"\"\"\"I love\n",
    "\"Hotdog\"!!\\\"\"\"\"\n",
    "print(a)\n",
    "print(b)\n",
    "print(c)\n",
    "print(d)\n",
    "print(e)\n",
    "print(f)\n",
    "print(g)\n",
    "print(h)\n",
    "print(i)\n",
    "print(j)"
   ]
  },
  {
   "cell_type": "code",
   "execution_count": 11,
   "id": "be92b4a8",
   "metadata": {},
   "outputs": [
    {
     "name": "stdout",
     "output_type": "stream",
     "text": [
      "\"점프 투 파이썬\" 문제를 풀어보자\n"
     ]
    }
   ],
   "source": [
    "# 문자열 연습문제\n",
    "\n",
    "# 문자열을 출력하시오\n",
    "\n",
    "str = '''\"점프 투 파이썬\" 문제를 풀어보자'''\n",
    "print(str)"
   ]
  },
  {
   "cell_type": "code",
   "execution_count": 12,
   "id": "7fa9592e",
   "metadata": {},
   "outputs": [
    {
     "name": "stdout",
     "output_type": "stream",
     "text": [
      "Life is too short\n",
      "You need Python\n"
     ]
    }
   ],
   "source": [
    "# 문자열을 출력하시오\n",
    "\n",
    "str1 = \"\"\"Life is too short\n",
    "You need Python\"\"\"\n",
    "print(str1)"
   ]
  },
  {
   "cell_type": "code",
   "execution_count": 13,
   "id": "afc52d21",
   "metadata": {},
   "outputs": [
    {
     "name": "stdout",
     "output_type": "stream",
     "text": [
      "                        PYTHON\n"
     ]
    }
   ],
   "source": [
    "# 문자열 앞에 공백 24개를 추가하시오\n",
    "\n",
    "str2 = \"PYTHON\"\n",
    "space = \" \"\n",
    "str2 = space * 24 + str2\n",
    "print(str2)"
   ]
  },
  {
   "cell_type": "code",
   "execution_count": 23,
   "id": "de8cda05",
   "metadata": {},
   "outputs": [
    {
     "name": "stdout",
     "output_type": "stream",
     "text": [
      "881120\n",
      "1068234\n"
     ]
    }
   ],
   "source": [
    "# 홍길동 씨의 주민번호는 881120-1068234\n",
    "# 홍길동씨의 주민등록번호를 (YYMMDD) 부분과 그 뒤의 숫자 부분으로 나누어 출력\n",
    "\n",
    "number = \"881120-1068234\"\n",
    "print(number[:6])\n",
    "print(number[7:])"
   ]
  },
  {
   "cell_type": "code",
   "execution_count": 19,
   "id": "a7ffc8af",
   "metadata": {},
   "outputs": [
    {
     "name": "stdout",
     "output_type": "stream",
     "text": [
      "1\n"
     ]
    }
   ],
   "source": [
    "# 주민등록번호에서 성별(1, 2)을 나타내는 숫자를 출력\n",
    "\n",
    "pin = \"881120-1068234\"\n",
    "print(pin[7])"
   ]
  },
  {
   "cell_type": "code",
   "execution_count": 20,
   "id": "7c545baa",
   "metadata": {},
   "outputs": [
    {
     "name": "stdout",
     "output_type": "stream",
     "text": [
      "M19801120\n"
     ]
    }
   ],
   "source": [
    "# 1980M1120 -> M19801120으로 변경하시오\n",
    "\n",
    "str = \"1980M1120\"\n",
    "str = str[4] + str[:4] + str[5:]\n",
    "print(str)"
   ]
  },
  {
   "cell_type": "code",
   "execution_count": null,
   "id": "06a3d213",
   "metadata": {},
   "outputs": [],
   "source": []
  }
 ],
 "metadata": {
  "kernelspec": {
   "display_name": "Python 3 (ipykernel)",
   "language": "python",
   "name": "python3"
  },
  "language_info": {
   "codemirror_mode": {
    "name": "ipython",
    "version": 3
   },
   "file_extension": ".py",
   "mimetype": "text/x-python",
   "name": "python",
   "nbconvert_exporter": "python",
   "pygments_lexer": "ipython3",
   "version": "3.9.12"
  }
 },
 "nbformat": 4,
 "nbformat_minor": 5
}
