{
 "cells": [
  {
   "cell_type": "code",
   "execution_count": 1,
   "id": "b81cf5f6",
   "metadata": {},
   "outputs": [
    {
     "name": "stdout",
     "output_type": "stream",
     "text": [
      "첫번째 숫자를 입력하세요:3\n",
      "첫번째 숫자를 입력하세요:6\n",
      "두 수의 합은 36 입니다\n",
      "첫번째 숫자를 입력하세요:3\n",
      "첫번째 숫자를 입력하세요:6\n",
      "두 수의 합은 9 입니다\n"
     ]
    }
   ],
   "source": [
    "# 연습문제\n",
    "\n",
    "# 문제 1\n",
    "# 입력 값 : 3, 6일 때 위는 36, 아래는 9 출력\n",
    "\n",
    "input1 = input(\"첫번째 숫자를 입력하세요:\")\n",
    "input2 = input(\"두번째 숫자를 입력하세요:\")\n",
    "\n",
    "total = input1 + input2\n",
    "print(\"두 수의 합은 %s 입니다\" %total)\n",
    "\n",
    "input3 = int(input(\"첫번째 숫자를 입력하세요:\"))\n",
    "input4 = int(input(\"두번째 숫자를 입력하세요:\"))\n",
    "\n",
    "total = input3 + input4\n",
    "print(\"두 수의 합은 %s 입니다\" %total)"
   ]
  },
  {
   "cell_type": "code",
   "execution_count": 2,
   "id": "236b5208",
   "metadata": {},
   "outputs": [
    {
     "name": "stdout",
     "output_type": "stream",
     "text": [
      "숫자 여러개를 콤마를 넣어 입력하시오: 1,2,3,4,5\n",
      "15\n"
     ]
    }
   ],
   "source": [
    "# 문제 2\n",
    "# 여러개의 숫자를 input으로 입력받아 모두 합한 결과 출력\n",
    "\n",
    "number = input('숫자 여러개를 콤마를 넣어 입력하시오: ')\n",
    "numbers = number.split(',')\n",
    "\n",
    "total = 0\n",
    "for i in numbers:\n",
    "    total += int(i)\n",
    "    \n",
    "print(total)"
   ]
  },
  {
   "cell_type": "code",
   "execution_count": 2,
   "id": "14aaed8f",
   "metadata": {},
   "outputs": [
    {
     "name": "stdout",
     "output_type": "stream",
     "text": [
      "youneedpython\n",
      "youneedpython\n",
      "you need python\n",
      "youneedpython\n"
     ]
    }
   ],
   "source": [
    "# 문제 3\n",
    "# 출력이 다른 하나는?\n",
    "\n",
    "print(\"you\" \"need\" \"python\")\n",
    "print(\"you\"+\"need\"+\"python\")\n",
    "print(\"you\",\"need\",\"python\")\n",
    "print(\"\".join([\"you\",\"need\",\"python\"]))"
   ]
  },
  {
   "cell_type": "code",
   "execution_count": 5,
   "id": "b4194dce",
   "metadata": {},
   "outputs": [
    {
     "name": "stdout",
     "output_type": "stream",
     "text": [
      "구구단을 출력할 숫자를 입력하세요(2~9): 9\n",
      "9 X 1 = 9\n",
      "9 X 2 = 18\n",
      "9 X 3 = 27\n",
      "9 X 4 = 36\n",
      "9 X 5 = 45\n",
      "9 X 6 = 54\n",
      "9 X 7 = 63\n",
      "9 X 8 = 72\n",
      "9 X 9 = 81\n"
     ]
    }
   ],
   "source": [
    "# 문제 4\n",
    "# 입력받고 구구단\n",
    "\n",
    "a = int(input(\"구구단을 출력할 숫자를 입력하세요(2~9): \"))\n",
    "\n",
    "for i in range (1,10):\n",
    "    print(f'{a} X {i} = {a*i}')"
   ]
  },
  {
   "cell_type": "code",
   "execution_count": 7,
   "id": "36b4fbcb",
   "metadata": {
    "scrolled": true
   },
   "outputs": [
    {
     "name": "stdout",
     "output_type": "stream",
     "text": [
      "\n"
     ]
    }
   ],
   "source": [
    "# file open 연습문제\n",
    "\n",
    "# 문제 1\n",
    "# Life is too short가 저장된 후 파일을 다시 읽을 수 있도록 코드 작성\n",
    "\n",
    "f1 = open(\"test.txt\", 'w')\n",
    "f1.write(\"Life is too short\")\n",
    "f1.close\n",
    "\n",
    "f2 = open(\"test.txt\", 'r')\n",
    "print(f2.read())\n",
    "f2.close()"
   ]
  },
  {
   "cell_type": "code",
   "execution_count": 15,
   "id": "8095c84c",
   "metadata": {},
   "outputs": [
    {
     "name": "stdout",
     "output_type": "stream",
     "text": [
      "저장할 내용을 입력하세요: Hello\n"
     ]
    }
   ],
   "source": [
    "# 문제 2\n",
    "# 입력한 내용을 파일에 저장\n",
    "\n",
    "text = input(\"저장할 내용을 입력하세요: \")\n",
    "\n",
    "f = open(\"test.txt\", 'a')\n",
    "f.write(text)\n",
    "f.write('\\n')\n",
    "f.close()"
   ]
  },
  {
   "cell_type": "code",
   "execution_count": 5,
   "id": "55b65abe",
   "metadata": {},
   "outputs": [],
   "source": [
    "# 문제 3\n",
    "# 파일의 내용 바꾸기\n",
    "\n",
    "#with open(\"abc.txt\", 'w') as f:\n",
    "#    f.write(\"EEE\\nDDD\\nCCC\\nBBB\\nAAA\")\n",
    "\n",
    "    \n",
    "# 교수님 풀이\n",
    "f = open('abc.txt', 'r')\n",
    "lines = f.readlines()\n",
    "f.close()\n",
    "\n",
    "rlines = reversed(lines)\n",
    "\n",
    "f = open('abc.txt', 'w')\n",
    "for line in rlines:\n",
    "    line = line.strip()\n",
    "    f.write(line)\n",
    "    f.write('\\n')\n",
    "f.close()"
   ]
  },
  {
   "cell_type": "code",
   "execution_count": null,
   "id": "28664938",
   "metadata": {},
   "outputs": [],
   "source": [
    "# 문제 4\n",
    "# 파일의 내용 바꾸기\n",
    "\n",
    "f = open('test.txt', 'r')\n",
    "body = f.read()\n",
    "f.close()\n",
    "\n",
    "body = body.replace('java', 'python')\n",
    "\n",
    "f = open('test.txt', 'w')\n",
    "f.write(body)\n",
    "f.close()"
   ]
  },
  {
   "cell_type": "code",
   "execution_count": 7,
   "id": "b419b193",
   "metadata": {},
   "outputs": [],
   "source": [
    "# 문제 5\n",
    "# sample.txt 읽어서 총합과 평균값을 구한 후 평균값을 result.txt에 쓰기\n",
    "\n",
    "#f = open('sample.txt', 'r')\n",
    "\n",
    "#sum1 = 0\n",
    "#count = 0;\n",
    "\n",
    "#while(1):\n",
    "#    line = f.readline()\n",
    "#    if (line == \"\"):\n",
    "#        break\n",
    "#    count += 1\n",
    "#    line = int(line)\n",
    "#    sum1 += line\n",
    "\n",
    "#avg = sum1/count\n",
    "\n",
    "#f.close\n",
    "\n",
    "#with open(\"result.txt\", 'w') as f1:\n",
    "    # avg는 float이므로 str으로 바꿔서 저장해야 함\n",
    "#    f1.write(str(avg))\n",
    "\n",
    "\n",
    "# 교수님 풀이\n",
    "f = open('sample.txt', 'r')\n",
    "lines = f.readlines()\n",
    "f.close()\n",
    "\n",
    "total = 0\n",
    "for line in lines:\n",
    "    score = int(line)\n",
    "    total += score\n",
    "average = total / len(lines)\n",
    "\n",
    "f = open(\"result.txt\", \"w\")\n",
    "# 반드시 int를 str으로 바꿔주기!!\n",
    "f.write(str(average))\n",
    "f.close()"
   ]
  },
  {
   "cell_type": "code",
   "execution_count": null,
   "id": "9e463b0d",
   "metadata": {},
   "outputs": [],
   "source": []
  },
  {
   "cell_type": "code",
   "execution_count": 7,
   "id": "d05c9194",
   "metadata": {},
   "outputs": [
    {
     "name": "stdout",
     "output_type": "stream",
     "text": [
      "3\n",
      "3 X 1 = 3\n",
      "3 X 2 = 6\n",
      "3 X 3 = 9\n",
      "3 X 4 = 12\n",
      "3 X 5 = 15\n",
      "3 X 6 = 18\n",
      "3 X 7 = 21\n",
      "3 X 8 = 24\n",
      "3 X 9 = 27\n"
     ]
    }
   ],
   "source": [
    "# 실습문제\n",
    "\n",
    "# 문제1\n",
    "\n",
    "# 사용자 입력을 받아 그 숫자 n에 해당되는 구구단을 출력한 후 n을 return하는 함수를 작성하고 함수를 실행하여 결과를 출력하시오.\n",
    "\n",
    "def gugudan(n):\n",
    "    for i in range(1,10):\n",
    "        print(f'{n} X {i} = {n * i}')\n",
    "        \n",
    "dan = int(input())\n",
    "gugudan(dan)"
   ]
  },
  {
   "cell_type": "code",
   "execution_count": 9,
   "id": "e0dccd30",
   "metadata": {},
   "outputs": [
    {
     "name": "stdout",
     "output_type": "stream",
     "text": [
      "숫자를 입력하시오 : 4\n",
      "4는 짝수입니다.\n"
     ]
    }
   ],
   "source": [
    "# 문제 2\n",
    "\n",
    "# 주어진 자연수가 홀수이면 True를 짝수이면 False를 return하여 주는 함수(is_odd)를 작성하시오.\n",
    "\n",
    "def is_odd(a):\n",
    "    if (a % 2 == 1):\n",
    "        return True\n",
    "    else:\n",
    "        return False\n",
    "\n",
    "#a = int(input(\"숫자를 입력하시오 : \"))\n",
    "\n",
    "#if (is_odd(a)):\n",
    "#    print(f'{a}는 홀수입니다.')\n",
    "#else:\n",
    "#    print(f'{a}는 짝수입니다.')"
   ]
  },
  {
   "cell_type": "code",
   "execution_count": 10,
   "id": "6e87314d",
   "metadata": {},
   "outputs": [
    {
     "name": "stdout",
     "output_type": "stream",
     "text": [
      "5\n",
      "5 X 1 = 5\n",
      "5 X 2 = 10\n",
      "5 X 3 = 15\n",
      "5 X 4 = 20\n",
      "5 X 5 = 25\n",
      "5 X 6 = 30\n",
      "5 X 7 = 35\n",
      "5 X 8 = 40\n",
      "5 X 9 = 45\n",
      "홀수 구구단입니다\n"
     ]
    }
   ],
   "source": [
    "# 문제 3\n",
    "\n",
    "# 1~2번의 함수를 가지는 module, mod2을 생성하시오(현재 디렉토리 내).\n",
    "# mod2을 import하고 mod2의 함수를 이용하여 다음의 코드를 작성하시오.\n",
    "# 사용자로부터 숫자를 입력받아 해당하는 구구단을 출력하고 입력받은 수가 짝수이면 \"짝수 구구단입니다\"를,\n",
    "# 홀수이면 \"홀수 구구단입니다\"를 출력하는 코드를 작성하시오.\n",
    "\n",
    "import mod2\n",
    "\n",
    "dan = int(input())\n",
    "mod2.gugudan(dan)\n",
    "mod2.is_odd(dan)"
   ]
  },
  {
   "cell_type": "code",
   "execution_count": 20,
   "id": "1a1d7990",
   "metadata": {},
   "outputs": [
    {
     "name": "stdout",
     "output_type": "stream",
     "text": [
      "수강합니다\n"
     ]
    }
   ],
   "source": [
    "# 문제 4\n",
    "\n",
    "# 사용자의 입력을 파일(test.txt)에 저장하는 프로그램을 작성하시오.\n",
    "# (단, 프로그램을 다시 실행하더라도 기존 작성한 내용을 유지하고 새로 입력한 내용이 추가되어야 한다.)\n",
    "# 예. 작성한 코드를 네번 실행하여 각 실행 시 다음과 같은 각 입력이 네번 주어지는 경우 모두 차례대로 test.txt에 입력되어야 합니다.\n",
    "\n",
    "mytext = input()\n",
    "\n",
    "with open(\"test.txt\", 'a') as f2:\n",
    "    f2.write(mytext)\n",
    "    f2.write('\\n')"
   ]
  },
  {
   "cell_type": "code",
   "execution_count": 25,
   "id": "1317f0d0",
   "metadata": {},
   "outputs": [
    {
     "name": "stdout",
     "output_type": "stream",
     "text": [
      "숫자를 입력하세요:1\n",
      "숫자를 입력하세요:3\n",
      "숫자를 입력하세요:5\n"
     ]
    },
    {
     "data": {
      "text/plain": [
       "[1, 3, 5]"
      ]
     },
     "execution_count": 25,
     "metadata": {},
     "output_type": "execute_result"
    }
   ],
   "source": [
    "# 문제 5\n",
    "\n",
    "# 세개의 숫자를 차례로 사용자로부터 입력받아 리스트로 리턴해 주는 함수 num_list()을 생성하고\n",
    "# 이 함수를 호출하는 파이썬 코드를 작성하고 에러없이 실행하시오.\n",
    "\n",
    "def num_list():\n",
    "    mylist = []\n",
    "    for i in range (0,3):\n",
    "        num = int(input(\"숫자를 입력하세요:\"))\n",
    "        mylist.append(num)\n",
    "    return mylist\n",
    "\n",
    "num_list()"
   ]
  },
  {
   "cell_type": "code",
   "execution_count": 43,
   "id": "c5a7fcdb",
   "metadata": {},
   "outputs": [
    {
     "data": {
      "text/plain": [
       "[8, 9, 10]"
      ]
     },
     "execution_count": 43,
     "metadata": {},
     "output_type": "execute_result"
    }
   ],
   "source": [
    "# 문제 6\n",
    "\n",
    "# 숫자들로 이루어진 리스트를 인수(argument)로 받아 7보다 큰 수만 필터링하여 리턴해 주는 함수, myfunc()를 작성하시오\n",
    "# 그리고 myfunc([5,6,7,8,9,10])를 실행하여 [8,9,10]이 출력되는 코드를 작성하시오.\n",
    "\n",
    "# 틀린풀이\n",
    "# remove를 하는 순간 인덱싱이 하나씩 뒤로 밀리기 때문에, 원하는 결과를 얻을 수 없다.\n",
    "# def myfunc(my_list):\n",
    "#     for i in my_list:\n",
    "#         print(i)\n",
    "#         if i <= 7:\n",
    "#             my_list.remove(i)\n",
    "#             print(my_list)\n",
    "#     return my_list\n",
    "\n",
    "def myfunc(my_list):\n",
    "    myList = []\n",
    "    for i in my_list:\n",
    "        if i > 7:\n",
    "            myList.append(i)\n",
    "    return myList\n",
    "\n",
    "myfunc([5,6,7,8,9,10])"
   ]
  },
  {
   "cell_type": "code",
   "execution_count": 64,
   "id": "dcfd8f65",
   "metadata": {},
   "outputs": [
    {
     "name": "stdout",
     "output_type": "stream",
     "text": [
      "숫자를 입력하세요:7\n",
      "숫자를 입력하세요:8\n",
      "숫자를 입력하세요:9\n"
     ]
    },
    {
     "data": {
      "text/plain": [
       "[8, 9]"
      ]
     },
     "execution_count": 64,
     "metadata": {},
     "output_type": "execute_result"
    }
   ],
   "source": [
    "# 문제 7\n",
    "\n",
    "# 1~2번의 함수가 포함된 module, mod3을 생성하시오.(현재 디렉토리 내 mod3.py를 생성)\n",
    "# mod3을 import하고 mod3.함수명()을 이용하여, 세개의 숫자를 입력받아 7보다 큰 숫자만 필터링하여 출력하시오.\n",
    "# 예. 7,8,9 입력시 [8,9]를 출력.\n",
    "\n",
    "# mod3.py를 인식하지 못하여 moduler1이라는 파일 명을 사용했습니다.\n",
    "\n",
    "import moduler1\n",
    "\n",
    "myList = moduler1.num_list()\n",
    "moduler1.myfunc(myList)"
   ]
  },
  {
   "cell_type": "code",
   "execution_count": 76,
   "id": "3898a9d2",
   "metadata": {},
   "outputs": [],
   "source": [
    "# 문제 8\n",
    "\n",
    "# 4-1. 아래와 같은 내용을 입력한 파일 test.txt 를 생성한 후,\n",
    "# \"Life is too short (줄바꿈)\n",
    "# you need java\"\n",
    "# 이거도 코드로 작성 f = open(\"test.txt\", \"w\")\n",
    "\n",
    "f = open(\"test.txt\", 'w')\n",
    "f.write(\"Life is too short \\nyou need java\\n\")\n",
    "f.close()\n",
    "\n",
    "# 4-2 test.txt의 문장을 변수명 sent로 읽어들여\n",
    "\n",
    "f = open(\"test.txt\", 'r')\n",
    "# 'r'로 열어야 read() 가능.\n",
    "# 또한 업데이트한 내용을 넣어주기 위해서는 'r' 모드에서 읽고\n",
    "# 'a'모드에서 따로 저장해줘야 함!!\n",
    "sent = f.read()\n",
    "f.close()\n",
    "\n",
    "# 4-3 java라는 문자열을 python으로 바꾸고(replace(a,b))\n",
    "# sent 자체를 업데이트 해주기 위해서 sent = sent.replace\n",
    "sent = sent.replace(\"java\", \"python\")\n",
    "\n",
    "# 4-4 수정된 문장을 test.txt에 추가하여\n",
    "f = open(\"test.txt\", 'a')\n",
    "f.write(sent)\n",
    "f.close()\n",
    "\n",
    "# 4-5 test.txt에 저장된 내용을 모두 읽어들여 출력하는 코드를 작성하시오.\n",
    "f = open(\"test.txt\", 'r')\n",
    "body = f.read()\n",
    "f.close()\n",
    "\n",
    "print(body)"
   ]
  },
  {
   "cell_type": "code",
   "execution_count": 87,
   "id": "ae7c4ede",
   "metadata": {},
   "outputs": [
    {
     "name": "stdout",
     "output_type": "stream",
     "text": [
      "5\n",
      "1 X 1 = 1, 1 X 2 = 2, 1 X 3 = 3, 1 X 4 = 4, 1 X 5 = 5, 1 X 6 = 6, 1 X 7 = 7, 1 X 8 = 8, 1 X 9 = 9\n",
      "2 X 1 = 2, 2 X 2 = 4, 2 X 3 = 6, 2 X 4 = 8, 2 X 5 = 10, 2 X 6 = 12, 2 X 7 = 14, 2 X 8 = 16, 2 X 9 = 18\n",
      "3 X 1 = 3, 3 X 2 = 6, 3 X 3 = 9, 3 X 4 = 12, 3 X 5 = 15, 3 X 6 = 18, 3 X 7 = 21, 3 X 8 = 24, 3 X 9 = 27\n",
      "4 X 1 = 4, 4 X 2 = 8, 4 X 3 = 12, 4 X 4 = 16, 4 X 5 = 20, 4 X 6 = 24, 4 X 7 = 28, 4 X 8 = 32, 4 X 9 = 36\n"
     ]
    }
   ],
   "source": [
    "# 문제 9\n",
    "\n",
    "# 사용자로부터 2~9 까지의 숫자중 하나를 입력받아 해당 숫자보다 작은 모든 숫자의 구구단을 출력하는 파이썬 코드를 작성하고\n",
    "# 에러없이 실행하시오.\n",
    "# 단, 같은 숫자에 해당하는 구구단은 한줄로, 다른 숫자의 구구단은 다른 줄로 출력하시오.\n",
    "\n",
    "def gugudan(n):\n",
    "    for i in range(1, n):\n",
    "        for j in range(1, 10):\n",
    "            if j == 9:\n",
    "                print(f'{i} X {j} = {i * j}', end = \"\")\n",
    "            else:\n",
    "                print(f'{i} X {j} = {i * j}', end = \", \")\n",
    "        print()\n",
    "\n",
    "dan = int(input())\n",
    "gugudan(dan)"
   ]
  },
  {
   "cell_type": "code",
   "execution_count": 8,
   "id": "611ff742",
   "metadata": {},
   "outputs": [
    {
     "ename": "FileNotFoundError",
     "evalue": "[Errno 2] No such file or directory: 'nasdaq.txt'",
     "output_type": "error",
     "traceback": [
      "\u001b[1;31m---------------------------------------------------------------------------\u001b[0m",
      "\u001b[1;31mFileNotFoundError\u001b[0m                         Traceback (most recent call last)",
      "Input \u001b[1;32mIn [8]\u001b[0m, in \u001b[0;36m<cell line: 105>\u001b[1;34m()\u001b[0m\n\u001b[0;32m     98\u001b[0m     f\u001b[38;5;241m.\u001b[39mclose()\n\u001b[0;32m    102\u001b[0m \u001b[38;5;66;03m# 문제 5\u001b[39;00m\n\u001b[0;32m    103\u001b[0m \u001b[38;5;66;03m# “ID_FIRST_LAST.ipynb” 스크립트 파일에서 다음의 3개 데이터 파일을 입력으로 analyze_text() 함수를 각각 실행하는 코드를 작성하시오.\u001b[39;00m\n\u001b[1;32m--> 105\u001b[0m \u001b[43manalyze_text\u001b[49m\u001b[43m(\u001b[49m\u001b[38;5;124;43m\"\u001b[39;49m\u001b[38;5;124;43mnasdaq.txt\u001b[39;49m\u001b[38;5;124;43m\"\u001b[39;49m\u001b[43m)\u001b[49m\n\u001b[0;32m    106\u001b[0m analyze_text(\u001b[38;5;124m\"\u001b[39m\u001b[38;5;124mraven.txt\u001b[39m\u001b[38;5;124m\"\u001b[39m)\n\u001b[0;32m    107\u001b[0m analyze_text(\u001b[38;5;124m\"\u001b[39m\u001b[38;5;124mfrankenstein.txt\u001b[39m\u001b[38;5;124m\"\u001b[39m)\n",
      "Input \u001b[1;32mIn [8]\u001b[0m, in \u001b[0;36manalyze_text\u001b[1;34m(fileName)\u001b[0m\n\u001b[0;32m     84\u001b[0m newFileName \u001b[38;5;241m=\u001b[39m fileName\u001b[38;5;241m.\u001b[39mstrip(\u001b[38;5;124m\"\u001b[39m\u001b[38;5;124m.txt\u001b[39m\u001b[38;5;124m\"\u001b[39m)\n\u001b[0;32m     85\u001b[0m f \u001b[38;5;241m=\u001b[39m \u001b[38;5;28mopen\u001b[39m(\u001b[38;5;124mf\u001b[39m\u001b[38;5;124m'\u001b[39m\u001b[38;5;132;01m{\u001b[39;00mnewFileName\u001b[38;5;132;01m}\u001b[39;00m\u001b[38;5;124m_analyzed_YUNSIK_LEE.txt\u001b[39m\u001b[38;5;124m'\u001b[39m, \u001b[38;5;124m'\u001b[39m\u001b[38;5;124mw\u001b[39m\u001b[38;5;124m'\u001b[39m)\n\u001b[1;32m---> 87\u001b[0m length_wordcount \u001b[38;5;241m=\u001b[39m \u001b[43mmake_length_wordcount\u001b[49m\u001b[43m(\u001b[49m\u001b[43mfileName\u001b[49m\u001b[43m)\u001b[49m\n\u001b[0;32m     88\u001b[0m word_count \u001b[38;5;241m=\u001b[39m make_word_count(fileName)\n\u001b[0;32m     90\u001b[0m \u001b[38;5;28;01mfor\u001b[39;00m i,j \u001b[38;5;129;01min\u001b[39;00m length_wordcount\u001b[38;5;241m.\u001b[39mitems():\n",
      "Input \u001b[1;32mIn [8]\u001b[0m, in \u001b[0;36mmake_length_wordcount\u001b[1;34m(fileName)\u001b[0m\n\u001b[0;32m     15\u001b[0m \u001b[38;5;28;01mdef\u001b[39;00m \u001b[38;5;21mmake_length_wordcount\u001b[39m(fileName):\n\u001b[1;32m---> 16\u001b[0m     f \u001b[38;5;241m=\u001b[39m \u001b[38;5;28;43mopen\u001b[39;49m\u001b[43m(\u001b[49m\u001b[43mfileName\u001b[49m\u001b[43m,\u001b[49m\u001b[43m \u001b[49m\u001b[38;5;124;43m'\u001b[39;49m\u001b[38;5;124;43mr\u001b[39;49m\u001b[38;5;124;43m'\u001b[39;49m\u001b[43m)\u001b[49m\n\u001b[0;32m     18\u001b[0m     result \u001b[38;5;241m=\u001b[39m {}\n\u001b[0;32m     20\u001b[0m     \u001b[38;5;28;01mwhile\u001b[39;00m(\u001b[38;5;241m1\u001b[39m):\n",
      "\u001b[1;31mFileNotFoundError\u001b[0m: [Errno 2] No such file or directory: 'nasdaq.txt'"
     ]
    }
   ],
   "source": [
    "# 문제 1\n",
    "# “ID_FIRST_LAST.ipynb” 스크립트 파일을 BP/doit12에 생성하고 “nasdaq.txt” , “raven.txt” , “frankenstein.txt” 데이터 파일을 \n",
    "#“ID_FIRST_LAST.ipynb” 스크립트 파일이 저장된 동일한 디렉토리에 다운로드하시오.\n",
    "# FIRST는 본인의 성, LAST은 본인의 이름에 해당하는 영문으로 작성하시오. (예. \"B123456_Kildong_Hong.ipynb\")\n",
    "\n",
    "# 문제 2\n",
    "# “ID_FIRST_LAST.ipynb” 파일에서 make_length_wordcount() 함수를 정의하시오. 함수는 다음을 수행합니다:\n",
    "# a. BP/doit12에 있는 데이터 파일에서 입력을 받으시오 (string)\n",
    "# b. dictionary를 생성하여 key는 단어 길이, value는 동일한 길이의 단어 갯수로 만드시오.\n",
    "# 예를 들어, 입력 파일의 내용이 “Hello Python people Welcome to the world of Python”이라면 dictionary 는 다음과 같습니다:\n",
    "# {2: 2, 3: 1, 5: 2, 6: 3, 7: 1}\n",
    "\n",
    "\n",
    "\n",
    "def make_length_wordcount(fileName):\n",
    "    f = open(fileName, 'r')\n",
    "    \n",
    "    result = {}\n",
    "    \n",
    "    while(1):\n",
    "        line = f.readline()\n",
    "        \n",
    "        if not line:\n",
    "            break\n",
    "        \n",
    "        word = line.split()\n",
    "        \n",
    "        for i in word:\n",
    "            if len(i) in result:\n",
    "                result[len(i)] += 1\n",
    "            else:\n",
    "                result[len(i)] = 1\n",
    "        \n",
    "    f.close()\n",
    "    \n",
    "    return result\n",
    "\n",
    "\n",
    "\n",
    "# 문제 3\n",
    "# “ID_FIRST_LAST.ipynb” 스크립트 파일에서 make_word_count() 함수를 정의하시오. 함수는 다음을 수행합니다:\n",
    "# a. BP/doit12에 있는 데이터 파일에서 입력을 받으시오 (string)\n",
    "# b. dictionary를 생성하여 key는 단어, value는 단어가 나타나는 횟수로 만드시오.\n",
    "# i. 단어는 모두 소문자로 변환하시오.\n",
    "# ii. 예를 들어, 입력 데이터 파일의 내용이“Hello Python people Welcome to the world of Python” 이라면 dictionary는 다음과 같습니다:\n",
    "# {'hello': 1, 'of': 1, 'people': 1, 'python': 2, 'the': 1, 'to': 1, 'welcome': 1, 'world': 1}\n",
    "\n",
    "def make_word_count(fileName):\n",
    "    f = open(fileName, 'r')\n",
    "    \n",
    "    result = {}\n",
    "    \n",
    "    while(1):\n",
    "        line = f.readline()\n",
    "        \n",
    "        if not line:\n",
    "            break\n",
    "        \n",
    "        word = line.split()\n",
    "                \n",
    "        for i in word:\n",
    "            i = i.lower()\n",
    "            \n",
    "            if i in result:\n",
    "                result[i] += 1\n",
    "            else:\n",
    "                result[i] = 1\n",
    "    \n",
    "    f.close()\n",
    "    \n",
    "    return result\n",
    "\n",
    "\n",
    "\n",
    "# 문제 4\n",
    "# “ID_FIRST_LAST.ipynb” 스크립트 파일에서 analyze_text() 함수를 정의하시오. 함수는 다음을 수행합니다:\n",
    "# a. BP/doit12에 있는 데이터 파일에서 입력을 받으시오 (string)\n",
    "# b. 2,3번의 함수를 이용하여 (i) length-wordcount dictionary 와 (ii) word count의 dictionary를 만드시오.\n",
    "# c. 새로운 출력 파일 “FILE_analyzed_FIRST_LAST.txt” 을 생성하고 위의 두 dictionary 를 저장하시오. 저장 포맷은 다음과 같습니다.\n",
    "# d. 예를 들어 입력 데이터 파일이“test.txt”이라면 출력 파일은“test_analyzed_Kildong_Hong.txt”이고\n",
    "# 다음 포맷의 출력을 저장해야 합니다.:\n",
    "\n",
    "def analyze_text(fileName):\n",
    "    newFileName = fileName.strip(\".txt\")\n",
    "    f = open(f'{newFileName}_analyzed_YUNSIK_LEE.txt', 'w')\n",
    "    \n",
    "    length_wordcount = make_length_wordcount(fileName)\n",
    "    word_count = make_word_count(fileName)\n",
    "    \n",
    "    for i,j in length_wordcount.items():\n",
    "        f.write(f'Words of length {i} : {j}')\n",
    "        f.write('\\n')\n",
    "    \n",
    "    for i,j in word_count.items():\n",
    "        f.write(f'{i} : {j}')\n",
    "        f.write('\\n')\n",
    "        \n",
    "    f.close()\n",
    "    \n",
    "    \n",
    "    \n",
    "# 문제 5\n",
    "# “ID_FIRST_LAST.ipynb” 스크립트 파일에서 다음의 3개 데이터 파일을 입력으로 analyze_text() 함수를 각각 실행하는 코드를 작성하시오.\n",
    "\n",
    "analyze_text(\"nasdaq.txt\")\n",
    "analyze_text(\"raven.txt\")\n",
    "analyze_text(\"frankenstein.txt\")"
   ]
  },
  {
   "cell_type": "code",
   "execution_count": null,
   "id": "7bf87c12",
   "metadata": {},
   "outputs": [],
   "source": []
  }
 ],
 "metadata": {
  "kernelspec": {
   "display_name": "Python 3 (ipykernel)",
   "language": "python",
   "name": "python3"
  },
  "language_info": {
   "codemirror_mode": {
    "name": "ipython",
    "version": 3
   },
   "file_extension": ".py",
   "mimetype": "text/x-python",
   "name": "python",
   "nbconvert_exporter": "python",
   "pygments_lexer": "ipython3",
   "version": "3.9.12"
  }
 },
 "nbformat": 4,
 "nbformat_minor": 5
}
