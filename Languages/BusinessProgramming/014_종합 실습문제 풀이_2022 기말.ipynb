{
 "cells": [
  {
   "cell_type": "markdown",
   "metadata": {},
   "source": [
    "(숫자,문자열,변수)"
   ]
  },
  {
   "cell_type": "markdown",
   "metadata": {},
   "source": [
    "2.1 1시간은 몇초인가? 대화식 인터프리터를 사용해서 계산해보시오. 1시간은 60분이고 1분은 60초이다."
   ]
  },
  {
   "cell_type": "code",
   "execution_count": 1,
   "metadata": {},
   "outputs": [
    {
     "data": {
      "text/plain": [
       "3600"
      ]
     },
     "execution_count": 1,
     "metadata": {},
     "output_type": "execute_result"
    }
   ],
   "source": [
    "1*60*60"
   ]
  },
  {
   "cell_type": "markdown",
   "metadata": {},
   "source": [
    "2.1 2.1의 결과를 seconds_per_hour 변수에 저장하고 출력하시오."
   ]
  },
  {
   "cell_type": "code",
   "execution_count": 2,
   "metadata": {},
   "outputs": [
    {
     "name": "stdout",
     "output_type": "stream",
     "text": [
      "3600\n"
     ]
    }
   ],
   "source": [
    "seconds_per_hour =1*60*60\n",
    "print(seconds_per_hour)"
   ]
  },
  {
   "cell_type": "markdown",
   "metadata": {},
   "source": [
    "2.3 1일은 몇초인가? seconds_per_day 변수를 사용하여 결과를 저장하고 출력하시오."
   ]
  },
  {
   "cell_type": "code",
   "execution_count": 3,
   "metadata": {},
   "outputs": [
    {
     "name": "stdout",
     "output_type": "stream",
     "text": [
      "86400\n"
     ]
    }
   ],
   "source": [
    "seconds_per_day=1*24*60*60\n",
    "print(seconds_per_day)"
   ]
  },
  {
   "cell_type": "markdown",
   "metadata": {},
   "source": [
    "2.5 seconds_per_day를 seconds_per_hour로 나누어 소숫점 이하 결과가 나타나도록 출력하시오."
   ]
  },
  {
   "cell_type": "code",
   "execution_count": 4,
   "metadata": {},
   "outputs": [
    {
     "name": "stdout",
     "output_type": "stream",
     "text": [
      "24.0\n"
     ]
    }
   ],
   "source": [
    "print(seconds_per_day/seconds_per_hour)"
   ]
  },
  {
   "cell_type": "markdown",
   "metadata": {},
   "source": [
    "(리스트, 튜플, 딕셔너리, 셋)"
   ]
  },
  {
   "cell_type": "markdown",
   "metadata": {},
   "source": [
    "3.1 출생년도에 대한 리스트 year_lists를 만드시오. 출생년도를 첫번째 요소로 하고 1년씩 증가하는 다섯번째 생일까지의 요소를 넣으시오. 출생년도가 1980이라고 가정하시오. 만나이로 계산하시오."
   ]
  },
  {
   "cell_type": "code",
   "execution_count": 7,
   "metadata": {},
   "outputs": [
    {
     "name": "stdout",
     "output_type": "stream",
     "text": [
      "[1980, 1981, 1982, 1983, 1984, 1985]\n"
     ]
    }
   ],
   "source": [
    "year_lists = []\n",
    "for i in range(6):\n",
    "    year_lists.append(1980+i)\n",
    "print(year_lists)"
   ]
  },
  {
   "cell_type": "code",
   "execution_count": 6,
   "metadata": {},
   "outputs": [
    {
     "name": "stdout",
     "output_type": "stream",
     "text": [
      "[1980, 1981, 1982, 1983, 1984, 1985]\n"
     ]
    }
   ],
   "source": [
    "#리스트 내포 사용\n",
    "year_lists=[1980+i for i in range(6)]\n",
    "print(year_lists)"
   ]
  },
  {
   "cell_type": "markdown",
   "metadata": {},
   "source": [
    "3.2 year_lists의 세살 생일의 년도를 출력하시오. 만으로 계산하시오."
   ]
  },
  {
   "cell_type": "code",
   "execution_count": 8,
   "metadata": {},
   "outputs": [
    {
     "name": "stdout",
     "output_type": "stream",
     "text": [
      "1983\n"
     ]
    }
   ],
   "source": [
    "print(year_lists[3])"
   ]
  },
  {
   "cell_type": "markdown",
   "metadata": {},
   "source": [
    "3.3 years_list 중 가장 나이가 많을 때의 년도는?"
   ]
  },
  {
   "cell_type": "code",
   "execution_count": 9,
   "metadata": {},
   "outputs": [
    {
     "name": "stdout",
     "output_type": "stream",
     "text": [
      "1985\n"
     ]
    }
   ],
   "source": [
    "print(year_lists[-1])"
   ]
  },
  {
   "cell_type": "markdown",
   "metadata": {},
   "source": [
    "3.4 things 리스트를 만드시오. 이 리스트는 'mozzarella','cinderella','salmonella' 세 문자열을 요소로 갖는다."
   ]
  },
  {
   "cell_type": "code",
   "execution_count": 10,
   "metadata": {},
   "outputs": [],
   "source": [
    "things=['mozzarella','cinderella','salmonella']"
   ]
  },
  {
   "cell_type": "code",
   "execution_count": 11,
   "metadata": {},
   "outputs": [
    {
     "name": "stdout",
     "output_type": "stream",
     "text": [
      "['mozzarella', 'cinderella', 'salmonella']\n"
     ]
    }
   ],
   "source": [
    "print(things)"
   ]
  },
  {
   "cell_type": "markdown",
   "metadata": {},
   "source": [
    "3.5 things 리스트에서 사람 이름의(cinderrella) 첫 글자를 대문자로 바꿔서 출력하시오.(문자열.capitalize() 함수 사용) "
   ]
  },
  {
   "cell_type": "code",
   "execution_count": 12,
   "metadata": {},
   "outputs": [
    {
     "name": "stdout",
     "output_type": "stream",
     "text": [
      "['mozzarella', 'Cinderella', 'salmonella']\n"
     ]
    }
   ],
   "source": [
    "things[1]=things[1].capitalize()\n",
    "print(things)"
   ]
  },
  {
   "cell_type": "markdown",
   "metadata": {},
   "source": [
    "3.6 things 리스트의 치즈 요소를 모두 대문자로 바꿔 출력하시오."
   ]
  },
  {
   "cell_type": "code",
   "execution_count": 13,
   "metadata": {},
   "outputs": [
    {
     "data": {
      "text/plain": [
       "'MOZZARELLA'"
      ]
     },
     "execution_count": 13,
     "metadata": {},
     "output_type": "execute_result"
    }
   ],
   "source": [
    "things[0].upper()"
   ]
  },
  {
   "cell_type": "markdown",
   "metadata": {},
   "source": [
    "3.7 things 리스트에 질병 요소가 있다면 제거한 뒤 리스트를 출력하시오."
   ]
  },
  {
   "cell_type": "code",
   "execution_count": 14,
   "metadata": {},
   "outputs": [],
   "source": [
    "things=['mozzarella','cinderella','salmonella']"
   ]
  },
  {
   "cell_type": "code",
   "execution_count": 15,
   "metadata": {},
   "outputs": [],
   "source": [
    "things.remove('salmonella')"
   ]
  },
  {
   "cell_type": "code",
   "execution_count": 17,
   "metadata": {},
   "outputs": [
    {
     "name": "stdout",
     "output_type": "stream",
     "text": [
      "['mozzarella', 'cinderella']\n"
     ]
    }
   ],
   "source": [
    "print(things)"
   ]
  },
  {
   "cell_type": "markdown",
   "metadata": {},
   "source": [
    "or"
   ]
  },
  {
   "cell_type": "code",
   "execution_count": 18,
   "metadata": {},
   "outputs": [],
   "source": [
    "things=['mozzarella','cinderella','salmonella']"
   ]
  },
  {
   "cell_type": "code",
   "execution_count": 19,
   "metadata": {},
   "outputs": [],
   "source": [
    "del things[-1]"
   ]
  },
  {
   "cell_type": "code",
   "execution_count": 20,
   "metadata": {},
   "outputs": [
    {
     "data": {
      "text/plain": [
       "['mozzarella', 'cinderella']"
      ]
     },
     "execution_count": 20,
     "metadata": {},
     "output_type": "execute_result"
    }
   ],
   "source": [
    "things"
   ]
  },
  {
   "cell_type": "markdown",
   "metadata": {},
   "source": [
    "3.8 surprise 리스트를 생성하시오. 이 리스트는 'Groucho','Chico','Harpo' 세 문자열을 요소로 갖는다."
   ]
  },
  {
   "cell_type": "code",
   "execution_count": 21,
   "metadata": {},
   "outputs": [],
   "source": [
    "surprise = ['Groucho','Chico','Harpo']"
   ]
  },
  {
   "cell_type": "markdown",
   "metadata": {},
   "source": [
    "3.15 이차원 딕셔너리 life를 만드시오. 최상위 키는 'animals','plants','other' 이다. 그리고 'animals'는 각각 'cats','octopi','emus'를 키로 하고 'Henri','Grumpy','Lucy'를 값으로 하는 또 다른 딕셔너리를 참조하고 있다. 나머지 요소는 빈 딕셔너리를 참조하시오."
   ]
  },
  {
   "cell_type": "code",
   "execution_count": 23,
   "metadata": {},
   "outputs": [],
   "source": [
    "life={'animals': {'cats':'Henri','ocpoti':'Grumpy','emus':'Lucy'},'plants':{},'other':{}}"
   ]
  },
  {
   "cell_type": "code",
   "execution_count": 25,
   "metadata": {},
   "outputs": [
    {
     "name": "stdout",
     "output_type": "stream",
     "text": [
      "{'animals': {'cats': 'Henri', 'ocpoti': 'Grumpy', 'emus': 'Lucy'}, 'plants': {}, 'other': {}}\n"
     ]
    }
   ],
   "source": [
    "print(life)"
   ]
  },
  {
   "cell_type": "markdown",
   "metadata": {},
   "source": [
    "3.16 life 딕셔너리의 최상위 키를 출력하시오."
   ]
  },
  {
   "cell_type": "code",
   "execution_count": 26,
   "metadata": {},
   "outputs": [
    {
     "data": {
      "text/plain": [
       "dict_keys(['animals', 'plants', 'other'])"
      ]
     },
     "execution_count": 26,
     "metadata": {},
     "output_type": "execute_result"
    }
   ],
   "source": [
    "life.keys()"
   ]
  },
  {
   "cell_type": "markdown",
   "metadata": {},
   "source": [
    "3.17 life['animals']의 모든 키를 출력하시오."
   ]
  },
  {
   "cell_type": "code",
   "execution_count": 27,
   "metadata": {},
   "outputs": [
    {
     "data": {
      "text/plain": [
       "dict_keys(['cats', 'ocpoti', 'emus'])"
      ]
     },
     "execution_count": 27,
     "metadata": {},
     "output_type": "execute_result"
    }
   ],
   "source": [
    "life['animals'].keys()"
   ]
  },
  {
   "cell_type": "markdown",
   "metadata": {},
   "source": [
    "3.18 life['animals']의 모든 값을 출력하시오."
   ]
  },
  {
   "cell_type": "code",
   "execution_count": 28,
   "metadata": {},
   "outputs": [
    {
     "data": {
      "text/plain": [
       "dict_values(['Henri', 'Grumpy', 'Lucy'])"
      ]
     },
     "execution_count": 28,
     "metadata": {},
     "output_type": "execute_result"
    }
   ],
   "source": [
    "life['animals'].values()"
   ]
  },
  {
   "cell_type": "markdown",
   "metadata": {},
   "source": [
    "(제어문)"
   ]
  },
  {
   "cell_type": "markdown",
   "metadata": {},
   "source": [
    "4.1 guess_me 변수에 7을 할당한다. 그리고 값이 7보다 작으면 문자열 'too low'를, 7보다 크면 'too high'를, 7과 같으면 'just right'를 출력하는 조건문(if, elif, else) 를 작성하라."
   ]
  },
  {
   "cell_type": "code",
   "execution_count": 29,
   "metadata": {},
   "outputs": [
    {
     "name": "stdout",
     "output_type": "stream",
     "text": [
      "just right\n"
     ]
    }
   ],
   "source": [
    "guess_me = 7\n",
    "\n",
    "if guess_me < 7:\n",
    "    print(\"too low\")\n",
    "elif guess_me == 7:\n",
    "    print('just right')\n",
    "else:\n",
    "    print('too high')"
   ]
  },
  {
   "cell_type": "markdown",
   "metadata": {},
   "source": [
    "4.2 guess_me 변수에 7을 할당하고 start 변수에 1을 할당한다. start와 guess_me를 비교하는 while 문을 작성하라. start가 guess_me보다 작은 경우에는 'too low'를 출력하고 start와 guess_me가 같은 경우에는 'found it!'을 출력하고 루프를 종료한다. start가 guess_me보다 큰 경우에는 'oops'를 출력하고 루프를 종료한다."
   ]
  },
  {
   "cell_type": "code",
   "execution_count": 30,
   "metadata": {},
   "outputs": [
    {
     "name": "stdout",
     "output_type": "stream",
     "text": [
      "too low\n",
      "too low\n",
      "too low\n",
      "too low\n",
      "too low\n",
      "too low\n",
      "found it!\n"
     ]
    }
   ],
   "source": [
    "guess_me = 7\n",
    "start = 1\n",
    "\n",
    "while True:\n",
    "    if start < guess_me:\n",
    "        print('too low')\n",
    "    elif start == guess_me:\n",
    "        print('found it!')\n",
    "        break\n",
    "    else:\n",
    "        print('oops!')\n",
    "        break\n",
    "    start += 1        "
   ]
  },
  {
   "cell_type": "markdown",
   "metadata": {},
   "source": [
    "4.3 for 문으로 리스트값 [3,2,1,0]을 출력하시오."
   ]
  },
  {
   "cell_type": "code",
   "execution_count": 4,
   "metadata": {},
   "outputs": [
    {
     "name": "stdout",
     "output_type": "stream",
     "text": [
      "[3, 2, 1, 0]\n"
     ]
    }
   ],
   "source": [
    "lst = []\n",
    "for i in range(4):\n",
    "    lst.append(3 - i)\n",
    "print(lst)"
   ]
  },
  {
   "cell_type": "markdown",
   "metadata": {},
   "source": [
    "(모듈, 패키지)"
   ]
  },
  {
   "cell_type": "markdown",
   "metadata": {},
   "source": [
    "5.1 zoo.py 모듈에서 \"Open 9-5 daily\" 문자열을 반환하는 hours() 함수를 정의하라. 그리고 zoo 모듈을 임포트하여 hours() 함수를 호출하시오"
   ]
  },
  {
   "cell_type": "code",
   "execution_count": 35,
   "metadata": {},
   "outputs": [],
   "source": [
    "import zoo"
   ]
  },
  {
   "cell_type": "code",
   "execution_count": 36,
   "metadata": {},
   "outputs": [
    {
     "name": "stdout",
     "output_type": "stream",
     "text": [
      "Open 9-5 daily\n"
     ]
    }
   ],
   "source": [
    "zoo.hours()"
   ]
  },
  {
   "cell_type": "markdown",
   "metadata": {},
   "source": [
    "5.2 zoo 모듈을 menageria 라는 이름으로 import한 후 hours() 함수를 호출하라"
   ]
  },
  {
   "cell_type": "code",
   "execution_count": 37,
   "metadata": {},
   "outputs": [],
   "source": [
    "import zoo as menageria"
   ]
  },
  {
   "cell_type": "code",
   "execution_count": 38,
   "metadata": {},
   "outputs": [
    {
     "name": "stdout",
     "output_type": "stream",
     "text": [
      "Open 9-5 daily\n"
     ]
    }
   ],
   "source": [
    "menageria.hours()"
   ]
  },
  {
   "cell_type": "markdown",
   "metadata": {},
   "source": [
    "5.4 key:value 쌍이 'a':1, 'b':2, 'c':3 인 plain 딕셔너리를 만들어서 출력한 후, 'a'의 value를 'something for a '로 바꾸어 출력하시오."
   ]
  },
  {
   "cell_type": "code",
   "execution_count": 39,
   "metadata": {},
   "outputs": [
    {
     "name": "stdout",
     "output_type": "stream",
     "text": [
      "{'a': 1, 'b': 2, 'c': 3}\n"
     ]
    }
   ],
   "source": [
    "plain = {'a':1,'b':2, 'c':3}\n",
    "print(plain)"
   ]
  },
  {
   "cell_type": "code",
   "execution_count": 40,
   "metadata": {},
   "outputs": [
    {
     "name": "stdout",
     "output_type": "stream",
     "text": [
      "{'a': 'something for a ', 'b': 2, 'c': 3}\n"
     ]
    }
   ],
   "source": [
    "plain['a']='something for a '\n",
    "print(plain)"
   ]
  },
  {
   "cell_type": "markdown",
   "metadata": {},
   "source": [
    "5.1 같은 숫자가 나올때까지 주사위 3개를 동시에 무한 반복해서 던집니다.<br>\n",
    "    같은 숫자는 무엇이고 같은 숫자가 나올때까지 몇번 던졌는지 출력하시오. <br>\n",
    "    다음 코드를 이용하시오."
   ]
  },
  {
   "cell_type": "code",
   "execution_count": 41,
   "metadata": {},
   "outputs": [
    {
     "data": {
      "text/plain": [
       "1"
      ]
     },
     "execution_count": 41,
     "metadata": {},
     "output_type": "execute_result"
    }
   ],
   "source": [
    "import random\n",
    "random.randrange(1,7)"
   ]
  },
  {
   "cell_type": "code",
   "execution_count": 42,
   "metadata": {},
   "outputs": [
    {
     "name": "stdout",
     "output_type": "stream",
     "text": [
      "The number matched is 2\n",
      "The number of throwing the dices are 14.\n"
     ]
    }
   ],
   "source": [
    "throwCount = 0\n",
    "\n",
    "while True:\n",
    "    dice1 = random.randrange(1,7)\n",
    "    dice2 = random.randrange(1,7)\n",
    "    dice3 = random.randrange(1,7)\n",
    "    \n",
    "    if dice1 == dice2 == dice3:\n",
    "        print(\"The number matched is %d\" %dice1)\n",
    "        break\n",
    "    else:\n",
    "        throwCount += 1\n",
    "        \n",
    "\n",
    "print(\"The number of throwing the dices are %d.\" %throwCount)"
   ]
  },
  {
   "cell_type": "markdown",
   "metadata": {},
   "source": [
    "6.1 사용자가 숫자를 여러개 입력하면 '+'문자를 입력한 숫자만큼 출력하는 코드를 만들어 실행하시오.<br>\n",
    "예를 들어 6398을 입력하면 6개, 3개, 9개, 8개의 '+'을 각기 다른 줄에 출력하시오."
   ]
  },
  {
   "cell_type": "code",
   "execution_count": 4,
   "metadata": {},
   "outputs": [
    {
     "name": "stdout",
     "output_type": "stream",
     "text": [
      "Please input the numbers you want to draw '+': 6398\n",
      "['6', '3', '9', '8']\n",
      "++++++\n",
      "+++\n",
      "+++++++++\n",
      "++++++++\n"
     ]
    }
   ],
   "source": [
    "# 이거 풀기 위해서는 문자열 그대로 받아서 리스트에 넣어야함!!\n",
    "\n",
    "user_number = input(\"Please input the numbers you want to draw '+': \")\n",
    "\n",
    "num_list = list(user_number)\n",
    "\n",
    "print(num_list)\n",
    "\n",
    "for i in num_list:\n",
    "    print('+'*int(i))"
   ]
  },
  {
   "cell_type": "markdown",
   "metadata": {},
   "source": [
    "1.2 숫자 맞히기 게임<br>\n",
    "    사용자가 1부터 10까지의 숫자 중 하나를 입력하여 미리 지정된 숫자를 맞히는 프로그램이다. 3회까지만 시도할 수 있다. guess_num() 함수를 호출하여 실행한다."
   ]
  },
  {
   "cell_type": "code",
   "execution_count": 45,
   "metadata": {},
   "outputs": [],
   "source": [
    "import random\n",
    "\n",
    "def guess_num():\n",
    "    number = random.randint(1,10)\n",
    "    count = 0\n",
    "    while True:\n",
    "        count += 1\n",
    "        if count>3:\n",
    "            print('Oops, 3 trials are done!')\n",
    "            break\n",
    "            \n",
    "        guess_num = int(input(\"Please enter the number you are guessing(1-9)!: \"))\n",
    "        \n",
    "        if guess_num == number:\n",
    "            print(\"Just right!\")\n",
    "            break\n",
    "        elif guess_num < number:\n",
    "            print('Too low')\n",
    "        else:\n",
    "            print('Too high')"
   ]
  },
  {
   "cell_type": "code",
   "execution_count": 47,
   "metadata": {},
   "outputs": [
    {
     "name": "stdout",
     "output_type": "stream",
     "text": [
      "Please enter the number you are guessing(1-9)!: 6\n",
      "Too high\n",
      "Please enter the number you are guessing(1-9)!: 4\n",
      "Too low\n",
      "Please enter the number you are guessing(1-9)!: 5\n",
      "Just right!\n"
     ]
    }
   ],
   "source": [
    "#결과: 함수호출\n",
    "\n",
    "guess_num()"
   ]
  },
  {
   "cell_type": "markdown",
   "metadata": {},
   "source": [
    "(함수형 프로그래밍: 리스트 내포)"
   ]
  },
  {
   "cell_type": "code",
   "execution_count": 103,
   "metadata": {},
   "outputs": [
    {
     "name": "stdout",
     "output_type": "stream",
     "text": [
      "[0, 1, 4, 9, 16]\n"
     ]
    }
   ],
   "source": [
    "# 리스트 내포\n",
    "# 5 미포함!!\n",
    "\n",
    "[x*x for x in range(5)]"
   ]
  },
  {
   "cell_type": "code",
   "execution_count": 390,
   "metadata": {},
   "outputs": [
    {
     "name": "stdout",
     "output_type": "stream",
     "text": [
      "[0, 1, 4, 9, 16]\n"
     ]
    }
   ],
   "source": [
    "y=[]\n",
    "for x in range(5):\n",
    "    y.append(x*x)\n",
    "    \n",
    "print(y)"
   ]
  },
  {
   "cell_type": "code",
   "execution_count": 104,
   "metadata": {},
   "outputs": [
    {
     "data": {
      "text/plain": [
       "{0: 0, 1: 1, 2: 4, 3: 9, 4: 16}"
      ]
     },
     "execution_count": 104,
     "metadata": {},
     "output_type": "execute_result"
    }
   ],
   "source": [
    "# 딕셔너리 내포\n",
    "{x:x*x for x in range(5)}"
   ]
  },
  {
   "cell_type": "code",
   "execution_count": 392,
   "metadata": {},
   "outputs": [
    {
     "name": "stdout",
     "output_type": "stream",
     "text": [
      "{0: 0, 1: 1, 2: 4, 3: 9, 4: 16}\n"
     ]
    }
   ],
   "source": [
    "y = dict()\n",
    "for x in range(5):\n",
    "    y[x] = x*x\n",
    "    \n",
    "print(y)"
   ]
  },
  {
   "cell_type": "code",
   "execution_count": 393,
   "metadata": {},
   "outputs": [
    {
     "data": {
      "text/plain": [
       "{0, 1, 4, 9, 16}"
      ]
     },
     "execution_count": 393,
     "metadata": {},
     "output_type": "execute_result"
    }
   ],
   "source": [
    "# 세트 내포\n",
    "{x*x for x in range(5)}"
   ]
  },
  {
   "cell_type": "code",
   "execution_count": 131,
   "metadata": {},
   "outputs": [
    {
     "name": "stdout",
     "output_type": "stream",
     "text": [
      "{0, 1, 4, 9, 16}\n"
     ]
    }
   ],
   "source": [
    "y=[]\n",
    "for x in range(5):\n",
    "    y.append(x*x)\n",
    "y_set = set(y)\n",
    "\n",
    "print(y_set)"
   ]
  },
  {
   "cell_type": "markdown",
   "metadata": {},
   "source": [
    "최종적으로 리스트(딕셔너리, 세트)를 만드는 것이 목적이라면 내포를 사용하고, 각각의 요소에 특정 처리를 하는 것이 목적이면 반복문 사용"
   ]
  },
  {
   "cell_type": "markdown",
   "metadata": {},
   "source": [
    "7.1 range를 매개변수로 받아 숫자들을 쉼표(,)로 연결해 문자열로 리턴하는 join_numbers 함수를 만드시오. 즉, range(9)를 매개변수로 넣으면 다음과 같은 문자열을 리턴하시오.<br>\n",
    "0,1,2,3,4,5,6,7,8"
   ]
  },
  {
   "cell_type": "code",
   "execution_count": 48,
   "metadata": {},
   "outputs": [
    {
     "name": "stdout",
     "output_type": "stream",
     "text": [
      "0,1,2,3,4,5,6,7,8\n"
     ]
    }
   ],
   "source": [
    "def join_numbers(numbers):\n",
    "    # join하려면 문자열이어야 하므로, str(number)!!\n",
    "    return ','.join(str(number) for number in numbers)\n",
    "\n",
    "print(join_numbers(range(9)))"
   ]
  },
  {
   "cell_type": "markdown",
   "metadata": {},
   "source": [
    "7.2 다음과 같은 문자열을 입력받아 숫자만 합하여 총합을 출력하는 함수 sum_numbers()를 구현하시오.(isdigit()함수사용)<br><br>\n",
    "10 abc 20 de44 30 55fg 40"
   ]
  },
  {
   "cell_type": "code",
   "execution_count": 49,
   "metadata": {},
   "outputs": [
    {
     "name": "stdout",
     "output_type": "stream",
     "text": [
      "100\n"
     ]
    }
   ],
   "source": [
    "def sum_numbers(numbers):\n",
    "    return sum(int(number) for number in numbers.split() if number.isdigit())\n",
    "\n",
    "print(sum_numbers('10 abc 20 de44 30 55fg 40'))"
   ]
  },
  {
   "cell_type": "markdown",
   "metadata": {},
   "source": [
    "7.3 리스트의 리스트(2차원 리스트)를 패러미터로 받고, 이를 1차원 리스트로 평탄화하여 리턴하는 flatten() 함수를 만드시오.<br>\n",
    "\n",
    "flatten([[1,2],[3,4]])<br>\n",
    "[1,2,3,4]\n"
   ]
  },
  {
   "cell_type": "code",
   "execution_count": 50,
   "metadata": {},
   "outputs": [],
   "source": [
    "def flatten(mylist):\n",
    "    return [one_element for one_sublist in mylist for one_element in one_sublist]"
   ]
  },
  {
   "cell_type": "code",
   "execution_count": 51,
   "metadata": {},
   "outputs": [
    {
     "data": {
      "text/plain": [
       "[1, 2, 3, 4]"
      ]
     },
     "execution_count": 51,
     "metadata": {},
     "output_type": "execute_result"
    }
   ],
   "source": [
    "flatten([[1,2],[3,4]])"
   ]
  },
  {
   "cell_type": "markdown",
   "metadata": {},
   "source": [
    "7.5 (딕셔너리 반전하기)다음의 딕셔너리 a의 key를 value로, value를 key로 반전하여 return하는 함수 flipped_dict()를 만드시오.<br>\n",
    "(모든 key와 value는 중복되지 않고 같은 값을 가지지 않음.)"
   ]
  },
  {
   "cell_type": "code",
   "execution_count": 52,
   "metadata": {},
   "outputs": [],
   "source": [
    "a = {'a':1,'b':2,'c':3}"
   ]
  },
  {
   "cell_type": "code",
   "execution_count": 53,
   "metadata": {},
   "outputs": [
    {
     "name": "stdout",
     "output_type": "stream",
     "text": [
      "{1: 'a', 2: 'b', 3: 'c'}\n"
     ]
    }
   ],
   "source": [
    "#1\n",
    "def flipped_dict(a_dict):\n",
    "    return {value:key for key, value in a_dict.items()}\n",
    "\n",
    "print(flipped_dict(a))"
   ]
  },
  {
   "cell_type": "code",
   "execution_count": 54,
   "metadata": {},
   "outputs": [
    {
     "name": "stdout",
     "output_type": "stream",
     "text": [
      "{1: 'a', 2: 'b', 3: 'c'}\n"
     ]
    }
   ],
   "source": [
    "#2\n",
    "def flipped_dict(a_dict):\n",
    "    return {a_dict[key]:key for key in a_dict}\n",
    "\n",
    "print(flipped_dict(a))"
   ]
  },
  {
   "cell_type": "markdown",
   "metadata": {},
   "source": [
    "181. 데이터 파일을 읽어들여 연도별 출생아 수를 계산하시오. 연도별 텍스트를 한줄씩 읽고 출생아 수만 추출하시오.<br>\n",
    "그 결과값을 baby_born.csv 파일에 연도별로 저장하시오.<br>\n",
    "\n",
    "\n",
    "https://catalog.data.gov/dataset/baby-names-from-social-security-card-applications-national-data "
   ]
  },
  {
   "cell_type": "code",
   "execution_count": 202,
   "metadata": {},
   "outputs": [
    {
     "data": {
      "text/plain": [
       "'/Users/HK/BP/실습문제'"
      ]
     },
     "execution_count": 202,
     "metadata": {},
     "output_type": "execute_result"
    }
   ],
   "source": [
    "import os\n",
    "os.getcwd()"
   ]
  },
  {
   "cell_type": "code",
   "execution_count": 55,
   "metadata": {},
   "outputs": [],
   "source": [
    "def count_baby():\n",
    "   \n",
    "    birth_year = dict()\n",
    "    \n",
    "    for i in range(1880,2022):\n",
    "        total_born = 0\n",
    "            \n",
    "        f=open('./names/yob%i.txt' %i,'r')\n",
    "        lines = f.readlines()\n",
    "        f.close()\n",
    "        \n",
    "        for line in lines:\n",
    "            total_born += int(line.split(',')[-1].strip())\n",
    "        birth_year[i] = total_born\n",
    "        \n",
    "    fout=open('baby_born.csv','w')\n",
    "    for key in birth_year:\n",
    "        fout.write('%i, %i\\n' %(key, birth_year[key]))\n",
    "    fout.close()\n",
    "    "
   ]
  },
  {
   "cell_type": "code",
   "execution_count": 56,
   "metadata": {},
   "outputs": [],
   "source": [
    "count_baby()"
   ]
  },
  {
   "cell_type": "markdown",
   "metadata": {},
   "source": [
    "181_1. 데이터 파일을 읽어들여 연도별 성별 출생아 수를 계산하시오.<br>\n",
    "그 결과값을 baby_born_1.csv 파일에 연도별, 성별로 저장하시오.<br>\n",
    "https://catalog.data.gov/dataset/baby-names-from-social-security-card-applications-national-data "
   ]
  },
  {
   "cell_type": "code",
   "execution_count": 57,
   "metadata": {},
   "outputs": [],
   "source": [
    "def count_baby_gender():\n",
    "   \n",
    "    birth_year = dict()\n",
    "    \n",
    "    for i in range(1880,2022):\n",
    "        M_total_born = 0\n",
    "        F_total_born = 0\n",
    "            \n",
    "        f=open('./names/yob%i.txt' %i,'r')\n",
    "        lines = f.readlines()\n",
    "        f.close()\n",
    "        \n",
    "        for line in lines:\n",
    "            lst_line = line.split(',')\n",
    "            if lst_line[1] == 'M':\n",
    "                M_total_born += int(lst_line[-1].strip())\n",
    "            else:\n",
    "                F_total_born += int(lst_line[-1].strip())\n",
    "                \n",
    "        birth_year[i] = [M_total_born, F_total_born]\n",
    "        #print(birth_year)\n",
    "        \n",
    "    fout=open('baby_born_gender.csv','w')\n",
    "    for n in birth_year:\n",
    "        fout.write('%i, M, %i\\n%i, F, %i\\n' %(n, birth_year[n][0],n,birth_year[n][1]))\n",
    "    fout.close()"
   ]
  },
  {
   "cell_type": "code",
   "execution_count": 58,
   "metadata": {},
   "outputs": [],
   "source": [
    "count_baby_gender()"
   ]
  }
 ],
 "metadata": {
  "kernelspec": {
   "display_name": "Python 3 (ipykernel)",
   "language": "python",
   "name": "python3"
  },
  "language_info": {
   "codemirror_mode": {
    "name": "ipython",
    "version": 3
   },
   "file_extension": ".py",
   "mimetype": "text/x-python",
   "name": "python",
   "nbconvert_exporter": "python",
   "pygments_lexer": "ipython3",
   "version": "3.9.12"
  }
 },
 "nbformat": 4,
 "nbformat_minor": 4
}
