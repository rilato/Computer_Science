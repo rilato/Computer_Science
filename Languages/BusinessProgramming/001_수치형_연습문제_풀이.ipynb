{
 "cells": [
  {
   "cell_type": "markdown",
   "metadata": {},
   "source": [
    "# 연습문제 1 2 3"
   ]
  },
  {
   "cell_type": "code",
   "execution_count": 16,
   "metadata": {},
   "outputs": [
    {
     "data": {
      "text/plain": [
       "0"
      ]
     },
     "execution_count": 16,
     "metadata": {},
     "output_type": "execute_result"
    }
   ],
   "source": [
    "m = (80+75+55)/3\n",
    "17/3\n",
    "17//3\n",
    "17%3\n",
    "13%2\n",
    "14%2"
   ]
  },
  {
   "cell_type": "code",
   "execution_count": null,
   "metadata": {},
   "outputs": [],
   "source": []
  },
  {
   "cell_type": "code",
   "execution_count": null,
   "metadata": {},
   "outputs": [],
   "source": []
  },
  {
   "cell_type": "markdown",
   "metadata": {},
   "source": [
    "# 실습문제: 수치형"
   ]
  },
  {
   "cell_type": "code",
   "execution_count": 3,
   "metadata": {},
   "outputs": [
    {
     "name": "stdout",
     "output_type": "stream",
     "text": [
      "<class 'int'>\n",
      "2\n",
      "<class 'int'>\n",
      "<class 'int'>\n",
      "<class 'int'>\n",
      "<class 'int'>\n",
      "<class 'float'>\n",
      "216\n",
      "64\n",
      "1\n",
      "3\n",
      "0\n",
      "3\n",
      "6\n",
      "3.5\n",
      "2.5\n",
      "1.5\n",
      "0\n",
      "4\n",
      "900\n"
     ]
    }
   ],
   "source": [
    "a = 123\n",
    "type(a)\n",
    "print(type(a))\n",
    "a = 6/3\n",
    "a = 6//3\n",
    "print(a)\n",
    "print(type(a))\n",
    "a = 234\n",
    "print(type(a))\n",
    "a = 6//3; print(type(a))\n",
    "a = 6 - 4; print(type(a))\n",
    "a = 6 - 5.0; print(type(a))\n",
    "a = 6**3; print(a)\n",
    "a = (2**3)**2; print(a)\n",
    "a = 10%3; print(a)\n",
    "a = 10//3; print(a)\n",
    "a = 6//7; print(a)\n",
    "a = 100//3%10; print(a)\n",
    "a = 6%8; print(a)\n",
    "a = 3; a += 0.5; print(a)\n",
    "a = 3; a -= 0.5; print(a)\n",
    "a = 3; a *= 0.5; print(a)\n",
    "a = 30; a %= 10; print(a) \n",
    "a = 30; a //= 7; print(a) \n",
    "a = 30; a **= 2; print(a) "
   ]
  },
  {
   "cell_type": "code",
   "execution_count": null,
   "metadata": {},
   "outputs": [],
   "source": []
  },
  {
   "cell_type": "code",
   "execution_count": null,
   "metadata": {},
   "outputs": [],
   "source": []
  },
  {
   "cell_type": "code",
   "execution_count": null,
   "metadata": {},
   "outputs": [],
   "source": []
  },
  {
   "cell_type": "code",
   "execution_count": null,
   "metadata": {},
   "outputs": [],
   "source": []
  },
  {
   "cell_type": "code",
   "execution_count": null,
   "metadata": {},
   "outputs": [],
   "source": []
  },
  {
   "cell_type": "code",
   "execution_count": null,
   "metadata": {},
   "outputs": [],
   "source": []
  },
  {
   "cell_type": "code",
   "execution_count": null,
   "metadata": {},
   "outputs": [],
   "source": []
  },
  {
   "cell_type": "code",
   "execution_count": null,
   "metadata": {},
   "outputs": [],
   "source": []
  },
  {
   "cell_type": "code",
   "execution_count": null,
   "metadata": {},
   "outputs": [],
   "source": []
  }
 ],
 "metadata": {
  "kernelspec": {
   "display_name": "Python 3 (ipykernel)",
   "language": "python",
   "name": "python3"
  },
  "language_info": {
   "codemirror_mode": {
    "name": "ipython",
    "version": 3
   },
   "file_extension": ".py",
   "mimetype": "text/x-python",
   "name": "python",
   "nbconvert_exporter": "python",
   "pygments_lexer": "ipython3",
   "version": "3.9.12"
  }
 },
 "nbformat": 4,
 "nbformat_minor": 4
}
