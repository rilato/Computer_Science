{
 "cells": [
  {
   "cell_type": "code",
   "execution_count": 1,
   "id": "e9129500",
   "metadata": {},
   "outputs": [
    {
     "name": "stdout",
     "output_type": "stream",
     "text": [
      "1\n",
      "2\n",
      "3\n"
     ]
    }
   ],
   "source": [
    "# For문\n",
    "\n",
    "test_list = [1, 2, 3]\n",
    "\n",
    "for i in test_list:\n",
    "    print(i)"
   ]
  },
  {
   "cell_type": "code",
   "execution_count": 7,
   "id": "33d53205",
   "metadata": {},
   "outputs": [
    {
     "name": "stdout",
     "output_type": "stream",
     "text": [
      "각 요소 출력\n",
      "(1, 2)\n",
      "각 요소 출력\n",
      "(2, 3)\n",
      "각 요소 출력\n",
      "(3, 4)\n",
      "각 요소를 괄호 없이 출력\n",
      "1 2\n",
      "합 출력\n",
      "3\n",
      "각 요소를 괄호 없이 출력\n",
      "2 3\n",
      "합 출력\n",
      "5\n",
      "각 요소를 괄호 없이 출력\n",
      "3 4\n",
      "합 출력\n",
      "7\n",
      "각 원소 출력\n",
      "1\n",
      "각 원소 출력\n",
      "2\n",
      "각 원소 출력\n",
      "3\n",
      "각 원소 출력\n",
      "4\n"
     ]
    }
   ],
   "source": [
    "# 튜플인 경우\n",
    "test_list = [(1,2), (2,3), (3,4)]\n",
    "\n",
    "for i in test_list:\n",
    "    print(\"각 요소 출력\")\n",
    "    print(i)\n",
    "    \n",
    "# 이렇게 하면, 리스트 내의 튜플의 각 원소가 () (괄호) 없이 출력됨!\n",
    "for i, j in test_list:\n",
    "    print(\"각 요소를 괄호 없이 출력\")\n",
    "    print(i, j)\n",
    "    print(\"합 출력\")\n",
    "    print(i + j)\n",
    "    \n",
    "test_list2 = (1,2,3,4)\n",
    "\n",
    "for i in test_list2:\n",
    "    print(\"각 원소 출력\")\n",
    "    print(i)"
   ]
  },
  {
   "cell_type": "code",
   "execution_count": 5,
   "id": "b4ccb826",
   "metadata": {},
   "outputs": [
    {
     "name": "stdout",
     "output_type": "stream",
     "text": [
      "1번 학생은 합격입니다.\n",
      "2번 학생은 불합격입니다.\n",
      "3번 학생은 합격입니다.\n",
      "4번 학생은 불합격입니다.\n",
      "5번 학생은 합격입니다.\n"
     ]
    }
   ],
   "source": [
    "marks = [90, 25, 67, 45, 80]\n",
    "number = 0\n",
    "\n",
    "for mark in marks:\n",
    "    # number는 카운터 역할.\n",
    "    # C언어에서 인덱스 역할 대신에 number로 기록\n",
    "    # 왜냐면 mark는 index가 아닌, 값 자체를 가리키기 때문\n",
    "    number += 1\n",
    "    \n",
    "    if mark >= 60:\n",
    "        print(f'{number}번 학생은 합격입니다.')\n",
    "        #print(\"%d번 학생은 합격입니다.\" %number)\n",
    "    else:\n",
    "        print(f'{number}번 학생은 불합격입니다.')\n",
    "        #print(\"%d번 학생은 불합격입니다.\" %number)\n",
    "        "
   ]
  },
  {
   "cell_type": "code",
   "execution_count": 11,
   "id": "0fdfb89f",
   "metadata": {},
   "outputs": [
    {
     "name": "stdout",
     "output_type": "stream",
     "text": [
      "range(0, 10)\n",
      "range(1, 10)\n",
      "[0, 1, 2, 3, 4, 5, 6, 7, 8, 9]\n",
      "range(0, 10)\n"
     ]
    }
   ],
   "source": [
    "# range : 범위를 나타내는 함수\n",
    "\n",
    "# 콤마 생략 시, 시작하는 범위의 인덱스 값은 0\n",
    "# a는 10만 썼지만, 0부터 9까지를 의미\n",
    "\n",
    "# 10은 포함 안됨!!!!!\n",
    "\n",
    "a = range(10)\n",
    "b = range(1, 10)\n",
    "print(a)\n",
    "print(b)\n",
    "\n",
    "# list(a)한다고 해서 a가 리스트로 바뀌는건 아님. print를 통해 일시적으로 바뀐 형태를 출력했을 뿐\n",
    "print(list(a))\n",
    "print(a)"
   ]
  },
  {
   "cell_type": "code",
   "execution_count": 15,
   "id": "66444a0c",
   "metadata": {},
   "outputs": [
    {
     "name": "stdout",
     "output_type": "stream",
     "text": [
      "2 4 6 8 10 12 14 16 18  \n",
      "3 6 9 12 15 18 21 24 27  \n",
      "4 8 12 16 20 24 28 32 36  \n",
      "5 10 15 20 25 30 35 40 45  \n",
      "6 12 18 24 30 36 42 48 54  \n",
      "7 14 21 28 35 42 49 56 63  \n",
      "8 16 24 32 40 48 56 64 72  \n",
      "9 18 27 36 45 54 63 72 81  \n"
     ]
    }
   ],
   "source": [
    "# 구구단 만들기\n",
    "\n",
    "# 단 수는 2부터 시작하므로\n",
    "for i in range(2, 10):\n",
    "    for j in range(1, 10):\n",
    "        # print는 원래 end의 default 값으로 '\\n'이 들어감\n",
    "        # 그래서 구구단을 예쁘게 출력하기 위해서는 다음의 작업이 필요\n",
    "        # end=\" \"를 통해, 마지막에 공백을 추가\n",
    "        print(i*j, end=\" \")\n",
    "    # print('\\n') 하면 2단과 3단 사이에 비어있는 한 줄이 추가되어, 출력 형태가 달라짐\n",
    "    # indentation의 위치가 중요함\n",
    "    print(\" \")"
   ]
  },
  {
   "cell_type": "code",
   "execution_count": 20,
   "id": "6ad5d0d1",
   "metadata": {},
   "outputs": [
    {
     "name": "stdout",
     "output_type": "stream",
     "text": [
      "-4\n",
      "4\n",
      "-1\n"
     ]
    }
   ],
   "source": [
    "# 함수\n",
    "\n",
    "# default값 지정시 = 1, = 2를 추가한다.\n",
    "def minus(a = 1, b = 2):\n",
    "    result = a - b\n",
    "    return result\n",
    "\n",
    "a = minus(3, 7)\n",
    "print(a)\n",
    "# parameter에 대응하는 값을 argument로 직접 입력하는 경우\n",
    "b = minus(b = 3, a = 7)\n",
    "print(b)\n",
    "# default값 지정 시 argument를 넣지 않았을 때 그대로 출력\n",
    "print(minus())"
   ]
  },
  {
   "cell_type": "code",
   "execution_count": 21,
   "id": "d8fa17cb",
   "metadata": {},
   "outputs": [
    {
     "data": {
      "text/plain": [
       "'Hi!'"
      ]
     },
     "execution_count": 21,
     "metadata": {},
     "output_type": "execute_result"
    }
   ],
   "source": [
    "# parameter가 없는 함수\n",
    "\n",
    "def say():\n",
    "    return 'Hi!'\n",
    "\n",
    "say()"
   ]
  },
  {
   "cell_type": "code",
   "execution_count": 22,
   "id": "e95e54d6",
   "metadata": {},
   "outputs": [
    {
     "name": "stdout",
     "output_type": "stream",
     "text": [
      "-1 hello\n"
     ]
    }
   ],
   "source": [
    "# return 값이 없는 경우\n",
    "\n",
    "def minus2(a,b):\n",
    "    print(f'{a - b} hello')\n",
    "    \n",
    "minus2(1, 2)"
   ]
  },
  {
   "cell_type": "code",
   "execution_count": 23,
   "id": "afb81ade",
   "metadata": {},
   "outputs": [
    {
     "name": "stdout",
     "output_type": "stream",
     "text": [
      "hello\n"
     ]
    },
    {
     "data": {
      "text/plain": [
       "-1"
      ]
     },
     "execution_count": 23,
     "metadata": {},
     "output_type": "execute_result"
    }
   ],
   "source": [
    "# print도 하고 return도 함\n",
    "\n",
    "def minus3(a,b):\n",
    "    print('hello')\n",
    "    return a - b\n",
    "\n",
    "minus3(1, 2)"
   ]
  },
  {
   "cell_type": "code",
   "execution_count": 25,
   "id": "0306c47b",
   "metadata": {},
   "outputs": [
    {
     "name": "stdout",
     "output_type": "stream",
     "text": [
      "15\n"
     ]
    }
   ],
   "source": [
    "# 입력 값이 몇 개인지 모르는 경우 (입력 값이 여러 개인 경우) : parameter에 *를 사용\n",
    "\n",
    "def add_many(*args):\n",
    "    add = 0\n",
    "    \n",
    "    for i in args:\n",
    "        add += i\n",
    "        \n",
    "    return add\n",
    "\n",
    "print(add_many(1, 2, 3, 4, 5))"
   ]
  },
  {
   "cell_type": "code",
   "execution_count": null,
   "id": "bca6695d",
   "metadata": {},
   "outputs": [],
   "source": [
    "# 키워드 파라미터 kwargs\n",
    "\n",
    "def func(**kwargs):\n",
    "    print(kwargs)\n",
    "    \n",
    "func(a = 1, name = 'foo', age = 40)"
   ]
  }
 ],
 "metadata": {
  "kernelspec": {
   "display_name": "Python 3 (ipykernel)",
   "language": "python",
   "name": "python3"
  },
  "language_info": {
   "codemirror_mode": {
    "name": "ipython",
    "version": 3
   },
   "file_extension": ".py",
   "mimetype": "text/x-python",
   "name": "python",
   "nbconvert_exporter": "python",
   "pygments_lexer": "ipython3",
   "version": "3.9.12"
  }
 },
 "nbformat": 4,
 "nbformat_minor": 5
}
