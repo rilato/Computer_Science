{
 "cells": [
  {
   "cell_type": "code",
   "execution_count": 3,
   "id": "c4f0a7ed",
   "metadata": {},
   "outputs": [
    {
     "name": "stdout",
     "output_type": "stream",
     "text": [
      "take a cab\n"
     ]
    }
   ],
   "source": [
    "# 조건문 if\n",
    "money = 3000\n",
    "\n",
    "if money >= 3000:\n",
    "    print('take a cab')\n",
    "    #동일한 블록 내에서 들여쓰기 맞춘다!\n",
    "    print('hi')\n",
    "        # print('hi') => 에러!! 같은 블록 내에서 들여쓰기가 다름\n",
    "else:\n",
    "    print('walk')\n",
    "    #들여쓰기 수준만 같으면 된다!\n",
    "        # 위에 print('walk') 없이 인덴팅 한 번 더해서\n",
    "        # print('walk')\n",
    "        # print('hi') 가능!!"
   ]
  },
  {
   "cell_type": "code",
   "execution_count": 6,
   "id": "6b3b781a",
   "metadata": {},
   "outputs": [
    {
     "name": "stdout",
     "output_type": "stream",
     "text": [
      "walk\n"
     ]
    }
   ],
   "source": [
    "money = 2000\n",
    "card = False\n",
    "\n",
    "if money >= 3000 or card:\n",
    "    print('take a cab')\n",
    "else:\n",
    "    print('walk')"
   ]
  },
  {
   "cell_type": "code",
   "execution_count": 11,
   "id": "2d8db9f4",
   "metadata": {},
   "outputs": [
    {
     "name": "stdout",
     "output_type": "stream",
     "text": [
      "take a cab\n"
     ]
    }
   ],
   "source": [
    "money = 2000\n",
    "pocket = ['paper', 'cellphone', 'money']\n",
    "\n",
    "# 여기서 원하는 money는 변수 money가 아닌, string money이므로 ' '을 씌워준다!\n",
    "if 'money' in pocket:\n",
    "    print('take a cab')\n",
    "else:\n",
    "    print('walk')"
   ]
  },
  {
   "cell_type": "code",
   "execution_count": 8,
   "id": "e4724e87",
   "metadata": {},
   "outputs": [],
   "source": [
    "pocket = ['paper', 'cellphone', 'money', 'card']\n",
    "\n",
    "if 'card' in pocket:\n",
    "    # C++의 continue와 동일\n",
    "    pass\n",
    "# 위의 문장을 건너뛰지만, 아래의 조건은 만족하지 않기 때문에 아무 것도 출력되지 않음\n",
    "else:\n",
    "    print('walk')"
   ]
  },
  {
   "cell_type": "code",
   "execution_count": 9,
   "id": "223bdc8a",
   "metadata": {},
   "outputs": [
    {
     "name": "stdout",
     "output_type": "stream",
     "text": [
      "take a bus\n"
     ]
    }
   ],
   "source": [
    "money = 1000\n",
    "if 'money' in pocket:\n",
    "    if money <= 500:\n",
    "        pass\n",
    "    else:\n",
    "        print('take a bus')\n",
    "else:\n",
    "    if 'card' in pocket:\n",
    "        print('take a cab')\n",
    "    else:\n",
    "        print('walk')"
   ]
  },
  {
   "cell_type": "code",
   "execution_count": 15,
   "id": "0da17d17",
   "metadata": {},
   "outputs": [
    {
     "name": "stdout",
     "output_type": "stream",
     "text": [
      "나무를 1번 찍었습니다.\n",
      "나무를 2번 찍었습니다.\n",
      "나무를 3번 찍었습니다.\n",
      "나무를 4번 찍었습니다.\n",
      "나무를 5번 찍었습니다.\n",
      "나무를 6번 찍었습니다.\n",
      "나무를 7번 찍었습니다.\n",
      "나무를 8번 찍었습니다.\n",
      "나무를 9번 찍었습니다.\n",
      "나무를 10번 찍었습니다.\n",
      "나무가 넘어갑니다.\n"
     ]
    }
   ],
   "source": [
    "# 반복문 while\n",
    "\n",
    "treeHit = 0\n",
    "\n",
    "while treeHit < 10:\n",
    "    treeHit += 1\n",
    "    print(\"나무를 %d번 찍었습니다.\" %treeHit)\n",
    "    if treeHit == 10:\n",
    "        print(\"나무가 넘어갑니다.\")"
   ]
  },
  {
   "cell_type": "code",
   "execution_count": 16,
   "id": "112d0464",
   "metadata": {},
   "outputs": [
    {
     "name": "stdout",
     "output_type": "stream",
     "text": [
      "\n",
      "1. Add\n",
      "2. Del\n",
      "3. List\n",
      "4. Quit\n",
      "\n",
      "Enter number: \n",
      "2\n",
      "\n",
      "1. Add\n",
      "2. Del\n",
      "3. List\n",
      "4. Quit\n",
      "\n",
      "Enter number: \n",
      "3\n",
      "\n",
      "1. Add\n",
      "2. Del\n",
      "3. List\n",
      "4. Quit\n",
      "\n",
      "Enter number: \n",
      "1\n",
      "\n",
      "1. Add\n",
      "2. Del\n",
      "3. List\n",
      "4. Quit\n",
      "\n",
      "Enter number: \n",
      "4\n"
     ]
    }
   ],
   "source": [
    "prompt = \"\"\"\n",
    "1. Add\n",
    "2. Del\n",
    "3. List\n",
    "4. Quit\n",
    "\n",
    "Enter number: \"\"\"\n",
    "\n",
    "number = 0\n",
    "\n",
    "while number != 4:\n",
    "    print(prompt)\n",
    "    # input()은 기본적으로 string을 받기 때문에 int로 바꿔준다!\n",
    "    number = int(input())"
   ]
  },
  {
   "cell_type": "code",
   "execution_count": 17,
   "id": "9d21592c",
   "metadata": {},
   "outputs": [
    {
     "name": "stdout",
     "output_type": "stream",
     "text": [
      "돈을 넣어 주세요: 1000\n",
      "거스름돈 700를 주고 커피를 줍니다.\n",
      "돈을 넣어 주세요: 300\n",
      "커피를 줍니다.\n",
      "돈을 넣어 주세요: 200\n",
      "돈을 다시 돌려주고 커피를 주지 않습니다.\n",
      "남은 커피의 양은 1개 입니다.\n",
      "돈을 넣어 주세요: 500\n",
      "거스름돈 200를 주고 커피를 줍니다.\n",
      "커피가 다 떨어졌습니다. 판매를 중지합니다.\n"
     ]
    }
   ],
   "source": [
    "coffee = 3\n",
    "\n",
    "while True:\n",
    "    # input()은 기본적으로 string을 받기 때문에 int로 바꿔준다!\n",
    "    money = int(input(\"돈을 넣어 주세요: \"))\n",
    "    \n",
    "    if money == 300:\n",
    "        print(\"커피를 줍니다.\")\n",
    "        coffee -= 1\n",
    "    elif money > 300:\n",
    "        print(\"거스름돈 %d를 주고 커피를 줍니다.\" %(money - 300))\n",
    "        coffee -= 1\n",
    "    else:\n",
    "        print(\"돈을 다시 돌려주고 커피를 주지 않습니다.\")\n",
    "        print(\"남은 커피의 양은 %d개 입니다.\" %coffee)\n",
    "    if not coffee:\n",
    "        print(\"커피가 다 떨어졌습니다. 판매를 중지합니다.\")\n",
    "        break"
   ]
  },
  {
   "cell_type": "code",
   "execution_count": 18,
   "id": "34feeac6",
   "metadata": {},
   "outputs": [
    {
     "name": "stdout",
     "output_type": "stream",
     "text": [
      "1\n",
      "3\n",
      "5\n",
      "7\n",
      "9\n"
     ]
    }
   ],
   "source": [
    "a = 0\n",
    "while a < 10:\n",
    "    a += 1\n",
    "    if a % 2 == 0:\n",
    "        continue\n",
    "    print(a)"
   ]
  },
  {
   "cell_type": "code",
   "execution_count": null,
   "id": "a4ff42df",
   "metadata": {},
   "outputs": [],
   "source": []
  }
 ],
 "metadata": {
  "kernelspec": {
   "display_name": "Python 3 (ipykernel)",
   "language": "python",
   "name": "python3"
  },
  "language_info": {
   "codemirror_mode": {
    "name": "ipython",
    "version": 3
   },
   "file_extension": ".py",
   "mimetype": "text/x-python",
   "name": "python",
   "nbconvert_exporter": "python",
   "pygments_lexer": "ipython3",
   "version": "3.9.12"
  }
 },
 "nbformat": 4,
 "nbformat_minor": 5
}
