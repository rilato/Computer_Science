{
 "cells": [
  {
   "cell_type": "code",
   "execution_count": 8,
   "id": "18ddb83d",
   "metadata": {},
   "outputs": [],
   "source": [
    "# 시험 범위는 교수님이 올려주신 해답에 있는 문제들만 포함\n",
    "# 클래스 연습문제\n",
    "# 1. 문제점 찾기\n",
    "\n",
    "class Calculator:\n",
    "    def __init__(self):\n",
    "        self.value = 0\n",
    "        \n",
    "    # 여기서 self가 빠져선 안된다!    \n",
    "    def add(self, val):\n",
    "        self.value += val"
   ]
  },
  {
   "cell_type": "code",
   "execution_count": 9,
   "id": "8e84eba8",
   "metadata": {},
   "outputs": [
    {
     "name": "stdout",
     "output_type": "stream",
     "text": [
      "7\n"
     ]
    }
   ],
   "source": [
    "cal = Calculator()\n",
    "cal.add(3)\n",
    "cal.add(4)\n",
    "\n",
    "print(cal.value)"
   ]
  },
  {
   "cell_type": "code",
   "execution_count": 10,
   "id": "c3506133",
   "metadata": {},
   "outputs": [],
   "source": [
    "# 2. 문제점 찾기\n",
    "\n",
    "class Calculator:\n",
    "    def __init__(self, init_value):\n",
    "        self.value = init_value\n",
    "        \n",
    "    def add(self, val):\n",
    "        self.value += val"
   ]
  },
  {
   "cell_type": "code",
   "execution_count": 11,
   "id": "e44bada3",
   "metadata": {},
   "outputs": [
    {
     "name": "stdout",
     "output_type": "stream",
     "text": [
      "7\n"
     ]
    }
   ],
   "source": [
    "# __init__에서 인자를 받도록 설정했지만, 문제에서는 인자를 넣어주지 않아 오류 발생!\n",
    "\n",
    "cal = Calculator(0)\n",
    "cal.add(3)\n",
    "cal.add(4)\n",
    "\n",
    "print(cal.value)"
   ]
  },
  {
   "cell_type": "code",
   "execution_count": 12,
   "id": "95463df1",
   "metadata": {},
   "outputs": [],
   "source": [
    "# 3. UpgradeCalculator라는 자식 클래스를 만들고, minus 함수 만들기\n",
    "\n",
    "class Calculator:\n",
    "    def __init__(self):\n",
    "        self.value = 0\n",
    "         \n",
    "    def add(self, val):\n",
    "        self.value += val\n",
    "        \n",
    "class UpgradeCalculator(Calculator):\n",
    "    def minus(self, val):\n",
    "        self.value -= val"
   ]
  },
  {
   "cell_type": "code",
   "execution_count": 13,
   "id": "06633b03",
   "metadata": {},
   "outputs": [
    {
     "name": "stdout",
     "output_type": "stream",
     "text": [
      "3\n"
     ]
    }
   ],
   "source": [
    "cal = UpgradeCalculator()\n",
    "cal.add(10)\n",
    "cal.minus(7)\n",
    "\n",
    "print(cal.value)"
   ]
  },
  {
   "cell_type": "code",
   "execution_count": 7,
   "id": "9fdf1578",
   "metadata": {},
   "outputs": [],
   "source": [
    "# 4. MaxLimitCalculator라는 자식 클래스 만들기.\n",
    "# MaxLimitCalculator는 100을 넘어가는 합은 100으로 출력하도록 하는 클래스\n",
    "\n",
    "class Calculator:\n",
    "    def __init__(self):\n",
    "        self.value = 0\n",
    "        \n",
    "    def add(self, val):\n",
    "        self.value += val\n",
    "        \n",
    "class MaxLimitCalculator(Calculator):\n",
    "    def add(self, val):\n",
    "        #self.value += val\n",
    "        super().add(val)\n",
    "        if (self.value >= 100):\n",
    "            self.value = 100"
   ]
  },
  {
   "cell_type": "code",
   "execution_count": 8,
   "id": "4d01b84b",
   "metadata": {},
   "outputs": [
    {
     "name": "stdout",
     "output_type": "stream",
     "text": [
      "100\n"
     ]
    }
   ],
   "source": [
    "cal = MaxLimitCalculator()\n",
    "cal.add(50)\n",
    "cal.add(60)\n",
    "\n",
    "print(cal.value)"
   ]
  },
  {
   "cell_type": "code",
   "execution_count": null,
   "id": "9b672e0c",
   "metadata": {},
   "outputs": [],
   "source": []
  },
  {
   "cell_type": "code",
   "execution_count": 19,
   "id": "f90ba0f7",
   "metadata": {},
   "outputs": [
    {
     "name": "stdout",
     "output_type": "stream",
     "text": [
      "Open 9-5 daily\n"
     ]
    }
   ],
   "source": [
    "# 종합 실습문제\n",
    "\n",
    "# 5.1\n",
    "# zoo.py 모듈에서 \"Open 9-5 daily\" 문자열을 반환하는 hours() 함수를 정의하라.\n",
    "# 그리고 zoo 모듈을 임포트하여 hours() 함수를 호출하시오\n",
    "\n",
    "import zoo\n",
    "\n",
    "zoo.hours()"
   ]
  },
  {
   "cell_type": "code",
   "execution_count": 20,
   "id": "7e548f2b",
   "metadata": {},
   "outputs": [
    {
     "name": "stdout",
     "output_type": "stream",
     "text": [
      "Open 9-5 daily\n"
     ]
    }
   ],
   "source": [
    "# 5.2\n",
    "# zoo 모듈을 menageria 라는 이름으로 import한 후 hours() 함수를 호출하라\n",
    "\n",
    "import zoo as menageria\n",
    "\n",
    "menageria.hours()"
   ]
  },
  {
   "cell_type": "code",
   "execution_count": 21,
   "id": "ef0d6249",
   "metadata": {},
   "outputs": [
    {
     "name": "stdout",
     "output_type": "stream",
     "text": [
      "{'a': 1, 'b': 2, 'c': 3}\n",
      "{'a': 'something for a ', 'b': 2, 'c': 3}\n"
     ]
    }
   ],
   "source": [
    "# 5.4\n",
    "# key:value 쌍이 'a':1, 'b':2, 'c':3 인 plain 딕셔너리를 만들어서 출력한 후,\n",
    "# 'a'의 value를 'something for a '로 바꾸어 출력하시오.\n",
    "\n",
    "plain = {'a':1, 'b':2, 'c':3}\n",
    "print(plain)\n",
    "plain['a'] = 'something for a '\n",
    "print(plain)"
   ]
  },
  {
   "cell_type": "code",
   "execution_count": 29,
   "id": "2b7d59e6",
   "metadata": {},
   "outputs": [
    {
     "name": "stdout",
     "output_type": "stream",
     "text": [
      "just right\n"
     ]
    }
   ],
   "source": [
    "# 4.1\n",
    "# guess_me 변수에 7을 할당한다.\n",
    "# 그리고 값이 7보다 작으면 문자열 'too low'를,\n",
    "# 7보다 크면 'too high'를,\n",
    "# 7과 같으면 'just right'를 출력하는 조건문(if, elif, else) 를 작성하라.\n",
    "\n",
    "guess_me = 7\n",
    "\n",
    "if guess_me < 7:\n",
    "    print(\"too low\")\n",
    "elif guess_me > 7:\n",
    "    print(\"too high\")\n",
    "else:\n",
    "    print(\"just right\")"
   ]
  },
  {
   "cell_type": "code",
   "execution_count": 32,
   "id": "d815744a",
   "metadata": {},
   "outputs": [
    {
     "name": "stdout",
     "output_type": "stream",
     "text": [
      "too low\n",
      "too low\n",
      "too low\n",
      "too low\n",
      "too low\n",
      "too low\n",
      "found it!\n"
     ]
    }
   ],
   "source": [
    "# 4.2\n",
    "# guess_me 변수에 7을 할당하고 start 변수에 1을 할당한다.\n",
    "# start와 guess_me를 비교하는 while 문을 작성하라.\n",
    "# start가 guess_me보다 작은 경우에는 'too low'를 출력하고 start와 guess_me가 같은 경우에는 'found it!'을 출력하고 루프를 종료한다.\n",
    "# start가 guess_me보다 큰 경우에는 'oops'를 출력하고 루프를 종료한다.\n",
    "\n",
    "# start에서 += 1을 하도록 한다. 그렇지 않으면 무한루프\n",
    "\n",
    "guess_me = 7\n",
    "start = 1\n",
    "\n",
    "while(1):\n",
    "    if (start < guess_me):\n",
    "        print(\"too low\")\n",
    "    elif (start == guess_me):\n",
    "        print(\"found it!\")\n",
    "        break\n",
    "    else:\n",
    "        print(\"oops\")\n",
    "        break\n",
    "        \n",
    "    start += 1"
   ]
  },
  {
   "cell_type": "code",
   "execution_count": 5,
   "id": "8810f05e",
   "metadata": {},
   "outputs": [
    {
     "name": "stdout",
     "output_type": "stream",
     "text": [
      "4\n",
      "88\n"
     ]
    }
   ],
   "source": [
    "# 5.1 같은 숫자가 나올때까지 주사위 3개를 동시에 무한 반복해서 던집니다.\n",
    "# 같은 숫자는 무엇이고 같은 숫자가 나올때까지 몇번 던졌는지 출력하시오.\n",
    "# 다음 코드를 이용하시오.\n",
    "\n",
    "import random\n",
    "\n",
    "count = 0\n",
    "\n",
    "while True:\n",
    "    a = random.randrange(1,7)\n",
    "    b = random.randrange(1,7)\n",
    "    c = random.randrange(1,7)\n",
    "    \n",
    "    count += 1\n",
    "    \n",
    "    if (a == b and b == c):\n",
    "        print(a)\n",
    "        print(count)\n",
    "        break"
   ]
  },
  {
   "cell_type": "code",
   "execution_count": 44,
   "id": "16d3ec13",
   "metadata": {},
   "outputs": [
    {
     "name": "stdout",
     "output_type": "stream",
     "text": [
      "숫자를 입력하세요 : 333\n",
      "+++\n",
      "+++\n",
      "+++\n"
     ]
    }
   ],
   "source": [
    "# 6.1\n",
    "# 사용자가 숫자를 여러개 입력하면 '+'문자를 입력한 숫자만큼 출력하는 코드를 만들어 실행하시오.\n",
    "# 예를 들어 6398을 입력하면 6개, 3개, 9개, 8개의 '+'을 각기 다른 줄에 출력하시오.\n",
    "\n",
    "sentence = int(input(\"숫자를 입력하세요 : \"))\n",
    "\n",
    "my_list = []\n",
    "\n",
    "while (1):\n",
    "    if (sentence == 0):\n",
    "        break\n",
    "        \n",
    "    remain = sentence % 10\n",
    "    my_list.append(remain * \"+\")\n",
    "    \n",
    "    sentence //= 10\n",
    "    \n",
    "my_list.reverse()\n",
    "    \n",
    "for i in my_list:\n",
    "    print(i)"
   ]
  },
  {
   "cell_type": "code",
   "execution_count": 57,
   "id": "520211b0",
   "metadata": {},
   "outputs": [
    {
     "name": "stdout",
     "output_type": "stream",
     "text": [
      "숫자를 입력하세요 : 1\n",
      "맞았습니다!\n"
     ]
    }
   ],
   "source": [
    "# 1.2 숫자 맞히기 게임\n",
    "# 사용자가 1부터 10까지의 숫자 중 하나를 입력하여 미리 지정된 숫자를 맞히는 프로그램이다.\n",
    "# 3회까지만 시도할 수 있다.\n",
    "# guess_num() 함수를 호출하여 실행한다.\n",
    "\n",
    "import random\n",
    "    \n",
    "def guess_num():\n",
    "    number = random.randint(1,10)\n",
    "    count = 0\n",
    "    \n",
    "    while True:\n",
    "        if (count == 3):\n",
    "            print(\"숫자를 맞히지 못했습니다!\")\n",
    "            break\n",
    "            \n",
    "        user = int(input(\"숫자를 입력하세요 : \"))\n",
    "        \n",
    "        if (number == user):\n",
    "            print(\"맞았습니다!\")\n",
    "            break\n",
    "            \n",
    "        count += 1\n",
    "        \n",
    "guess_num()"
   ]
  },
  {
   "cell_type": "code",
   "execution_count": 65,
   "id": "f489747e",
   "metadata": {},
   "outputs": [
    {
     "name": "stdout",
     "output_type": "stream",
     "text": [
      "eufiu4\n"
     ]
    }
   ],
   "source": [
    "# 6.3 (비밀번호 생성기 함수)\n",
    "# 알파벳 문자열과 정수를 패러미터로 받아 정수에 해당하는 갯수의 알파벳을 문자열에서 랜덤하게 선택해 비밀번호를 생성하는 함수\n",
    "# create_password_generator() 함수를 만드시오.(random.choice()함수를 사용하시오)\n",
    "\n",
    "def create_password_generator(string, integer):\n",
    "    ans = \"\"\n",
    "    integer = int(integer)\n",
    "    for i in range(integer):\n",
    "        ans += random.choice(string)\n",
    "    return ans\n",
    "        \n",
    "print(create_password_generator('aoei340958u20fhjapwe','6'))"
   ]
  },
  {
   "cell_type": "code",
   "execution_count": 78,
   "id": "924ea498",
   "metadata": {},
   "outputs": [
    {
     "name": "stdout",
     "output_type": "stream",
     "text": [
      "0,1,2,3,4,5,6,7,8\n"
     ]
    }
   ],
   "source": [
    "# 7.1\n",
    "# range를 매개변수로 받아 숫자들을 쉼표(,)로 연결해 리턴하는 join_numbers 함수를 만드시오.\n",
    "# 즉, range(9)를 매개변수로 넣으면 다음과 같은 문자열을 리턴하시오.\n",
    "# 0,1,2,3,4,5,6,7,8\n",
    "\n",
    "def join_numbers(num):\n",
    "    my_list = []\n",
    "    for i in num:\n",
    "        my_list.append(i)\n",
    "    \n",
    "    ans = \"\"\n",
    "    for i in my_list:\n",
    "        ans += str(i)\n",
    "        \n",
    "    print(\",\".join(ans))\n",
    "    \n",
    "join_numbers(range(9))"
   ]
  },
  {
   "cell_type": "code",
   "execution_count": 18,
   "id": "15892892",
   "metadata": {},
   "outputs": [
    {
     "name": "stdout",
     "output_type": "stream",
     "text": [
      "1880년 : 201484명\n",
      "1881년 : 192690명\n",
      "1882년 : 221533명\n",
      "1883년 : 216944명\n",
      "1884년 : 243461명\n",
      "1885년 : 240854명\n",
      "1886년 : 255317명\n",
      "1887년 : 247393명\n",
      "1888년 : 299473명\n",
      "1889년 : 288946명\n",
      "1890년 : 301401명\n",
      "1891년 : 286671명\n",
      "1892년 : 334374명\n",
      "1893년 : 325224명\n",
      "1894년 : 338691명\n",
      "1895년 : 351021명\n",
      "1896년 : 357484명\n",
      "1897년 : 346957명\n",
      "1898년 : 381456명\n",
      "1899년 : 339232명\n",
      "1900년 : 450270명\n",
      "1901년 : 345812명\n",
      "1902년 : 386733명\n",
      "1903년 : 381201명\n",
      "1904년 : 403486명\n",
      "1905년 : 423926명\n",
      "1906년 : 428454명\n",
      "1907년 : 465392명\n",
      "1908년 : 488651명\n",
      "1909년 : 511224명\n",
      "1910년 : 590714명\n",
      "1911년 : 644279명\n",
      "1912년 : 988066명\n",
      "1913년 : 1137113명\n",
      "1914년 : 1416345명\n",
      "1915년 : 1832436명\n",
      "1916년 : 1934426명\n",
      "1917년 : 2006757명\n",
      "1918년 : 2171117명\n",
      "1919년 : 2110266명\n",
      "1920년 : 2262657명\n",
      "1921년 : 2334524명\n",
      "1922년 : 2289171명\n",
      "1923년 : 2302520명\n",
      "1924년 : 2381649명\n",
      "1925년 : 2333341명\n",
      "1926년 : 2295924명\n",
      "1927년 : 2319353명\n",
      "1928년 : 2260952명\n",
      "1929년 : 2192195명\n",
      "1930년 : 2223347명\n",
      "1931년 : 2104350명\n",
      "1932년 : 2111261명\n",
      "1933년 : 1999375명\n",
      "1934년 : 2076731명\n",
      "1935년 : 2089803명\n",
      "1936년 : 2077521명\n",
      "1937년 : 2130581명\n",
      "1938년 : 2212547명\n",
      "1939년 : 2203412명\n",
      "1940년 : 2302557명\n",
      "1941년 : 2436286명\n",
      "1942년 : 2731709명\n",
      "1943년 : 2822455명\n",
      "1944년 : 2689991명\n",
      "1945년 : 2652802명\n",
      "1946년 : 3195203명\n",
      "1947년 : 3602206명\n",
      "1948년 : 3452414명\n",
      "1949년 : 3484701명\n",
      "1950년 : 3503444명\n",
      "1951년 : 3683790명\n",
      "1952년 : 3798047명\n",
      "1953년 : 3853636명\n",
      "1954년 : 3980810명\n",
      "1955년 : 4015136명\n",
      "1956년 : 4123559명\n",
      "1957년 : 4200929명\n",
      "1958년 : 4132611명\n",
      "1959년 : 4156655명\n",
      "1960년 : 4153991명\n",
      "1961년 : 4140745명\n",
      "1962년 : 4035249명\n",
      "1963년 : 3958727명\n",
      "1964년 : 3887777명\n",
      "1965년 : 3625782명\n",
      "1966년 : 3475701명\n",
      "1967년 : 3395150명\n",
      "1968년 : 3378744명\n",
      "1969년 : 3475879명\n",
      "1970년 : 3607127명\n",
      "1971년 : 3432690명\n",
      "1972년 : 3143551명\n",
      "1973년 : 3017417명\n",
      "1974년 : 3040434명\n",
      "1975년 : 3020030명\n",
      "1976년 : 3034943명\n",
      "1977년 : 3177004명\n",
      "1978년 : 3174523명\n",
      "1979년 : 3327642명\n",
      "1980년 : 3445130명\n",
      "1981년 : 3459854명\n",
      "1982년 : 3508438명\n",
      "1983년 : 3463680명\n",
      "1984년 : 3488848명\n",
      "1985년 : 3569087명\n",
      "1986년 : 3556994명\n",
      "1987년 : 3605438명\n",
      "1988년 : 3694665명\n",
      "1989년 : 3844301명\n",
      "1990년 : 3951988명\n",
      "1991년 : 3894936명\n",
      "1992년 : 3840831명\n",
      "1993년 : 3769905명\n",
      "1994년 : 3717252명\n",
      "1995년 : 3661787명\n",
      "1996년 : 3646813명\n",
      "1997년 : 3625428명\n",
      "1998년 : 3677879명\n",
      "1999년 : 3693472명\n",
      "2000년 : 3779380명\n",
      "2001년 : 3742717명\n",
      "2002년 : 3737470명\n",
      "2003년 : 3801458명\n",
      "2004년 : 3819947명\n",
      "2005년 : 3843683명\n",
      "2006년 : 3954727명\n",
      "2007년 : 3996082명\n",
      "2008년 : 3928795명\n",
      "2009년 : 3818183명\n",
      "2010년 : 3693639명\n",
      "2011년 : 3655347명\n",
      "2012년 : 3654651명\n",
      "2013년 : 3642417명\n",
      "2014년 : 3702773명\n",
      "2015년 : 3696689명\n",
      "2016년 : 3663887명\n",
      "2017년 : 3570234명\n",
      "2018년 : 3508655명\n",
      "2019년 : 3461444명\n",
      "2020년 : 3327419명\n",
      "2021년 : 3361375명\n"
     ]
    }
   ],
   "source": [
    "# 181\n",
    "# 데이터 파일을 읽어들여 연도별 출생아 수를 계산하시오.\n",
    "\n",
    "def count_baby():\n",
    "    myRange = range(1880, 2022)\n",
    "\n",
    "    for i in myRange:\n",
    "        fileName = \"yob\" + str(i) + \".txt\"\n",
    "        \n",
    "        f = open(fileName, \"r\")\n",
    "        \n",
    "        count = 0\n",
    "        \n",
    "        lines = f.readlines()\n",
    "        \n",
    "        f.close()\n",
    "        \n",
    "        for line in lines:\n",
    "            line.strip()\n",
    "            number = line.split(\",\")\n",
    "            # 주의!! int로 바꿀것!!\n",
    "            count += int(number[2])\n",
    "                \n",
    "        f = open(\"baby_born.csv\", 'a')\n",
    "        f.write(\"%s년 : %d명\" %(i, count))\n",
    "        f.write('\\n')\n",
    "        f.close()\n",
    "        \n",
    "        print(\"%s년 : %d명\" %(i, count))\n",
    "        \n",
    "count_baby()\n",
    "# 연도별 텍스트를 한줄씩 읽고 출생아 수만 추출하시오.\n",
    "# 그 결과값을 baby_born.csv 파일에 연도별로 저장하시오.\n",
    "# count_baby() 함수를 만들어 실행하시오."
   ]
  },
  {
   "cell_type": "code",
   "execution_count": 26,
   "id": "b5977ca2",
   "metadata": {},
   "outputs": [
    {
     "name": "stdout",
     "output_type": "stream",
     "text": [
      "1880년 - male : 110490명 female : 90994명\n",
      "1881년 - male : 100737명 female : 91953명\n",
      "1882년 - male : 113686명 female : 107847명\n",
      "1883년 - male : 104625명 female : 112319명\n",
      "1884년 - male : 114442명 female : 129019명\n",
      "1885년 - male : 107799명 female : 133055명\n",
      "1886년 - male : 110784명 female : 144533명\n",
      "1887년 - male : 101411명 female : 145982명\n",
      "1888년 - male : 120851명 female : 178622명\n",
      "1889년 - male : 110580명 female : 178366명\n",
      "1890년 - male : 111024명 female : 190377명\n",
      "1891년 - male : 101191명 female : 185480명\n",
      "1892년 - male : 122035명 female : 212339명\n",
      "1893년 - male : 112319명 female : 212905명\n",
      "1894년 - male : 115769명 female : 222922명\n",
      "1895년 - male : 117394명 female : 233627명\n",
      "1896년 - male : 119566명 female : 237918명\n",
      "1897년 - male : 112757명 female : 234200명\n",
      "1898년 - male : 122686명 female : 258770명\n",
      "1899년 - male : 106210명 female : 233022명\n",
      "1900년 - male : 150477명 female : 299793명\n",
      "1901년 - male : 106467명 female : 239345명\n",
      "1902년 - male : 122658명 female : 264075명\n",
      "1903년 - male : 119231명 female : 261970명\n",
      "1904년 - male : 128124명 female : 275362명\n",
      "1905년 - male : 132308명 female : 291618명\n",
      "1906년 - male : 133155명 female : 295299명\n",
      "1907년 - male : 146826명 female : 318566명\n",
      "1908년 - male : 154338명 female : 334313명\n",
      "1909년 - male : 163996명 female : 347228명\n",
      "1910년 - male : 194209명 female : 396505명\n",
      "1911년 - male : 225969명 female : 418310명\n",
      "1912년 - male : 429946명 female : 558120명\n",
      "1913년 - male : 512566명 female : 624547명\n",
      "1914년 - male : 654765명 female : 761580명\n",
      "1915년 - male : 848579명 female : 983857명\n",
      "1916년 - male : 890089명 female : 1044337명\n",
      "1917년 - male : 925488명 female : 1081269명\n",
      "1918년 - male : 1013485명 female : 1157632명\n",
      "1919년 - male : 980141명 female : 1130125명\n",
      "1920년 - male : 1064364명 female : 1198293명\n",
      "1921년 - male : 1101461명 female : 1233063명\n",
      "1922년 - male : 1088167명 female : 1201004명\n",
      "1923년 - male : 1096131명 female : 1206389명\n",
      "1924년 - male : 1132768명 female : 1248881명\n",
      "1925년 - male : 1115938명 female : 1217403명\n",
      "1926년 - male : 1110521명 female : 1185403명\n",
      "1927년 - male : 1126937명 female : 1192416명\n",
      "1928년 - male : 1107630명 female : 1153322명\n",
      "1929년 - male : 1075640명 female : 1116555명\n",
      "1930년 - male : 1097399명 female : 1125948명\n",
      "1931년 - male : 1039637명 female : 1064713명\n",
      "1932년 - male : 1044134명 female : 1067127명\n",
      "1933년 - male : 991468명 female : 1007907명\n",
      "1934년 - male : 1032528명 female : 1044203명\n",
      "1935년 - male : 1041261명 female : 1048542명\n",
      "1936년 - male : 1037167명 female : 1040354명\n",
      "1937년 - male : 1066586명 female : 1063995명\n",
      "1938년 - male : 1109113명 female : 1103434명\n",
      "1939년 - male : 1106797명 female : 1096615명\n",
      "1940년 - male : 1159091명 female : 1143466명\n",
      "1941년 - male : 1228199명 female : 1208087명\n",
      "1942년 - male : 1381031명 female : 1350678명\n",
      "1943년 - male : 1427204명 female : 1395251명\n",
      "1944년 - male : 1362800명 female : 1327191명\n",
      "1945년 - male : 1345744명 female : 1307058명\n",
      "1946년 - male : 1623928명 female : 1571275명\n",
      "1947년 - male : 1829482명 female : 1772724명\n",
      "1948년 - male : 1754564명 female : 1697850명\n",
      "1949년 - male : 1773819명 female : 1710882명\n",
      "1950년 - male : 1790390명 female : 1713054명\n",
      "1951년 - male : 1882906명 female : 1800884명\n",
      "1952년 - male : 1943720명 female : 1854327명\n",
      "1953년 - male : 1972329명 female : 1881307명\n",
      "1954년 - male : 2038848명 female : 1941962명\n",
      "1955년 - male : 2059866명 female : 1955270명\n",
      "1956년 - male : 2115635명 female : 2007924명\n",
      "1957년 - male : 2156314명 female : 2044615명\n",
      "1958년 - male : 2121330명 female : 2011281명\n",
      "1959년 - male : 2133564명 female : 2023091명\n",
      "1960년 - male : 2131990명 female : 2022001명\n",
      "1961년 - male : 2122910명 female : 2017835명\n",
      "1962년 - male : 2068665명 female : 1966584명\n",
      "1963년 - male : 2031329명 female : 1927398명\n",
      "1964년 - male : 1992920명 female : 1894857명\n",
      "1965년 - male : 1860668명 female : 1765114명\n",
      "1966년 - male : 1783652명 female : 1692049명\n",
      "1967년 - male : 1744161명 female : 1650989명\n",
      "1968년 - male : 1738442명 female : 1640302명\n",
      "1969년 - male : 1788871명 female : 1687008명\n",
      "1970년 - male : 1858974명 female : 1748153명\n",
      "1971년 - male : 1768957명 female : 1663733명\n",
      "1972년 - male : 1622339명 female : 1521212명\n",
      "1973년 - male : 1559166명 female : 1458251명\n",
      "1974년 - male : 1572931명 female : 1467503명\n",
      "1975년 - male : 1562109명 female : 1457921명\n",
      "1976년 - male : 1569753명 female : 1465190명\n",
      "1977년 - male : 1643807명 female : 1533197명\n",
      "1978년 - male : 1642611명 female : 1531912명\n",
      "1979년 - male : 1722263명 female : 1605379명\n",
      "1980년 - male : 1784689명 female : 1660441명\n",
      "1981년 - male : 1791829명 female : 1668025명\n",
      "1982년 - male : 1815073명 female : 1693365명\n",
      "1983년 - male : 1793061명 female : 1670619명\n",
      "1984년 - male : 1805114명 female : 1683734명\n",
      "1985년 - male : 1848322명 female : 1720765명\n",
      "1986년 - male : 1841534명 female : 1715460명\n",
      "1987년 - male : 1866914명 female : 1738524명\n",
      "1988년 - male : 1914007명 female : 1780658명\n",
      "1989년 - male : 2000815명 female : 1843486명\n",
      "1990년 - male : 2053639명 female : 1898349명\n",
      "1991년 - male : 2020065명 female : 1874871명\n",
      "1992년 - male : 1997084명 female : 1843747명\n",
      "1993년 - male : 1961000명 female : 1808905명\n",
      "1994년 - male : 1931713명 female : 1785539명\n",
      "1995년 - male : 1903403명 female : 1758384명\n",
      "1996년 - male : 1894010명 female : 1752803명\n",
      "1997년 - male : 1884923명 female : 1740505명\n",
      "1998년 - male : 1911145명 female : 1766734명\n",
      "1999년 - male : 1919887명 female : 1773585명\n",
      "2000년 - male : 1963670명 female : 1815710명\n",
      "2001년 - male : 1942492명 female : 1800225명\n",
      "2002년 - male : 1941037명 female : 1796433명\n",
      "2003년 - male : 1974801명 female : 1826657명\n",
      "2004년 - male : 1984282명 female : 1835665명\n",
      "2005년 - male : 1996542명 female : 1847141명\n",
      "2006년 - male : 2054352명 female : 1900375명\n",
      "2007년 - male : 2074427명 female : 1921655명\n",
      "2008년 - male : 2038995명 female : 1889800명\n",
      "2009년 - male : 1982310명 female : 1835873명\n",
      "2010년 - male : 1917416명 female : 1776223명\n",
      "2011년 - male : 1897685명 female : 1757662명\n",
      "2012년 - male : 1895285명 female : 1759366명\n",
      "2013년 - male : 1889640명 female : 1752777명\n",
      "2014년 - male : 1918546명 female : 1784227명\n",
      "2015년 - male : 1914078명 female : 1782611명\n",
      "2016년 - male : 1894723명 female : 1769164명\n",
      "2017년 - male : 1847191명 female : 1723043명\n",
      "2018년 - male : 1811738명 female : 1696917명\n",
      "2019년 - male : 1788414명 female : 1673030명\n",
      "2020년 - male : 1718248명 female : 1609171명\n",
      "2021년 - male : 1734277명 female : 1627098명\n"
     ]
    }
   ],
   "source": [
    "# 다시풀기!!\n",
    "\n",
    "# 181_1.\n",
    "# 데이터 파일을 읽어들여 연도별 성별 출생아 수를 계산하시오.\n",
    "# 그 결과값을 baby_born_1.csv 파일에 연도별, 성별로 저장하시오.\n",
    "# count_baby_gender() 함수를 만들어 실행하시오.\n",
    "\n",
    "def count_baby_gender():\n",
    "    myRange = range(1880, 2022)\n",
    "\n",
    "    for i in myRange:\n",
    "        fileName = \"yob\" + str(i) + \".txt\"\n",
    "        \n",
    "        f = open(fileName, \"r\")\n",
    "        \n",
    "        lines = f.readlines()\n",
    "        \n",
    "        f.close()\n",
    "        \n",
    "        maleCount = 0\n",
    "        femaleCount = 0\n",
    "        \n",
    "        for line in lines:\n",
    "            if line.strip().split(\",\")[1] == 'F':\n",
    "                femaleCount += int(line.strip().split(\",\")[-1])\n",
    "            else:\n",
    "                maleCount += int(line.strip().split(\",\")[-1])\n",
    "                \n",
    "        f = open(\"baby_born_1.csv\", 'a')\n",
    "        f.write(\"%s년 - male : %d명 female : %d명\" %(i, maleCount, femaleCount))\n",
    "        f.write('\\n')\n",
    "        f.close()\n",
    "        \n",
    "        print(\"%s년 - male : %d명 female : %d명\" %(i, maleCount, femaleCount))\n",
    "        \n",
    "count_baby_gender()"
   ]
  },
  {
   "cell_type": "code",
   "execution_count": null,
   "id": "8db8b7ca",
   "metadata": {},
   "outputs": [],
   "source": []
  }
 ],
 "metadata": {
  "kernelspec": {
   "display_name": "Python 3 (ipykernel)",
   "language": "python",
   "name": "python3"
  },
  "language_info": {
   "codemirror_mode": {
    "name": "ipython",
    "version": 3
   },
   "file_extension": ".py",
   "mimetype": "text/x-python",
   "name": "python",
   "nbconvert_exporter": "python",
   "pygments_lexer": "ipython3",
   "version": "3.9.12"
  }
 },
 "nbformat": 4,
 "nbformat_minor": 5
}
