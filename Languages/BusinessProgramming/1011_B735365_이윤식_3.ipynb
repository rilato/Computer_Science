{
 "cells": [
  {
   "cell_type": "code",
   "execution_count": 16,
   "id": "5682dd4d",
   "metadata": {},
   "outputs": [
    {
     "name": "stdout",
     "output_type": "stream",
     "text": [
      "can go destination\n"
     ]
    }
   ],
   "source": [
    "# 연습문제\n",
    "# 1. 카드를 소유하고 있거나, 4000원 이상의 현금을 가지고 있어야 목적지까지 갈 수 있다.\n",
    "\n",
    "money = 5000\n",
    "card = False\n",
    "\n",
    "if money >= 4000 or card == True:\n",
    "    print('can go destination')\n",
    "else:\n",
    "    print('can\\'t go destination')"
   ]
  },
  {
   "cell_type": "code",
   "execution_count": 14,
   "id": "fa88a710",
   "metadata": {},
   "outputs": [
    {
     "name": "stdout",
     "output_type": "stream",
     "text": [
      "야호\n"
     ]
    }
   ],
   "source": [
    "# 2. 홍길동의 복권 번호는 23번이다. 당첨되었다면 \"야호\"라는 문자열 출력\n",
    "\n",
    "hong = 23\n",
    "lucky_list = [1, 9, 23, 46]\n",
    "\n",
    "if hong in lucky_list:\n",
    "    print(\"야호\")\n",
    "else:\n",
    "    pass"
   ]
  },
  {
   "cell_type": "code",
   "execution_count": 13,
   "id": "bd0d3b32",
   "metadata": {},
   "outputs": [
    {
     "name": "stdout",
     "output_type": "stream",
     "text": [
      "2\n",
      "짝수\n"
     ]
    }
   ],
   "source": [
    "# 3. 주어진 수가 홀수인지 짝수인지 판별\n",
    "\n",
    "num = int(input())\n",
    "\n",
    "if num % 2 == 0:\n",
    "    print(\"짝수\")\n",
    "else:\n",
    "    print(\"홀수\")"
   ]
  },
  {
   "cell_type": "code",
   "execution_count": 7,
   "id": "b5996a60",
   "metadata": {},
   "outputs": [
    {
     "name": "stdout",
     "output_type": "stream",
     "text": [
      "NO\n"
     ]
    }
   ],
   "source": [
    "# 4. 나이가 30 미만이고 키가 175 이상인 경우 YES, 아닌 경우 NO 출력\n",
    "\n",
    "age = 30\n",
    "height = 180\n",
    "\n",
    "if age < 30 and height >= 175:\n",
    "    print(\"YES\")\n",
    "else:\n",
    "    print(\"NO\")"
   ]
  },
  {
   "cell_type": "code",
   "execution_count": 8,
   "id": "b4b66300",
   "metadata": {},
   "outputs": [
    {
     "name": "stdout",
     "output_type": "stream",
     "text": [
      "shirt\n"
     ]
    }
   ],
   "source": [
    "# 5. 다음 코드의 결과 값은?\n",
    "a = \"Life is too short, you need python\"\n",
    "if 'wife' in a:\n",
    "    print('wife')\n",
    "elif 'python' in a  and 'you' not in a:\n",
    "    print('python')\n",
    "elif 'shirt' not in a:\n",
    "    print('shirt')\n",
    "elif 'need' in a:\n",
    "    print('need')\n",
    "else:\n",
    "    print('none')"
   ]
  },
  {
   "cell_type": "code",
   "execution_count": 17,
   "id": "adc49f69",
   "metadata": {},
   "outputs": [
    {
     "name": "stdout",
     "output_type": "stream",
     "text": [
      "5050\n"
     ]
    }
   ],
   "source": [
    "# 연습문제\n",
    "\n",
    "# 1. 1부터 100까지 더하기\n",
    "\n",
    "sum = 0\n",
    "count = 1\n",
    "\n",
    "while (count <= 100):\n",
    "    sum += count\n",
    "    count += 1\n",
    "\n",
    "print(sum)"
   ]
  },
  {
   "cell_type": "code",
   "execution_count": 7,
   "id": "8bdb0f36",
   "metadata": {},
   "outputs": [
    {
     "name": "stdout",
     "output_type": "stream",
     "text": [
      "166833\n"
     ]
    }
   ],
   "source": [
    "# 2. 3의 배수의 합\n",
    "\n",
    "num = 3\n",
    "productNum = 1\n",
    "sum = 0\n",
    "\n",
    "while num * productNum <= 1000:\n",
    "    sum += num*productNum\n",
    "    productNum += 1\n",
    "\n",
    "print(sum)"
   ]
  },
  {
   "cell_type": "code",
   "execution_count": 12,
   "id": "e6e595b1",
   "metadata": {},
   "outputs": [
    {
     "name": "stdout",
     "output_type": "stream",
     "text": [
      "481\n",
      "481\n"
     ]
    }
   ],
   "source": [
    "# 3. 50점 이상의 총합\n",
    "# 무한루프를 도는 경우, Run 옆의 네모 누르고, 다시 Run 누르기!\n",
    "\n",
    "A = [20, 55, 67, 82, 45, 33, 90, 87, 100, 25]\n",
    "\n",
    "i = 0\n",
    "sum = 0\n",
    "\n",
    "while i < len(A):\n",
    "    if A[i] >= 50:\n",
    "        sum += A[i]\n",
    "    # i를 증가시키지 않으면 무한루프에 빠진다!\n",
    "    i += 1\n",
    "\n",
    "print(sum)\n",
    "\n",
    "# 또 다른 풀이\n",
    "\n",
    "result = 0\n",
    "\n",
    "while A:\n",
    "    marker = A.pop()\n",
    "    if marker >= 50:\n",
    "        result += marker\n",
    "\n",
    "print(result)"
   ]
  },
  {
   "cell_type": "code",
   "execution_count": 3,
   "id": "6859db8a",
   "metadata": {},
   "outputs": [
    {
     "name": "stdout",
     "output_type": "stream",
     "text": [
      "*\n",
      "**\n",
      "***\n",
      "****\n"
     ]
    }
   ],
   "source": [
    "# 4. 별 표시하기1\n",
    "\n",
    "i = 1\n",
    "\n",
    "while i <= 4:\n",
    "    print(\"*\" * i)\n",
    "    i += 1"
   ]
  },
  {
   "cell_type": "code",
   "execution_count": 14,
   "id": "52bcf0cd",
   "metadata": {},
   "outputs": [
    {
     "name": "stdout",
     "output_type": "stream",
     "text": [
      "*******\n",
      " *****\n",
      "  ***\n",
      "   *\n",
      "*******\n",
      " ***** \n",
      "  ***  \n",
      "   *   \n"
     ]
    }
   ],
   "source": [
    "# 5. 별 표시하기2\n",
    "\n",
    "i = 4\n",
    "j = 0;\n",
    "\n",
    "while i >= 1:\n",
    "    k = i * 2 - 1\n",
    "    # +로 글자를 묶지 않고,\n",
    "    # print\n",
    "    # print\n",
    "    # 를 하게 되면 자동으로 개행이 이루어지므로, 원하는 답이 나오지 않을 수 있다!\n",
    "    print(\" \" * j + \"*\" * k)\n",
    "    i -= 1\n",
    "    j += 1\n",
    "\n",
    "# 또 다른 풀이\n",
    "\n",
    "star = \"*\"\n",
    "num = 7\n",
    "\n",
    "while num:\n",
    "    # 홀수인 경우에만 프린트하도록 함\n",
    "    if num % 2 == 1:\n",
    "        print(f'{star*num:^7}')\n",
    "    num -= 1"
   ]
  },
  {
   "cell_type": "code",
   "execution_count": null,
   "id": "478c4191",
   "metadata": {},
   "outputs": [],
   "source": []
  }
 ],
 "metadata": {
  "kernelspec": {
   "display_name": "Python 3 (ipykernel)",
   "language": "python",
   "name": "python3"
  },
  "language_info": {
   "codemirror_mode": {
    "name": "ipython",
    "version": 3
   },
   "file_extension": ".py",
   "mimetype": "text/x-python",
   "name": "python",
   "nbconvert_exporter": "python",
   "pygments_lexer": "ipython3",
   "version": "3.9.12"
  }
 },
 "nbformat": 4,
 "nbformat_minor": 5
}
