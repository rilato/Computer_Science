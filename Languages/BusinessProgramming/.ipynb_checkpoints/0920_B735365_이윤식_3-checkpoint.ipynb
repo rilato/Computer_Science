{
 "cells": [
  {
   "cell_type": "code",
   "execution_count": 13,
   "id": "3868bacc",
   "metadata": {},
   "outputs": [
    {
     "name": "stdout",
     "output_type": "stream",
     "text": [
      "                        PYTHON\n"
     ]
    }
   ],
   "source": [
    "# 연습문제\n",
    "# 7\n",
    "# \"PYTHON\"이라는 문자열에 공백 24개를 추가하여 30자리의 문자열 만들기\n",
    "# 포맷팅하는 세 가지 방법 모두 사용\n",
    "\n",
    "string = \"PYTHON\"\n",
    "print(\"%30s\" %string)"
   ]
  },
  {
   "cell_type": "code",
   "execution_count": 16,
   "id": "08a75ec7",
   "metadata": {},
   "outputs": [
    {
     "name": "stdout",
     "output_type": "stream",
     "text": [
      "                        PYTHON\n"
     ]
    }
   ],
   "source": [
    "print(\"{0:>24}PYTHON\".format(\" \"))"
   ]
  },
  {
   "cell_type": "code",
   "execution_count": 17,
   "id": "f3e2d3af",
   "metadata": {},
   "outputs": [
    {
     "name": "stdout",
     "output_type": "stream",
     "text": [
      "                        PYTHON\n"
     ]
    }
   ],
   "source": [
    "print(f'{\" \":24}PYTHON')"
   ]
  },
  {
   "cell_type": "code",
   "execution_count": 14,
   "id": "383e9488",
   "metadata": {},
   "outputs": [
    {
     "data": {
      "text/plain": [
       "12"
      ]
     },
     "execution_count": 14,
     "metadata": {},
     "output_type": "execute_result"
    }
   ],
   "source": [
    "# 8\n",
    "# short 라는 문자열이 시작되는 인덱스 구하기\n",
    "# index써도 되지만, 없는 문자열의 경우 에러가 나므로 find를 쓰는게 일반적.\n",
    "\n",
    "string = \"Life is too short, you need python\"\n",
    "string.find(\"short\")"
   ]
  },
  {
   "cell_type": "code",
   "execution_count": 17,
   "id": "08bf631f",
   "metadata": {},
   "outputs": [
    {
     "data": {
      "text/plain": [
       "'a#b#c#d'"
      ]
     },
     "execution_count": 17,
     "metadata": {},
     "output_type": "execute_result"
    }
   ],
   "source": [
    "# 9\n",
    "# replace함수를 이용하여 문자열 고치기\n",
    "\n",
    "string = \"a:b:c:d\"\n",
    "string.replace(\":\",\"#\")"
   ]
  },
  {
   "cell_type": "code",
   "execution_count": 20,
   "id": "84b7eab1",
   "metadata": {},
   "outputs": [
    {
     "data": {
      "text/plain": [
       "'a#b#c#d'"
      ]
     },
     "execution_count": 20,
     "metadata": {},
     "output_type": "execute_result"
    }
   ],
   "source": [
    "# 10\n",
    "# split과 join을 이용하여 문자열 고치기\n",
    "\n",
    "string = \"a:b:c:d\"\n",
    "str = string.split(\":\")\n",
    "# #을 str 사이사이에 넣고 싶으므로 #을 . 앞에 써준다! ()안에 쓰지 않는다!\n",
    "\"#\".join(str)"
   ]
  },
  {
   "cell_type": "code",
   "execution_count": null,
   "id": "bf62bf3c",
   "metadata": {},
   "outputs": [],
   "source": []
  }
 ],
 "metadata": {
  "kernelspec": {
   "display_name": "Python 3 (ipykernel)",
   "language": "python",
   "name": "python3"
  },
  "language_info": {
   "codemirror_mode": {
    "name": "ipython",
    "version": 3
   },
   "file_extension": ".py",
   "mimetype": "text/x-python",
   "name": "python",
   "nbconvert_exporter": "python",
   "pygments_lexer": "ipython3",
   "version": "3.9.12"
  }
 },
 "nbformat": 4,
 "nbformat_minor": 5
}
