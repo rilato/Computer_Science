{
 "cells": [
  {
   "cell_type": "code",
   "execution_count": null,
   "metadata": {},
   "outputs": [],
   "source": [
    "#%% numpy exercises 문제\n",
    "\n",
    "#B15. 30부터 70까지 짝수로 이루어진 array를 만드시오 \n",
    "#%% B13. 10개의 zero, 10개의 one, 10개의 5로 만들어진 array를 각각 만드시오\n",
    "#%% B19. 15부터 55까지 수로 구성된 array에서 첫 요소와 마지막 요소를 제외하고 \n",
    "#모두 print하는 코드를 작성하시오\n",
    "\n",
    "#%% B20. 10부터 21까지 정수로 구성되는  3x4 array를 만드시오.\n",
    "#%% B21. 5부터 50까지 10개의 요소를 등간격으로 구성하는 array를 만드시오 \n",
    "#%% B22. 0-20까지 값을 가지는 array에서 9부터 15까지의 요소를 음수로 바꾸시오 \n",
    "#%% B23. 임의의 수로 이루어진 3x4 array를 생성하시오 \n",
    "#%% B23.(random.randint()) 0~100 중 임의의 integer 12개로 이루어진 3x4 array를 생성하시오 \n",
    "\n",
    "#%% B28. 10x10 array를 만들어 가운데는 zero 가장자리는 1로 채우시오 \n",
    "\n",
    "x = np.array([-1, -4, 0, 2, 3, 4, 5, -6])\n",
    "#%% A88. 6x6 random array를 만들어 .5보다 큰 요소는 값을 0.5로 바꾸시오."
   ]
  },
  {
   "cell_type": "code",
   "execution_count": 16,
   "metadata": {},
   "outputs": [
    {
     "name": "stdout",
     "output_type": "stream",
     "text": [
      "[30 32 34 36 38 40 42 44 46 48 50 52 54 56 58 60 62 64 66 68 70]\n"
     ]
    }
   ],
   "source": [
    "#%% numpy exercises 풀이\n",
    "\n",
    "#B15. 30부터 70까지 짝수로 이루어진 array를 만드시오 \n",
    "\n",
    "\n",
    "import numpy as np\n",
    "\n",
    "array=np.arange(30,71,2)\n",
    "\n",
    "print(array) "
   ]
  },
  {
   "cell_type": "code",
   "execution_count": 17,
   "metadata": {},
   "outputs": [
    {
     "name": "stdout",
     "output_type": "stream",
     "text": [
      "[0. 0. 0. 0. 0. 0. 0. 0. 0. 0.]\n",
      "[1. 1. 1. 1. 1. 1. 1. 1. 1. 1.]\n",
      "[5. 5. 5. 5. 5. 5. 5. 5. 5. 5.]\n"
     ]
    }
   ],
   "source": [
    "#%% B13 10개의 zero, 10개의 one, 10개의 5로 만들어진 array를 각각 만드시오\n",
    "\n",
    "\n",
    "import numpy as np\n",
    "array=np.zeros(10)\n",
    "\n",
    "print(array)\n",
    "array=np.ones(10)\n",
    "\n",
    "print(array)\n",
    "array=np.ones(10)*5\n",
    "\n",
    "print(array)"
   ]
  },
  {
   "cell_type": "code",
   "execution_count": 31,
   "metadata": {},
   "outputs": [
    {
     "name": "stdout",
     "output_type": "stream",
     "text": [
      "[15 16 17 18 19 20 21 22 23 24 25 26 27 28 29 30 31 32 33 34 35 36 37 38\n",
      " 39 40 41 42 43 44 45 46 47 48 49 50 51 52 53 54 55]\n",
      "[16 17 18 19 20 21 22 23 24 25 26 27 28 29 30 31 32 33 34 35 36 37 38 39\n",
      " 40 41 42 43 44 45 46 47 48 49 50 51 52 53 54]\n"
     ]
    }
   ],
   "source": [
    "#%% B19. 15부터 55까지 수로 구성된 array에서 첫 요소와 마지막 요소를 제외하고 모두 print하는 코드를 작성하시오\n",
    "\n",
    "\n",
    "import numpy as np\n",
    "v = np.arange(15,56)\n",
    "\n",
    "print(v)\n",
    "print(v[1:-1])"
   ]
  },
  {
   "cell_type": "code",
   "execution_count": 1,
   "metadata": {},
   "outputs": [
    {
     "name": "stdout",
     "output_type": "stream",
     "text": [
      "[[10 11 12 13]\n",
      " [14 15 16 17]\n",
      " [18 19 20 21]]\n"
     ]
    }
   ],
   "source": [
    "#%% B20. 10부터 21까지 정수로 구성되는 3x4 array를 만드시오.\n",
    "\n",
    "import numpy as np\n",
    "a = np.arange(10,22).reshape(3, 4)\n",
    "\n",
    "print(a)"
   ]
  },
  {
   "cell_type": "code",
   "execution_count": 19,
   "metadata": {},
   "outputs": [
    {
     "name": "stdout",
     "output_type": "stream",
     "text": [
      "Length 10 with values evenly distributed between 5 and 50:\n",
      "[ 5. 10. 15. 20. 25. 30. 35. 40. 45. 50.]\n"
     ]
    }
   ],
   "source": [
    "# 주의!\n",
    "# linspace에서 끝의 숫자는 포함!\n",
    "\n",
    "#%% B21. 5부터 50까지 10개의 요소를 등간격으로 구성하는 array를 만드시오 \n",
    "\n",
    "import numpy as np\n",
    "v = np.linspace(5, 50, 10)\n",
    "\n",
    "print(v)"
   ]
  },
  {
   "cell_type": "code",
   "execution_count": 5,
   "metadata": {},
   "outputs": [
    {
     "name": "stdout",
     "output_type": "stream",
     "text": [
      "[ 0  1  2  3  4  5  6  7  8  9 10 11 12 13 14 15 16 17 18 19 20]\n",
      "[  0   1   2   3   4   5   6   7   8  -9 -10 -11 -12 -13 -14 -15  16  17\n",
      "  18  19  20]\n"
     ]
    }
   ],
   "source": [
    "# 주의!\n",
    "# 여기서 and 연산은 &를 쓴다!\n",
    "\n",
    "#%% B22. 0-20까지 값을 가지는 array에서 9부터 15까지의 요소를 음수로 바꾸시오 \n",
    "\n",
    "import numpy as np\n",
    "x = np.arange(21)\n",
    "print(x)\n",
    "\n",
    "x[(x >= 9) & (x <= 15)] *= -1\n",
    "print(x)"
   ]
  },
  {
   "cell_type": "code",
   "execution_count": 21,
   "metadata": {},
   "outputs": [
    {
     "name": "stdout",
     "output_type": "stream",
     "text": [
      "[[0.32949038 0.5353296  0.28780277 0.82979883]\n",
      " [0.97422433 0.99404535 0.7802223  0.93225603]\n",
      " [0.23372015 0.79204424 0.66274142 0.02555193]]\n"
     ]
    }
   ],
   "source": [
    "#%% B23. 임의의 수로 이루어진 3x4 array를 생성하시오 \n",
    "\n",
    "import numpy as np\n",
    "x = np.random.random((3, 4))\n",
    "\n",
    "print(x)"
   ]
  },
  {
   "cell_type": "code",
   "execution_count": 35,
   "metadata": {},
   "outputs": [
    {
     "name": "stdout",
     "output_type": "stream",
     "text": [
      "[[39 71 71 54]\n",
      " [17 58 88 21]\n",
      " [33 52 22 31]]\n"
     ]
    }
   ],
   "source": [
    "#%% B23.(randint()) 0~100 중 임의의 integer 12개로 이루어진 3x4 array를 생성하시오 \n",
    "\n",
    "import numpy as np\n",
    "x = np.random.randint(0,101,12).reshape(3,4)\n",
    "print(x)"
   ]
  },
  {
   "cell_type": "code",
   "execution_count": 9,
   "metadata": {},
   "outputs": [
    {
     "name": "stdout",
     "output_type": "stream",
     "text": [
      "[[1. 1. 1. 1. 1. 1. 1. 1. 1. 1.]\n",
      " [1. 0. 0. 0. 0. 0. 0. 0. 0. 1.]\n",
      " [1. 0. 0. 0. 0. 0. 0. 0. 0. 1.]\n",
      " [1. 0. 0. 0. 0. 0. 0. 0. 0. 1.]\n",
      " [1. 0. 0. 0. 0. 0. 0. 0. 0. 1.]\n",
      " [1. 0. 0. 0. 0. 0. 0. 0. 0. 1.]\n",
      " [1. 0. 0. 0. 0. 0. 0. 0. 0. 1.]\n",
      " [1. 0. 0. 0. 0. 0. 0. 0. 0. 1.]\n",
      " [1. 0. 0. 0. 0. 0. 0. 0. 0. 1.]\n",
      " [1. 1. 1. 1. 1. 1. 1. 1. 1. 1.]]\n"
     ]
    }
   ],
   "source": [
    "#%% B28. 10x10 array를 만들어 가운데는 zero 가장자리는 1로 채우시오 \n",
    "\n",
    "\n",
    "import numpy as np\n",
    "x = np.ones((10, 10))\n",
    "x[1:-1, 1:-1] = 0\n",
    "print(x)"
   ]
  },
  {
   "cell_type": "code",
   "execution_count": 32,
   "metadata": {},
   "outputs": [
    {
     "name": "stdout",
     "output_type": "stream",
     "text": [
      "[-1 -4  0  2  3  4  5 -6]\n",
      "[0 0 0 2 3 4 5 0]\n"
     ]
    }
   ],
   "source": [
    "#%% A90. 주어진 array에서 음수를 zero로 바꾸시오 \n",
    "x = np.array([-1, -4, 0, 2, 3, 4, 5, -6])\n",
    "\n",
    "\n",
    "import numpy as np\n",
    "\n",
    "x = np.array([-1, -4, 0, 2, 3, 4, 5, -6])\n",
    "print(x)\n",
    "\n",
    "x[x < 0] = 0\n",
    "print(x)"
   ]
  },
  {
   "cell_type": "code",
   "execution_count": 26,
   "metadata": {},
   "outputs": [
    {
     "name": "stdout",
     "output_type": "stream",
     "text": [
      "[[0.78579793 0.46029645 0.59393578 0.20278142 0.29556585 0.273011  ]\n",
      " [0.34457987 0.00652887 0.94219227 0.6138157  0.80959475 0.61987169]\n",
      " [0.59341587 0.45433009 0.18549407 0.93062929 0.62137515 0.29578351]\n",
      " [0.16387992 0.10689663 0.51932936 0.71997562 0.78156524 0.54125658]\n",
      " [0.49071312 0.37578234 0.88160174 0.57866276 0.6647567  0.90813406]\n",
      " [0.02957069 0.26185097 0.18247536 0.24986715 0.92184308 0.66343057]]\n",
      "[[0.5        0.46029645 0.5        0.20278142 0.29556585 0.273011  ]\n",
      " [0.34457987 0.00652887 0.5        0.5        0.5        0.5       ]\n",
      " [0.5        0.45433009 0.18549407 0.5        0.5        0.29578351]\n",
      " [0.16387992 0.10689663 0.5        0.5        0.5        0.5       ]\n",
      " [0.49071312 0.37578234 0.5        0.5        0.5        0.5       ]\n",
      " [0.02957069 0.26185097 0.18247536 0.24986715 0.5        0.5       ]]\n"
     ]
    }
   ],
   "source": [
    "#%% A88. 6x6 random array를 만들어 .5보다 큰 요소는 값을 0.5로 바꾸시오 \n",
    "\n",
    "import numpy as np\n",
    "y = np.random.random((6,6))\n",
    "\n",
    "print(y)\n",
    "\n",
    "y[y > .5] = .5\n",
    "print(y)"
   ]
  },
  {
   "cell_type": "code",
   "execution_count": null,
   "metadata": {},
   "outputs": [],
   "source": []
  },
  {
   "cell_type": "code",
   "execution_count": null,
   "metadata": {},
   "outputs": [],
   "source": []
  }
 ],
 "metadata": {
  "kernelspec": {
   "display_name": "Python 3 (ipykernel)",
   "language": "python",
   "name": "python3"
  },
  "language_info": {
   "codemirror_mode": {
    "name": "ipython",
    "version": 3
   },
   "file_extension": ".py",
   "mimetype": "text/x-python",
   "name": "python",
   "nbconvert_exporter": "python",
   "pygments_lexer": "ipython3",
   "version": "3.9.12"
  }
 },
 "nbformat": 4,
 "nbformat_minor": 4
}
