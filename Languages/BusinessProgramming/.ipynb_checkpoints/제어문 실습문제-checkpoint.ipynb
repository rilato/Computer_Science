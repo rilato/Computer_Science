{
 "cells": [
  {
   "cell_type": "markdown",
   "metadata": {},
   "source": [
    "[실습문제 (제어문)]\n",
    "\n",
    "다음과 같이 room과 해당 면적 area 변수를 정의하여 43~48 번을 연결하는 코드를 완성하시오. \n",
    "들여쓰기(indentation, tab=^^^^)을 지켜 에러가 나지 않도록 하시오."
   ]
  },
  {
   "cell_type": "markdown",
   "metadata": {},
   "source": [
    "(43~45번 코드는 반드시 문제의 순서와 같지 않을 수 있음.)\n",
    "\n",
    "#문제 43.\troom 이 “kit” 이라면 “Looking around in the kitchen.”을 print하는 코드를 작성하시오.\n",
    "\n",
    "#문제 44.\troom 이 “kit”이 아니라면 \"looking around elsewhere.\"을 print 하는 코드를 작성하시오.\n",
    "\n",
    "#문제 45.\troom 이 “bed”라면 \"looking around in the bedroom.\"를 print 하는 elif문을 작성하여 추가하시오. "
   ]
  },
  {
   "cell_type": "code",
   "execution_count": 2,
   "metadata": {},
   "outputs": [
    {
     "name": "stdout",
     "output_type": "stream",
     "text": [
      "bed\n",
      "looking around elsewhere.\n"
     ]
    }
   ],
   "source": [
    "# 반드시 제어문 실습문제 풀이와 함께 볼 것!!\n",
    "# 내 풀이가 틀렸을 수도 있음!\n",
    "\n",
    "# 43 ~ 45 순서대로 코드를 작성하는게 아니라,\n",
    "# 내가 판단해서 순서를 정한 후 코딩을 한다!!!\n",
    "# 43 -> 45 -> 44\n",
    "\n",
    "# 모든 경우에 있어서,\n",
    "# if를 써야할지, elif를 써야할지, else를 써야할지 잘 구분할 것!!\n",
    "# 시험에서 인덴팅 반드시 할 것!\n",
    "\n",
    "room = input()\n",
    "\n",
    "if room == \"kit\":\n",
    "    print(\"Looking around in the kitchen.\")\n",
    "# room이 kit이 \"아니라면\" 이므로, elif 넣기\n",
    "elif room == \"bed\":\n",
    "    print(\"looking around in the bedroom.\")\n",
    "else:\n",
    "    print(\"looking around elsewhere.\")"
   ]
  },
  {
   "cell_type": "markdown",
   "metadata": {},
   "source": [
    "(46~48번 코드는 반드시 문제의 순서와 같지 않을 수 있음.)\n",
    "\n",
    "#문제 46.\tarea 가 15보다 크면 “big place!”를 print하는 코드를 작성하시오.\n",
    "\n",
    "#문제 47.\tarea 가 15보다 크지 않으면  “pretty small.”을 print 하는 코드를 작성하시오. \n",
    "\n",
    "#문제 48.\tarea가 10보다 크면 “medium size, nice!\" 를 print하는 elif 문 코드를 추가로 작성하시오. "
   ]
  },
  {
   "cell_type": "code",
   "execution_count": 5,
   "metadata": {},
   "outputs": [
    {
     "name": "stdout",
     "output_type": "stream",
     "text": [
      "12\n",
      "medium size, nice!\n",
      "pretty small.\n"
     ]
    }
   ],
   "source": [
    "area = int(input())\n",
    "\n",
    "if area > 15:\n",
    "    print(\"big place!\")\n",
    "elif area > 10:\n",
    "    print(\"medium size, nice!\")\n",
    "else:\n",
    "    print(\"pretty small.\")\n"
   ]
  },
  {
   "cell_type": "code",
   "execution_count": 6,
   "metadata": {},
   "outputs": [
    {
     "name": "stdout",
     "output_type": "stream",
     "text": [
      "looking around elsewhere.\n",
      "pretty small.\n"
     ]
    }
   ],
   "source": [
    "#문제 49. 다음의 값으로 43-48에 해당하는 코드를 실행하여 그 결과를 나타내시오. \n",
    "room = \"bed\"\n",
    "area = 12.0\n",
    "\n",
    "if room == \"kit\":\n",
    "    print(\"Looking around in the kitchen.\")\n",
    "if room != \"kit\":\n",
    "    print(\"looking around elsewhere.\")\n",
    "elif room == \"bed\":\n",
    "    print(\"looking around in the bedroom.\")\n",
    "    \n",
    "if area > 15:\n",
    "    print(\"big place!\")\n",
    "if area <= 15:\n",
    "    print(\"pretty small.\")\n",
    "elif area > 10:\n",
    "    print(\"medium size, nice!\")"
   ]
  },
  {
   "cell_type": "markdown",
   "metadata": {},
   "source": [
    "문제 50.\t아래와 같이 정의된 house를 사용하여 “ the x(room) is y(area) sqm” 을 출력하는 for loop 문을 작성하시오. \n",
    "\n",
    "house는 코드 내에 주어진 값이므로 변경하지 말고 이후 코드를 작성하시오. \n",
    "\n",
    "[출력결과] \n",
    "\n",
    "the hallway is 11.25 sqm\n",
    "\n",
    "the kitchen is 18.0 sqm\n",
    "\n",
    "        .\n",
    "        .\n",
    "        .\n",
    "        \n",
    "the bathroom is 9.50 sqm"
   ]
  },
  {
   "cell_type": "code",
   "execution_count": 17,
   "metadata": {},
   "outputs": [
    {
     "name": "stdout",
     "output_type": "stream",
     "text": [
      "the hallway is 11.25 sqm \n",
      "\n",
      "the kitchen is 18.0 sqm \n",
      "\n",
      "the living room is 20.0 sqm \n",
      "\n",
      "the bedroom is 10.75 sqm \n",
      "\n",
      "the bathroom is 9.5 sqm \n",
      "\n"
     ]
    }
   ],
   "source": [
    "house = [[\"hallway\", 11.25], \n",
    "         [\"kitchen\", 18.0], \n",
    "         [\"living room\", 20.0], \n",
    "         [\"bedroom\", 10.75], \n",
    "         [\"bathroom\", 9.50]]\n",
    "\n",
    "check = True\n",
    "\n",
    "for i in house:\n",
    "    for j in i:\n",
    "        if check == True:\n",
    "            print(f'the {j} is', end = \" \")\n",
    "            check = False;\n",
    "        else:\n",
    "            print(f'{j} sqm', end = \" \")\n",
    "            check = True;\n",
    "    print('\\n')"
   ]
  },
  {
   "cell_type": "code",
   "execution_count": null,
   "metadata": {},
   "outputs": [],
   "source": []
  },
  {
   "cell_type": "markdown",
   "metadata": {},
   "source": [
    "문제 51) for loop을 이용하여 list[3,2,1,0] 의 값을 순서대로 print하는 코드를 작성하시오.\n",
    "\n",
    "[출력결과]\n",
    "\n",
    "3\n",
    "\n",
    "2\n",
    "\n",
    "1\n",
    "\n",
    "0"
   ]
  },
  {
   "cell_type": "code",
   "execution_count": 24,
   "metadata": {},
   "outputs": [
    {
     "name": "stdout",
     "output_type": "stream",
     "text": [
      "3\n",
      "2\n",
      "1\n",
      "0\n"
     ]
    }
   ],
   "source": [
    "myList = [3,2,1,0]\n",
    "\n",
    "for i in myList:\n",
    "    print(i)"
   ]
  },
  {
   "cell_type": "markdown",
   "metadata": {},
   "source": [
    "문제 52) input()함수로 점수를 받아 학점을 부여하는 코드를 작성하시오. \n",
    "\n",
    "90점 이상은 A, 80점 이상은 B, 70점 이상은 C, 60점 이상은 D, 나머지는 F.\n",
    "    "
   ]
  },
  {
   "cell_type": "code",
   "execution_count": 26,
   "metadata": {},
   "outputs": [
    {
     "name": "stdout",
     "output_type": "stream",
     "text": [
      "50\n",
      "F\n"
     ]
    }
   ],
   "source": [
    "grade = int(input())\n",
    "\n",
    "if(grade >= 90):\n",
    "    print('A')\n",
    "elif(grade >= 80):\n",
    "    print('B')\n",
    "elif(grade >= 70):\n",
    "    print('C')\n",
    "elif(grade >= 60):\n",
    "    print('D')\n",
    "else:\n",
    "    print('F')"
   ]
  },
  {
   "cell_type": "code",
   "execution_count": null,
   "metadata": {},
   "outputs": [],
   "source": [
    "#문제 53) 다음과 같이 출력되도록 하는 파이썬 코드를 작성하시오.\n",
    "\n",
    "-- 1 ---\n",
    "1 * 1 = 1\n",
    "1 * 2 = 2\n",
    "1 * 3 = 3\n",
    "1 * 4 = 4\n",
    "1 * 5 = 5\n",
    "1 * 6 = 6\n",
    "1 * 7 = 7\n",
    "1 * 8 = 8\n",
    "1 * 9 = 9\n",
    "-- 2 ---\n",
    "2 * 1 = 2\n",
    "2 * 2 = 4\n",
    "2 * 3 = 6\n",
    "2 * 4 = 8\n",
    "2 * 5 = 10\n",
    "2 * 6 = 12\n",
    "2 * 7 = 14\n",
    "2 * 8 = 16\n",
    "2 * 9 = 18\n"
   ]
  },
  {
   "cell_type": "code",
   "execution_count": 28,
   "metadata": {},
   "outputs": [
    {
     "name": "stdout",
     "output_type": "stream",
     "text": [
      "-- 1 ---\n",
      "1 * 1 = 1\n",
      "1 * 2 = 2\n",
      "1 * 3 = 3\n",
      "1 * 4 = 4\n",
      "1 * 5 = 5\n",
      "1 * 6 = 6\n",
      "1 * 7 = 7\n",
      "1 * 8 = 8\n",
      "1 * 9 = 9\n",
      "-- 2 ---\n",
      "2 * 1 = 2\n",
      "2 * 2 = 4\n",
      "2 * 3 = 6\n",
      "2 * 4 = 8\n",
      "2 * 5 = 10\n",
      "2 * 6 = 12\n",
      "2 * 7 = 14\n",
      "2 * 8 = 16\n",
      "2 * 9 = 18\n"
     ]
    }
   ],
   "source": [
    "print(\"-- 1 ---\")\n",
    "\n",
    "for i in range(1,10):\n",
    "    print(f'1 * {i} = {i}')\n",
    "\n",
    "print(\"-- 2 ---\")\n",
    "\n",
    "for i in range(1, 10):\n",
    "    print(f'2 * {i} = {2 * i}')"
   ]
  },
  {
   "cell_type": "code",
   "execution_count": null,
   "metadata": {},
   "outputs": [],
   "source": []
  }
 ],
 "metadata": {
  "kernelspec": {
   "display_name": "Python 3 (ipykernel)",
   "language": "python",
   "name": "python3"
  },
  "language_info": {
   "codemirror_mode": {
    "name": "ipython",
    "version": 3
   },
   "file_extension": ".py",
   "mimetype": "text/x-python",
   "name": "python",
   "nbconvert_exporter": "python",
   "pygments_lexer": "ipython3",
   "version": "3.9.12"
  }
 },
 "nbformat": 4,
 "nbformat_minor": 4
}
