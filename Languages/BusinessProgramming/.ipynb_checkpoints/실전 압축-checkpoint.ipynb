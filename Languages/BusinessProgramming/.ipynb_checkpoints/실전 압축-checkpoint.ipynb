{
 "cells": [
  {
   "cell_type": "code",
   "execution_count": 18,
   "id": "d9a3ec02",
   "metadata": {},
   "outputs": [],
   "source": [
    "# 종합 실습문제 기말 정독!\n",
    "\n",
    "# range(10)이면 마지막 10은 포함 X !! [a:b]의 슬라이싱 또한 b는 포함 X !!\n",
    "\n",
    "# def(함수)에서 반드시 return 여부 확인!!\n",
    "\n",
    "# if else while for class의 마지막에 : 잘 쓰기\n",
    "\n",
    "# else if 아니고 elif임!!!\n",
    "\n",
    "# && , || 아니고 and , or 사용!!\n",
    "\n",
    "# (46~48번 코드는 반드시 문제의 순서와 같지 않을 수 있음.) => if, elif, else 순서 내가 판단!\n",
    "\n",
    "# while문에서는 i를 올려주는 애를 따로 설정해야 함!!\n",
    "# i += 1 꼭 쓰기!!\n",
    "# while counter <i: 이면 counter < i인 동안 while문 수행! counter == i 이면 탈출!\n",
    "\n",
    "# indenting 잘 하기\n",
    "\n",
    "# a++ 안먹으니 a += 1 사용!\n",
    "\n",
    "# input에서 int안쓰면 string으로 인식!! 3 + 6 = 36 처리\n",
    "# 아니면 input으로 받을 때 아예 int(input())으로 받기\n",
    "\n",
    "# print문에서 , 가 있는 경우만 띄어쓰기 처리 print('you','need','python') => you need python\n",
    "\n",
    "# f.read()는 문자열 형태로 반환\n",
    "# f.readlines()는 각 줄마다 리스트의 원소로 적용, 리스트 형태로 반환\n",
    "\n",
    "# read한 값은 반드시 print를 해줘야 보인다!! print(f2.read())\n",
    "\n",
    "# 파일 열었으면 반드시 f.close()!\n",
    "\n",
    "# 읽어온 파일 다시 쓸 때 반드시 strip()으로 공백 제거 해줄 것!\n",
    "# 또한, write 시, \\n으로 개행을 추가할 것!\n",
    "\n",
    "# replace 함수를 쓰려면, 문자열 형태로 받아와야 하므로, read()\n",
    "\n",
    "# 읽어온 파일의 내용은 str이므로, 숫자 계산시 반드시 int로 변환!!\n",
    "\n",
    "# numpy에서 등간격 linspace는 맨 끝 숫자 포함!\n",
    "\n",
    "# 넘파이는 바로 인덱싱하여 거르기 가능 y[y > .5] = .5"
   ]
  },
  {
   "cell_type": "code",
   "execution_count": 53,
   "id": "6b64b1c8",
   "metadata": {},
   "outputs": [
    {
     "name": "stdout",
     "output_type": "stream",
     "text": [
      "                        PYTHON\n"
     ]
    }
   ],
   "source": [
    "# 문자열 앞에 공백 24개를 추가하시오\n",
    "\n",
    "str2 = \"PYTHON\"\n",
    "print(\"%30s\" %str2)"
   ]
  },
  {
   "cell_type": "code",
   "execution_count": 2,
   "id": "9912db12",
   "metadata": {},
   "outputs": [
    {
     "name": "stdout",
     "output_type": "stream",
     "text": [
      "881120\n",
      "1068234\n"
     ]
    }
   ],
   "source": [
    "# 인덱싱 숫자 주의! ( 맨 뒤는 포함 안함 )\n",
    "\n",
    "# 홍길동 씨의 주민번호는 881120-1068234\n",
    "# 홍길동씨의 주민등록번호를 (YYMMDD) 부분과 그 뒤의 숫자 부분으로 나누어 출력\n",
    "\n",
    "number = \"881120-1068234\"\n",
    "print(number[:6])\n",
    "print(number[7:])"
   ]
  },
  {
   "cell_type": "code",
   "execution_count": 3,
   "id": "c5fc71c0",
   "metadata": {},
   "outputs": [
    {
     "data": {
      "text/plain": [
       "'Life is too short'"
      ]
     },
     "execution_count": 3,
     "metadata": {},
     "output_type": "execute_result"
    }
   ],
   "source": [
    "#문제2 \n",
    "a = ['Life','is','too','short']\n",
    "' '.join(a)"
   ]
  },
  {
   "cell_type": "code",
   "execution_count": 4,
   "id": "3981b4ea",
   "metadata": {},
   "outputs": [
    {
     "data": {
      "text/plain": [
       "(1, 2, 3, 4)"
      ]
     },
     "execution_count": 4,
     "metadata": {},
     "output_type": "execute_result"
    }
   ],
   "source": [
    "# 단일 튜플시 주의!\n",
    "\n",
    "#문제3\n",
    "t = (1,2,3)\n",
    "# t=t+(4)     #에러 \n",
    "t=t+(4,)\n",
    "t"
   ]
  },
  {
   "cell_type": "code",
   "execution_count": 6,
   "id": "4203c94d",
   "metadata": {},
   "outputs": [
    {
     "data": {
      "text/plain": [
       "{'A': 90, 'B': 80}"
      ]
     },
     "execution_count": 6,
     "metadata": {},
     "output_type": "execute_result"
    }
   ],
   "source": [
    "# 찾는 키가 없으면 특정 값 출력\n",
    "\n",
    "#4\n",
    "a = {'A':90, 'B':80}\n",
    "a.get('C', 70)"
   ]
  },
  {
   "cell_type": "code",
   "execution_count": 7,
   "id": "78e0185b",
   "metadata": {},
   "outputs": [
    {
     "name": "stdout",
     "output_type": "stream",
     "text": [
      "70\n",
      "70\n"
     ]
    }
   ],
   "source": [
    "# for문 안돌리고 최소값 찾으려면 values()로 가져온다!\n",
    "\n",
    "#5\n",
    "a = {'A':90, 'B':80, 'C':70}\n",
    "b = a.values()\n",
    "print(min(a.values()))\n",
    "print(min(b))"
   ]
  },
  {
   "cell_type": "code",
   "execution_count": 8,
   "id": "d2329205",
   "metadata": {},
   "outputs": [
    {
     "data": {
      "text/plain": [
       "[('A', 90), ('B', 80), ('C', 70)]"
      ]
     },
     "execution_count": 8,
     "metadata": {},
     "output_type": "execute_result"
    }
   ],
   "source": [
    "# 리스트로 변환하려면 일단 items()로 가져온다!\n",
    "\n",
    "#6\n",
    "a= {'A':90, 'B':80, 'C':70}\n",
    "c = a.items()\n",
    "d = list(c)\n",
    "d"
   ]
  },
  {
   "cell_type": "code",
   "execution_count": 9,
   "id": "dea00d22",
   "metadata": {},
   "outputs": [
    {
     "data": {
      "text/plain": [
       "set()"
      ]
     },
     "execution_count": 9,
     "metadata": {},
     "output_type": "execute_result"
    }
   ],
   "source": [
    "# 세트형 만들기 ()붙이기!\n",
    "\n",
    "a = set()\n",
    "type(a)\n",
    "a"
   ]
  },
  {
   "cell_type": "code",
   "execution_count": 10,
   "id": "7c992a12",
   "metadata": {},
   "outputs": [
    {
     "name": "stdout",
     "output_type": "stream",
     "text": [
      "{'e', 'b', 'c', 'a', 'f', 'd'}\n"
     ]
    }
   ],
   "source": [
    "# 세트형 이어붙이려면 update!\n",
    "\n",
    "#%%연습문제 5.\n",
    "a = {'a', 'b', 'c'}\n",
    "b = {'d', 'e', 'f'}\n",
    "\n",
    "a.update(b)\n",
    "print(a)"
   ]
  },
  {
   "cell_type": "code",
   "execution_count": 11,
   "id": "59917cbf",
   "metadata": {},
   "outputs": [
    {
     "data": {
      "text/plain": [
       "True"
      ]
     },
     "execution_count": 11,
     "metadata": {},
     "output_type": "execute_result"
    }
   ],
   "source": [
    "# not in과 in 주의!!\n",
    "\n",
    "'a' not in [1, 2, 3]"
   ]
  },
  {
   "cell_type": "code",
   "execution_count": 12,
   "id": "1852e628",
   "metadata": {},
   "outputs": [
    {
     "name": "stdout",
     "output_type": "stream",
     "text": [
      "01011112222\n"
     ]
    }
   ],
   "source": [
    "# 문제는 '제거'지만, replace로도 제거 가능!\n",
    "\n",
    "#%% 26\n",
    "phone_number = \"010-1111-2222\"\n",
    "\n",
    "#26-1\n",
    "nohyphen=phone_number.replace(\"-\",\"\")\n",
    "print(nohyphen)"
   ]
  },
  {
   "cell_type": "code",
   "execution_count": 13,
   "id": "d8dbed63",
   "metadata": {},
   "outputs": [
    {
     "name": "stdout",
     "output_type": "stream",
     "text": [
      "['닥터 스트레인지', '슈퍼맨', '스플릿', '럭키', '배트맨']\n"
     ]
    }
   ],
   "source": [
    "# 리스트의 특정 위치에 값 추가하려면 insert!\n",
    "\n",
    "#%% 43\n",
    "movie_rank = ['닥터 스트레인지', '스플릿', '럭키', '배트맨']\n",
    "movie_rank.insert(1,'슈퍼맨')\n",
    "print(movie_rank)"
   ]
  },
  {
   "cell_type": "code",
   "execution_count": 14,
   "id": "654ff27e",
   "metadata": {},
   "outputs": [
    {
     "name": "stdout",
     "output_type": "stream",
     "text": [
      "4.0\n"
     ]
    }
   ],
   "source": [
    "# for문 안돌리고 sum 가져올 수 있다. (dict의 values나 list 내용들)\n",
    "\n",
    "#%% 50\n",
    "nums = [1, 2, 3, 4, 5, 6, 7]\n",
    "\n",
    "print(sum(nums)/len(nums))"
   ]
  },
  {
   "cell_type": "code",
   "execution_count": 15,
   "id": "1f71115e",
   "metadata": {},
   "outputs": [
    {
     "name": "stdout",
     "output_type": "stream",
     "text": [
      "삼성전자 LG전자 Naver SK하이닉스 미래에셋대우\n"
     ]
    }
   ],
   "source": [
    "# 리스트의 내용 띄어쓰기로 합치기 => join!!\n",
    "\n",
    "interest = ['삼성전자', 'LG전자', 'Naver', 'SK하이닉스', '미래에셋대우']\n",
    "' '.join(interest)\n",
    "print(' '.join(interest))"
   ]
  },
  {
   "cell_type": "code",
   "execution_count": 17,
   "id": "4cea8dfe",
   "metadata": {},
   "outputs": [
    {
     "name": "stdout",
     "output_type": "stream",
     "text": [
      "['삼성전자', 'LG전자', 'Naver']\n"
     ]
    }
   ],
   "source": [
    "# 특정 문자 기준으로 쪼개기 => split!!\n",
    "\n",
    "#%% 59\n",
    "string = \"삼성전자/LG전자/Naver\"\n",
    "interest = string.split('/')\n",
    "\n",
    "print(interest)"
   ]
  },
  {
   "cell_type": "code",
   "execution_count": 16,
   "id": "7f4357d7",
   "metadata": {},
   "outputs": [
    {
     "name": "stdout",
     "output_type": "stream",
     "text": [
      "{'탱크보이': 1200, '폴라포': 1200, '빵빠레': 1800, '월드콘': 1500, '메로나': 1000, '팥빙수': 2700, '아맛나': 1000}\n"
     ]
    }
   ],
   "source": [
    "# 딕셔너리도 합치려면 update\n",
    "\n",
    "#%% 88 \n",
    "icecream = {'탱크보이': 1200, '폴라포': 1200, '빵빠레': 1800, '월드콘': 1500, '메로나': 1000}\n",
    "new_product = {'팥빙수':2700, '아맛나':1000}\n",
    "icecream.update(new_product)\n",
    "print(icecream)"
   ]
  },
  {
   "cell_type": "code",
   "execution_count": 19,
   "id": "b7994320",
   "metadata": {},
   "outputs": [
    {
     "name": "stdout",
     "output_type": "stream",
     "text": [
      "10\n",
      "481\n"
     ]
    }
   ],
   "source": [
    "# while은 indexing으로 접근, for는 직접 값으로 접근!\n",
    "\n",
    "#%% ex3.\n",
    "A=[20, 55, 67, 82, 45, 33, 90, 87, 100, 25]\n",
    "i = len(A)\n",
    "print(i)\n",
    "\n",
    "counter = 0\n",
    "fifty = 0\n",
    "\n",
    "while counter <i:\n",
    "    if A[counter]>=50:\n",
    "        fifty += A[counter]\n",
    "    counter+=1\n",
    "print(fifty)"
   ]
  },
  {
   "cell_type": "code",
   "execution_count": 20,
   "id": "7f9c17ad",
   "metadata": {},
   "outputs": [
    {
     "name": "stdout",
     "output_type": "stream",
     "text": [
      "481\n"
     ]
    }
   ],
   "source": [
    "#ex3. for문 이용하기\n",
    "\n",
    "A = [20,55,67,82,45,33,90,87,100,25]\n",
    "fifty_above = 0\n",
    "\n",
    "for a in A:\n",
    "    if a >= 50:\n",
    "        fifty_above += a\n",
    "        \n",
    "print(fifty_above)"
   ]
  },
  {
   "cell_type": "code",
   "execution_count": 21,
   "id": "87c693f7",
   "metadata": {},
   "outputs": [
    {
     "name": "stdout",
     "output_type": "stream",
     "text": [
      "481\n"
     ]
    }
   ],
   "source": [
    "# pop() 사용!\n",
    "\n",
    "#%% ex 3.(pop())\n",
    "A=[20, 55, 67, 82, 45, 33, 90, 87, 100, 25]\n",
    "result=0\n",
    "marker=0\n",
    "\n",
    "while A:\n",
    "    marker=A.pop()\n",
    "    if marker>=50:\n",
    "        result+=marker\n",
    "        \n",
    "print(result)\n",
    "\n",
    "#%%"
   ]
  },
  {
   "cell_type": "code",
   "execution_count": 22,
   "id": "062e69ae",
   "metadata": {},
   "outputs": [
    {
     "name": "stdout",
     "output_type": "stream",
     "text": [
      "1 2 3 4 5 6 7 8 9 10 11 12 13 14 15 16 17 18 19 20 21 22 23 24 25 26 27 28 29 30 31 32 33 34 35 36 37 38 39 40 41 42 43 44 45 46 47 48 49 50 51 52 53 54 55 56 57 58 59 60 61 62 63 64 65 66 67 68 69 70 71 72 73 74 75 76 77 78 79 80 81 82 83 84 85 86 87 88 89 90 91 92 93 94 95 96 97 98 99 100 "
     ]
    }
   ],
   "source": [
    "# range 주의!! / print 형식 확인\n",
    "\n",
    "#1\n",
    "\n",
    "for i in range(1,101):\n",
    "    print(i, end=' ')\n",
    "    "
   ]
  },
  {
   "cell_type": "code",
   "execution_count": 23,
   "id": "1da5bd78",
   "metadata": {},
   "outputs": [
    {
     "name": "stdout",
     "output_type": "stream",
     "text": [
      "{'A': 3, 'B': 3, 'O': 3, 'AB': 3}\n"
     ]
    }
   ],
   "source": [
    "# dict 만들어서 값 넣고 추가!!\n",
    "\n",
    "#문제4 for 문을 이용하여 각 혈액형 별 학생수의 합계를 구하시오.\n",
    "\n",
    "data = ['A', 'B', 'A', 'O', 'AB', 'AB', 'O', 'A', 'B', 'O', 'B', 'AB']\n",
    "result = {}\n",
    "\n",
    "for blood_type in data:\n",
    "    if blood_type in result:\n",
    "        result[blood_type] += 1\n",
    "    # if not blood_type in result: 로도 쓸 수 있음!!\n",
    "    else:\n",
    "        result[blood_type] = 1\n",
    "        \n",
    "print(result)"
   ]
  },
  {
   "cell_type": "code",
   "execution_count": 24,
   "id": "ba1f0d8c",
   "metadata": {},
   "outputs": [
    {
     "name": "stdout",
     "output_type": "stream",
     "text": [
      "the hallway is 11.25 sqm\n",
      "the kitchen is 18.0 sqm\n",
      "the living room is 20.0 sqm\n",
      "the bedroom is 10.75 sqm\n",
      "the bathroom is 9.5 sqm\n"
     ]
    }
   ],
   "source": [
    "# 주의!!\n",
    "\n",
    "house = [[\"hallway\", 11.25], \n",
    "         [\"kitchen\", 18.0], \n",
    "         [\"living room\", 20.0], \n",
    "         [\"bedroom\", 10.75], \n",
    "         [\"bathroom\", 9.50]]\n",
    "\n",
    "for x in house :\n",
    "    # print는 str타입만 concatenate 할 수 있으므로, 꼭 str로 변환한다!!\n",
    "    print(\"the \" + x[0] + \" is \" + str(x[1]) + \" sqm\")"
   ]
  },
  {
   "cell_type": "code",
   "execution_count": 25,
   "id": "4a9dcd7b",
   "metadata": {},
   "outputs": [
    {
     "name": "stdout",
     "output_type": "stream",
     "text": [
      "the hallway is 11.25 sqm\n",
      "the kitchen is 18.00 sqm\n",
      "the living room is 20.00 sqm\n",
      "the bedroom is 10.75 sqm\n",
      "the bathroom is 9.50 sqm\n"
     ]
    }
   ],
   "source": [
    "# 소수점 아래 몇 째 자리까지?\n",
    "\n",
    "for i in house:\n",
    "    print(\"the %s is %0.2f sqm\" % (i[0],i[1]))"
   ]
  },
  {
   "cell_type": "code",
   "execution_count": 55,
   "id": "eb0ea5bb",
   "metadata": {},
   "outputs": [
    {
     "name": "stdout",
     "output_type": "stream",
     "text": [
      "-- 1 ---\n",
      "1 * 1 = 1\n",
      "1 * 2 = 2\n",
      "1 * 3 = 3\n",
      "1 * 4 = 4\n",
      "1 * 5 = 5\n",
      "1 * 6 = 6\n",
      "1 * 7 = 7\n",
      "1 * 8 = 8\n",
      "1 * 9 = 9\n",
      "-- 2 ---\n",
      "2 * 1 = 2\n",
      "2 * 2 = 4\n",
      "2 * 3 = 6\n",
      "2 * 4 = 8\n",
      "2 * 5 = 10\n",
      "2 * 6 = 12\n",
      "2 * 7 = 14\n",
      "2 * 8 = 16\n",
      "2 * 9 = 18\n"
     ]
    }
   ],
   "source": [
    "# 뒤쪽에 break 있으므로, i += 1과 k += 1의 위치 살피기\n",
    "\n",
    "# 53\n",
    "n = 2\n",
    "k = 0\n",
    "\n",
    "for i in range(n):\n",
    "    i += 1\n",
    "    print('-- %d ---' %i)\n",
    "    for k in range(9):\n",
    "        k += 1\n",
    "        #print(f'{i} * {k} = {i * k}')\n",
    "        print('%d * %d = %d' %(i, k, i*k))\n",
    "    \n",
    "    # 여기서 탈출!\n",
    "    if i > 2:\n",
    "        break"
   ]
  },
  {
   "cell_type": "code",
   "execution_count": 29,
   "id": "d6e76866",
   "metadata": {},
   "outputs": [
    {
     "name": "stdout",
     "output_type": "stream",
     "text": [
      "5.0\n"
     ]
    }
   ],
   "source": [
    "# 파라미터로 값이 여러 개 들어오는 경우 *args 사용!\n",
    "\n",
    "#%% 연습문제 2.\n",
    "\n",
    "def avg(*args):\n",
    "    result=0\n",
    "    for arg in args:\n",
    "        result += arg\n",
    "    out = result/len(args)\n",
    "    return out\n",
    "\n",
    "output = avg(1,2,3,4,5,6,7,8,9)\n",
    "print(output)"
   ]
  },
  {
   "cell_type": "code",
   "execution_count": 32,
   "id": "90003370",
   "metadata": {},
   "outputs": [
    {
     "name": "stdout",
     "output_type": "stream",
     "text": [
      "첫번째 숫자를 입력하세요:3\n",
      "두번째 숫자를 입력하세요:6\n",
      "36\n",
      "두 수의 합은 9 입니다\n"
     ]
    }
   ],
   "source": [
    "# input에서 int 따로 안하면 그냥 str로 인식!\n",
    "\n",
    "#연습문제 1.\n",
    "input1 = input(\"첫번째 숫자를 입력하세요:\")\n",
    "input2 = input(\"두번째 숫자를 입력하세요:\")\n",
    "\n",
    "print(input1 + input2)\n",
    "\n",
    "total = int(input1) + int(input2)\n",
    "print(\"두 수의 합은 %i 입니다\" % total)"
   ]
  },
  {
   "cell_type": "code",
   "execution_count": 33,
   "id": "1dfda67a",
   "metadata": {},
   "outputs": [
    {
     "name": "stdout",
     "output_type": "stream",
     "text": [
      "Life is too short\n"
     ]
    }
   ],
   "source": [
    "# read한 값은 반드시 print를 해줘야 보인다!!\n",
    "# 또한, 반드시 f.close()!\n",
    "\n",
    "f2 = open(\"test.txt\", 'r')\n",
    "print(f2.read())\n",
    "f2.close()"
   ]
  },
  {
   "cell_type": "code",
   "execution_count": 42,
   "id": "303fc12d",
   "metadata": {},
   "outputs": [
    {
     "name": "stdout",
     "output_type": "stream",
     "text": [
      "Life is too short, you need python\n"
     ]
    }
   ],
   "source": [
    "# with open 사용법\n",
    "\n",
    "#%% 연습문제 1.-1\n",
    "with open(\"test.txt\",\"w\") as f1:\n",
    "    f1.write(\"Life is too short, you need python\")\n",
    "\n",
    "with open(\"test.txt\", 'r') as f2:\n",
    "    print(f2.read())"
   ]
  },
  {
   "cell_type": "code",
   "execution_count": 35,
   "id": "7338a0b4",
   "metadata": {},
   "outputs": [],
   "source": [
    "# reversed()로 내용 뒤집기!\n",
    "\n",
    "#%% 연습문제 3.\n",
    "f = open('abc.txt', 'r')\n",
    "lines = f.readlines()  # 모든 라인을 리스트 형식으로 읽음\n",
    "f.close()\n",
    "#print(lines)\n",
    "\n",
    "rlines = reversed(lines)  # 읽은 라인을 역순으로 정렬, 리스트가 아닌 list_reverseiterator object\n",
    "\n",
    "# 읽어온 파일 다시 쓸 떄 반드시 strip()으로 공백 제거 해줄 것!\n",
    "# 또한, write 시, \\n으로 개행을 추가할 것!\n",
    "\n",
    "f = open('abc.txt', 'w')\n",
    "for line in rlines:\n",
    "    line = line.strip()  # 포함되어 있는 줄바꿈 문자 제거\n",
    "    f.write(line)\n",
    "    f.write('\\n')  # 줄바꿈 문자 삽입\n",
    "f.close()"
   ]
  },
  {
   "cell_type": "code",
   "execution_count": 36,
   "id": "c874dbba",
   "metadata": {},
   "outputs": [],
   "source": [
    "# replace 함수를 쓰려면, 문자열 형태로 받아와야 하므로, read()\n",
    "\n",
    "#%%연습문제 4\n",
    "f = open('test.txt', 'r')\n",
    "body = f.read()\n",
    "f.close()\n",
    "\n",
    "body = body.replace('java', 'python')\n",
    "\n",
    "# \"바꾸어 저장\"해야하므로, write을 쓴다!!\n",
    "f = open('test.txt', 'w')\n",
    "f.write(body)\n",
    "f.close()"
   ]
  },
  {
   "cell_type": "code",
   "execution_count": 37,
   "id": "2f85987b",
   "metadata": {},
   "outputs": [
    {
     "name": "stdout",
     "output_type": "stream",
     "text": [
      "['70\\n', '60\\n', '55\\n', '75\\n', '95\\n', '90\\n', '80\\n', '80\\n', '85\\n', '100']\n",
      "79.0\n"
     ]
    }
   ],
   "source": [
    "# 주의!\n",
    "# 각 줄마다 점수가 적혀있는데, 이를 읽히기 위해서는 리스트 형태로 가져오는게 편하므로, readlines()\n",
    "\n",
    "#%%연습문제 5\n",
    "\n",
    "f = open(\"sample.txt\", 'r')\n",
    "lines = f.readlines( )  # sample.txt를 줄단위로 모두 읽는다.\n",
    "f.close( )\n",
    "\n",
    "print(lines)\n",
    "\n",
    "total = 0\n",
    "for line in lines:\n",
    "    score = int(line)  # 줄에 적힌 점수를 숫자형으로 변환한다.\n",
    "    total += score\n",
    "average = total / len(lines)\n",
    "print(average)\n",
    "\n",
    "f = open(\"result.txt\", \"w\")\n",
    "# 파일에 적기 위해 다시 문자형태로 변환!!\n",
    "f.write(str(average))\n",
    "f.close()"
   ]
  },
  {
   "cell_type": "code",
   "execution_count": 56,
   "id": "112a1df8",
   "metadata": {},
   "outputs": [
    {
     "name": "stdout",
     "output_type": "stream",
     "text": [
      "[8, 9, 10, 11, 12]\n"
     ]
    }
   ],
   "source": [
    "# append 쓰지 않고 list에 값 추가\n",
    "\n",
    "def myfunc(lst):\n",
    "    \n",
    "    rlst = []\n",
    "    \n",
    "    for i in lst:\n",
    "        if i>7:\n",
    "            rlst = rlst+[i]   \n",
    "        # 이 아래부분은 안적어도 그만\n",
    "        else:\n",
    "            continue\n",
    "            \n",
    "    print(rlst)\n",
    "    \n",
    "myfunc([3,4,5,6,7,8,9,10,11,12])"
   ]
  },
  {
   "cell_type": "code",
   "execution_count": 40,
   "id": "f0961df6",
   "metadata": {},
   "outputs": [],
   "source": [
    "# 모듈 사용 예시\n",
    "# import 모듈명\n",
    "# 모듈명.함수\n",
    "\n",
    "import mod3\n",
    "\n",
    "lst = mod3.num_list()\n",
    "num = mod3.myfunc(lst)\n",
    "\n",
    "print(num)"
   ]
  },
  {
   "cell_type": "code",
   "execution_count": 41,
   "id": "4069cc25",
   "metadata": {},
   "outputs": [
    {
     "name": "stdout",
     "output_type": "stream",
     "text": [
      "구구단을 출력할 숫자를 입력하세요(2~9):5\n",
      "1 2 3 4 5 6 7 8 9 \n",
      "2 4 6 8 10 12 14 16 18 \n",
      "3 6 9 12 15 18 21 24 27 \n",
      "4 8 12 16 20 24 28 32 36 \n"
     ]
    }
   ],
   "source": [
    "# 입력받아 구구단에 바로 때려박기\n",
    "\n",
    "user_input = input(\"구구단을 출력할 숫자를 입력하세요(2~9):\")\n",
    "\n",
    "# int형식으로 변환!\n",
    "for n in range(1, int(user_input)):\n",
    "    # 10은 미포함!!\n",
    "    for i in range(1, 10):\n",
    "        print(i*n, end= ' ') # 한줄로 출력하기 위해 줄바꿈 문자 대신 공백문자를 마지막에 출력한다\n",
    "    print(end = '\\n')   \n",
    "    "
   ]
  },
  {
   "cell_type": "code",
   "execution_count": 43,
   "id": "073f46a4",
   "metadata": {},
   "outputs": [
    {
     "name": "stdout",
     "output_type": "stream",
     "text": [
      "[30 32 34 36 38 40 42 44 46 48 50 52 54 56 58 60 62 64 66 68 70]\n"
     ]
    }
   ],
   "source": [
    "# numpy 기초\n",
    "\n",
    "#B15. 30부터 70까지 짝수로 이루어진 array를 만드시오 \n",
    "\n",
    "import numpy as np\n",
    "array=np.arange(30,71,2)\n",
    "print(array) "
   ]
  },
  {
   "cell_type": "code",
   "execution_count": 44,
   "id": "66dd706b",
   "metadata": {},
   "outputs": [
    {
     "name": "stdout",
     "output_type": "stream",
     "text": [
      "[15 16 17 18 19 20 21 22 23 24 25 26 27 28 29 30 31 32 33 34 35 36 37 38\n",
      " 39 40 41 42 43 44 45 46 47 48 49 50 51 52 53 54 55]\n",
      "[16 17 18 19 20 21 22 23 24 25 26 27 28 29 30 31 32 33 34 35 36 37 38 39\n",
      " 40 41 42 43 44 45 46 47 48 49 50 51 52 53 54]\n"
     ]
    }
   ],
   "source": [
    "#%% B19. 15부터 55까지 수로 구성된 array에서 첫 요소와 마지막 요소를 제외하고 모두 print하는 코드를 작성하시오\n",
    "\n",
    "import numpy as np\n",
    "v = np.arange(15,56)\n",
    "\n",
    "print(v)\n",
    "# 1부터니까 맨 앞 제거되고, -1 전까지니까 맨 뒤 제거됨\n",
    "print(v[1:-1])"
   ]
  },
  {
   "cell_type": "code",
   "execution_count": 45,
   "id": "dcfb4a72",
   "metadata": {},
   "outputs": [
    {
     "name": "stdout",
     "output_type": "stream",
     "text": [
      "[[10 11 12 13]\n",
      " [14 15 16 17]\n",
      " [18 19 20 21]]\n"
     ]
    }
   ],
   "source": [
    "#%% B20. 10부터 21까지 정수로 구성되는 3x4 array를 만드시오.\n",
    "\n",
    "import numpy as np\n",
    "a = np.arange(10,22).reshape(3, 4)\n",
    "\n",
    "print(a)"
   ]
  },
  {
   "cell_type": "code",
   "execution_count": 46,
   "id": "42cf5bbe",
   "metadata": {},
   "outputs": [
    {
     "name": "stdout",
     "output_type": "stream",
     "text": [
      "[ 5. 10. 15. 20. 25. 30. 35. 40. 45. 50.]\n"
     ]
    }
   ],
   "source": [
    "# 주의!\n",
    "# linspace에서 끝의 숫자는 포함!\n",
    "\n",
    "#%% B21. 5부터 50까지 10개의 요소를 등간격으로 구성하는 array를 만드시오 \n",
    "\n",
    "import numpy as np\n",
    "v = np.linspace(5, 50, 10)\n",
    "\n",
    "print(v)"
   ]
  },
  {
   "cell_type": "code",
   "execution_count": 47,
   "id": "407c92e5",
   "metadata": {},
   "outputs": [
    {
     "name": "stdout",
     "output_type": "stream",
     "text": [
      "[[0.87240914 0.29507042 0.72180544 0.2696278  0.01060485 0.80726312]\n",
      " [0.80522384 0.38813768 0.28773945 0.49743063 0.36503577 0.49703242]\n",
      " [0.23377087 0.58929844 0.19881086 0.51337027 0.99161192 0.45637618]\n",
      " [0.49731867 0.39732137 0.00562107 0.92878212 0.72578187 0.98789581]\n",
      " [0.05118797 0.00899575 0.0350131  0.87035952 0.29513234 0.33048117]\n",
      " [0.50875989 0.51701022 0.82171235 0.63982399 0.38532888 0.77505562]]\n",
      "[[0.5        0.29507042 0.5        0.2696278  0.01060485 0.5       ]\n",
      " [0.5        0.38813768 0.28773945 0.49743063 0.36503577 0.49703242]\n",
      " [0.23377087 0.5        0.19881086 0.5        0.5        0.45637618]\n",
      " [0.49731867 0.39732137 0.00562107 0.5        0.5        0.5       ]\n",
      " [0.05118797 0.00899575 0.0350131  0.5        0.29513234 0.33048117]\n",
      " [0.5        0.5        0.5        0.5        0.38532888 0.5       ]]\n"
     ]
    }
   ],
   "source": [
    "# random 사용법, 넘파이는 바로 인덱싱하여 거르기 가능 y[y > .5] = .5\n",
    "#%% A88. 6x6 random array를 만들어 .5보다 큰 요소는 값을 0.5로 바꾸시오 \n",
    "\n",
    "import numpy as np\n",
    "y = np.random.random((6,6))\n",
    "\n",
    "print(y)\n",
    "\n",
    "y[y > .5] = .5\n",
    "print(y)"
   ]
  },
  {
   "cell_type": "code",
   "execution_count": 49,
   "id": "9e68ec4e",
   "metadata": {},
   "outputs": [
    {
     "name": "stdout",
     "output_type": "stream",
     "text": [
      "   col1  col2  col3\n",
      "0     1     4     7\n",
      "1     4     5     8\n",
      "2     3     6     9\n",
      "3     4     7     0\n",
      "4     5     8     1\n"
     ]
    },
    {
     "data": {
      "text/html": [
       "<div>\n",
       "<style scoped>\n",
       "    .dataframe tbody tr th:only-of-type {\n",
       "        vertical-align: middle;\n",
       "    }\n",
       "\n",
       "    .dataframe tbody tr th {\n",
       "        vertical-align: top;\n",
       "    }\n",
       "\n",
       "    .dataframe thead th {\n",
       "        text-align: right;\n",
       "    }\n",
       "</style>\n",
       "<table border=\"1\" class=\"dataframe\">\n",
       "  <thead>\n",
       "    <tr style=\"text-align: right;\">\n",
       "      <th></th>\n",
       "      <th>col1</th>\n",
       "      <th>col2</th>\n",
       "      <th>col3</th>\n",
       "    </tr>\n",
       "  </thead>\n",
       "  <tbody>\n",
       "    <tr>\n",
       "      <th>3</th>\n",
       "      <td>4</td>\n",
       "      <td>7</td>\n",
       "      <td>0</td>\n",
       "    </tr>\n",
       "    <tr>\n",
       "      <th>4</th>\n",
       "      <td>5</td>\n",
       "      <td>8</td>\n",
       "      <td>1</td>\n",
       "    </tr>\n",
       "  </tbody>\n",
       "</table>\n",
       "</div>"
      ],
      "text/plain": [
       "   col1  col2  col3\n",
       "3     4     7     0\n",
       "4     5     8     1"
      ]
     },
     "execution_count": 49,
     "metadata": {},
     "output_type": "execute_result"
    }
   ],
   "source": [
    "# DataFrame 기본 사용법\n",
    "\n",
    "import pandas as pd\n",
    "import numpy as np\n",
    "df_dic={'col1': [1, 4, 3, 4, 5], 'col2': [4, 5, 6, 7, 8], 'col3': [7, 8, 9, 0, 1]}\n",
    "df = pd.DataFrame(df_dic)\n",
    "print(df)\n",
    "df.head(2)\n",
    "df.tail(2)"
   ]
  },
  {
   "cell_type": "code",
   "execution_count": null,
   "id": "77fbcca6",
   "metadata": {},
   "outputs": [],
   "source": []
  }
 ],
 "metadata": {
  "kernelspec": {
   "display_name": "Python 3 (ipykernel)",
   "language": "python",
   "name": "python3"
  },
  "language_info": {
   "codemirror_mode": {
    "name": "ipython",
    "version": 3
   },
   "file_extension": ".py",
   "mimetype": "text/x-python",
   "name": "python",
   "nbconvert_exporter": "python",
   "pygments_lexer": "ipython3",
   "version": "3.9.12"
  }
 },
 "nbformat": 4,
 "nbformat_minor": 5
}
