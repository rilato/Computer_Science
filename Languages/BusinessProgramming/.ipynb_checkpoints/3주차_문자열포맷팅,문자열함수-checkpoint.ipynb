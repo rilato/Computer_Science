{
 "cells": [
  {
   "cell_type": "code",
   "execution_count": 1,
   "id": "5f51fe91",
   "metadata": {},
   "outputs": [],
   "source": [
    "# 옆에 *가 뜨면서 안돌아가면, Kernel의 Restart 클릭하기!"
   ]
  },
  {
   "cell_type": "code",
   "execution_count": 4,
   "id": "c0d7a023",
   "metadata": {},
   "outputs": [
    {
     "data": {
      "text/plain": [
       "'I eat 3 apples.'"
      ]
     },
     "execution_count": 4,
     "metadata": {},
     "output_type": "execute_result"
    }
   ],
   "source": [
    "# 문자열 포맷팅\n",
    "# %기호를 통해 포맷팅\n",
    "\n",
    "# %d : digit\n",
    "# %i : int\n",
    "# \"\" 뒤에 ,가 들어가지 않고 바로 %로 써준다!!\n",
    "\n",
    "\"I eat %d apples.\" %3"
   ]
  },
  {
   "cell_type": "code",
   "execution_count": 7,
   "id": "3afccdd8",
   "metadata": {},
   "outputs": [
    {
     "data": {
      "text/plain": [
       "'I eat 5.0 apples.'"
      ]
     },
     "execution_count": 7,
     "metadata": {},
     "output_type": "execute_result"
    }
   ],
   "source": [
    "# %s : string\n",
    "# %two가 아니라 %\"two\"처럼 큰 따옴표로 string을 묶어준다!!\n",
    "# 숫자를 써도 string타입으로 인식하여 출력한다.\n",
    "\n",
    "\"I eat %s apples.\" %\"two\"\n",
    "\"I eat %s apples.\" %5.00"
   ]
  },
  {
   "cell_type": "code",
   "execution_count": 11,
   "id": "84ec67ea",
   "metadata": {},
   "outputs": [
    {
     "data": {
      "text/plain": [
       "'I eat 3.141593 apples.'"
      ]
     },
     "execution_count": 11,
     "metadata": {},
     "output_type": "execute_result"
    }
   ],
   "source": [
    "# %f : float\n",
    "# 무조건 소수점 아래 6자리만 표기해줌\n",
    "\n",
    "\n",
    "\"I eat %f apples.\" %3.1415926535\n",
    "\"I eat %f apples.\" %3.1415"
   ]
  },
  {
   "cell_type": "code",
   "execution_count": 12,
   "id": "71aab2cf",
   "metadata": {},
   "outputs": [
    {
     "data": {
      "text/plain": [
       "'I eat 7.000000 apples.'"
      ]
     },
     "execution_count": 12,
     "metadata": {},
     "output_type": "execute_result"
    }
   ],
   "source": [
    "number = 7\n",
    "\"I eat %f apples.\" %number"
   ]
  },
  {
   "cell_type": "code",
   "execution_count": 19,
   "id": "6a341079",
   "metadata": {},
   "outputs": [
    {
     "data": {
      "text/plain": [
       "'I ate 2.500000% apples. So I was sick for three days. But I was recovered in 2 weeks.'"
      ]
     },
     "execution_count": 19,
     "metadata": {},
     "output_type": "execute_result"
    }
   ],
   "source": [
    "# 여러 개의 %을 포맷팅하는 경우\n",
    "# 튜플을 사용하여 묶어준다!!\n",
    "\n",
    "# %를 이스케이프시키기 위해서는 %를 두 번 쓴다\n",
    "# %%\n",
    "\n",
    "number = 2.5\n",
    "day = 'three'\n",
    "week = 2\n",
    "\n",
    "\"I ate %f%% apples. So I was sick for %s days. But I was recovered in %d weeks.\" %(number, day, week)"
   ]
  },
  {
   "cell_type": "code",
   "execution_count": 22,
   "id": "156c927c",
   "metadata": {},
   "outputs": [
    {
     "data": {
      "text/plain": [
       "'                  hi'"
      ]
     },
     "execution_count": 22,
     "metadata": {},
     "output_type": "execute_result"
    }
   ],
   "source": [
    "# 포맷팅에서 공백 생성하기\n",
    "\n",
    "\"%20s\" %\"hi\""
   ]
  },
  {
   "cell_type": "code",
   "execution_count": 25,
   "id": "e7850106",
   "metadata": {},
   "outputs": [
    {
     "data": {
      "text/plain": [
       "'hi                  Jane'"
      ]
     },
     "execution_count": 25,
     "metadata": {},
     "output_type": "execute_result"
    }
   ],
   "source": [
    "# 포맷팅에서 공백을 뒷쪽에 생성하기\n",
    "\n",
    "\"%-20sJane.\" %\"hi\""
   ]
  },
  {
   "cell_type": "code",
   "execution_count": 27,
   "id": "80803bcc",
   "metadata": {},
   "outputs": [
    {
     "data": {
      "text/plain": [
       "'               3.123'"
      ]
     },
     "execution_count": 27,
     "metadata": {},
     "output_type": "execute_result"
    }
   ],
   "source": [
    "# 20칸 만들고 그 안에 숫자 넣기\n",
    "# 숫자 포함 총 20칸, 소수점 아래는 세 칸\n",
    "\n",
    "\"%20.3f\" %3.123456789"
   ]
  },
  {
   "cell_type": "code",
   "execution_count": 30,
   "id": "d406791b",
   "metadata": {},
   "outputs": [
    {
     "data": {
      "text/plain": [
       "'I eat five apples.'"
      ]
     },
     "execution_count": 30,
     "metadata": {},
     "output_type": "execute_result"
    }
   ],
   "source": [
    "# 함수를 이용한 포맷팅\n",
    "# {}안의 부분이 포맷팅되는 부분\n",
    "\n",
    "\"I eat {0} apples.\".format(3)\n",
    "\"I eat {0} apples.\".format(\"five\")"
   ]
  },
  {
   "cell_type": "code",
   "execution_count": 33,
   "id": "25b306d2",
   "metadata": {},
   "outputs": [
    {
     "data": {
      "text/plain": [
       "'I eat 10 apples. So I was sick for 4 days. 3'"
      ]
     },
     "execution_count": 33,
     "metadata": {},
     "output_type": "execute_result"
    }
   ],
   "source": [
    "# 여러개 포맷팅\n",
    "number = 10\n",
    "day = 4\n",
    "\n",
    "\"I eat {0} apples. So I was sick for {1} days. {2}\".format(number, day, 3)"
   ]
  },
  {
   "cell_type": "code",
   "execution_count": 35,
   "id": "ccc51d1b",
   "metadata": {},
   "outputs": [
    {
     "data": {
      "text/plain": [
       "'        hi'"
      ]
     },
     "execution_count": 35,
     "metadata": {},
     "output_type": "execute_result"
    }
   ],
   "source": [
    "# 10의 길이 string을 만드는데, 우측 정렬\n",
    "\n",
    "\"{0:>10}\".format('hi')"
   ]
  },
  {
   "cell_type": "code",
   "execution_count": 37,
   "id": "64a689c0",
   "metadata": {},
   "outputs": [
    {
     "data": {
      "text/plain": [
       "'hi        '"
      ]
     },
     "execution_count": 37,
     "metadata": {},
     "output_type": "execute_result"
    }
   ],
   "source": [
    "# 10의 길이 string을 만드는데, 좌측 정렬\n",
    "\n",
    "\"{0:<10}\".format('hi')"
   ]
  },
  {
   "cell_type": "code",
   "execution_count": 38,
   "id": "698f736e",
   "metadata": {},
   "outputs": [
    {
     "data": {
      "text/plain": [
       "'    hi    '"
      ]
     },
     "execution_count": 38,
     "metadata": {},
     "output_type": "execute_result"
    }
   ],
   "source": [
    "# 10의 길이 string을 만드는데, 가운데 정렬\n",
    "\n",
    "\"{0:^10}\".format('hi')"
   ]
  },
  {
   "cell_type": "code",
   "execution_count": 39,
   "id": "6200d67a",
   "metadata": {},
   "outputs": [
    {
     "data": {
      "text/plain": [
       "'****hi****'"
      ]
     },
     "execution_count": 39,
     "metadata": {},
     "output_type": "execute_result"
    }
   ],
   "source": [
    "# 10의 길이 string을 만드는데, 가운데 정렬\n",
    "# 빈 칸을 문자로 넣으려면 ^ 앞에 문자 넣기!!\n",
    "\n",
    "\"{0:*^10}\".format('hi')"
   ]
  },
  {
   "cell_type": "code",
   "execution_count": 40,
   "id": "2323636e",
   "metadata": {},
   "outputs": [
    {
     "data": {
      "text/plain": [
       "'    3.1416'"
      ]
     },
     "execution_count": 40,
     "metadata": {},
     "output_type": "execute_result"
    }
   ],
   "source": [
    "# 10의 길이 string을 우측정렬하여 만드는데, 소수점은 네 자리까지 표현\n",
    "\n",
    "\"{0:>10.4f}\".format(3.1415926535)"
   ]
  },
  {
   "cell_type": "code",
   "execution_count": 41,
   "id": "1fb3cd75",
   "metadata": {},
   "outputs": [
    {
     "data": {
      "text/plain": [
       "'{}'"
      ]
     },
     "execution_count": 41,
     "metadata": {},
     "output_type": "execute_result"
    }
   ],
   "source": [
    "# {} 자체를 포맷팅에서 쓰고 싶을 때 {}를 두 번 쓴다!\n",
    "\n",
    "\"{{}}\".format()"
   ]
  },
  {
   "cell_type": "code",
   "execution_count": 42,
   "id": "9cc860a1",
   "metadata": {},
   "outputs": [
    {
     "data": {
      "text/plain": [
       "'my name is hongik. I am 26 years old.'"
      ]
     },
     "execution_count": 42,
     "metadata": {},
     "output_type": "execute_result"
    }
   ],
   "source": [
    "# f-string을 이용한 포맷팅\n",
    "\n",
    "name = 'hongik'\n",
    "age = 26\n",
    "\n",
    "f'my name is {name}. I am {age} years old.'"
   ]
  },
  {
   "cell_type": "code",
   "execution_count": 43,
   "id": "5fc136c9",
   "metadata": {},
   "outputs": [
    {
     "data": {
      "text/plain": [
       "'hi        '"
      ]
     },
     "execution_count": 43,
     "metadata": {},
     "output_type": "execute_result"
    }
   ],
   "source": [
    "# 10칸을 만들고 좌측정렬하기\n",
    "\n",
    "f'{\"hi\":10}'"
   ]
  },
  {
   "cell_type": "code",
   "execution_count": 45,
   "id": "b68b3b07",
   "metadata": {},
   "outputs": [
    {
     "data": {
      "text/plain": [
       "'**3.142***'"
      ]
     },
     "execution_count": 45,
     "metadata": {},
     "output_type": "execute_result"
    }
   ],
   "source": [
    "# 위에서 배운 포맷팅과 동일한 방식\n",
    "\n",
    "f'{3.14159265:*^10.3f}'"
   ]
  },
  {
   "cell_type": "code",
   "execution_count": 46,
   "id": "9a40f8f8",
   "metadata": {},
   "outputs": [
    {
     "data": {
      "text/plain": [
       "'{ and }'"
      ]
     },
     "execution_count": 46,
     "metadata": {},
     "output_type": "execute_result"
    }
   ],
   "source": [
    "# 중괄호를 text로 넣기\n",
    "# f-string이 아닌 경우는 그냥 {}를 한 번만 써도 된다!\n",
    "\n",
    "f'{{ and }}'"
   ]
  },
  {
   "cell_type": "code",
   "execution_count": 49,
   "id": "5348351e",
   "metadata": {},
   "outputs": [
    {
     "name": "stdout",
     "output_type": "stream",
     "text": [
      "2\n",
      "0\n"
     ]
    }
   ],
   "source": [
    "# 문자열 함수\n",
    "# 문자 개수 세기\n",
    "\n",
    "# b라는 문자의 개수 세기\n",
    "a = 'hobby'\n",
    "print(a.count('b'))\n",
    "# 찾는 문자가 없는 경우 0을 리턴\n",
    "print(a.count('k'))"
   ]
  },
  {
   "cell_type": "code",
   "execution_count": 48,
   "id": "a602fb6a",
   "metadata": {},
   "outputs": [
    {
     "name": "stdout",
     "output_type": "stream",
     "text": [
      "14\n",
      "-1\n"
     ]
    }
   ],
   "source": [
    "# 문자 위치 알려주기 1\n",
    "# find 함수는 인덱스를 리턴\n",
    "\n",
    "a = \"Python is the best choice\"\n",
    "print(a.find('b'))\n",
    "# 찾는 문자가 없는 경우 -1을 리턴\n",
    "print(a.find('k'))"
   ]
  },
  {
   "cell_type": "code",
   "execution_count": 51,
   "id": "26318827",
   "metadata": {},
   "outputs": [
    {
     "name": "stdout",
     "output_type": "stream",
     "text": [
      "8\n"
     ]
    }
   ],
   "source": [
    "# 문자 위치 알려주기 2\n",
    "\n",
    "a = \"Life is too short\"\n",
    "print(a.index('t'))\n",
    "# 찾는 문자가 없는 경우 오류 발생! find와 가장 큰 차이점\n",
    "# print(a.index('k'))"
   ]
  },
  {
   "cell_type": "code",
   "execution_count": 54,
   "id": "49605d16",
   "metadata": {},
   "outputs": [
    {
     "name": "stdout",
     "output_type": "stream",
     "text": [
      "a,b,c,d\n",
      "a***b***c***d\n"
     ]
    }
   ],
   "source": [
    "# 문자열 삽입\n",
    "# 각각의 문자 사이에 a를 넣는다\n",
    "# 넣고자하는 문자를 좌측에 넣고, ' '안에 바꾸고자하는 문자를 넣는다\n",
    "# 순서 주의!\n",
    "\n",
    "a = ','\n",
    "print(a.join('abcd'))\n",
    "print('***'.join('abcd'))"
   ]
  },
  {
   "cell_type": "code",
   "execution_count": 57,
   "id": "20c0c3c3",
   "metadata": {},
   "outputs": [
    {
     "name": "stdout",
     "output_type": "stream",
     "text": [
      "PYTHON IS THE BEST CHOICE.\n",
      "python is the best choice.\n"
     ]
    }
   ],
   "source": [
    "# 소문자를 대문자로 변환\n",
    "# 얘는 일회성이므로, 다른 변수에 저장하지 않으면\n",
    "# a는 원래의 형태를 유지한다.\n",
    "\n",
    "a = \"python is the best choice.\"\n",
    "print(a.upper())\n",
    "print(a)"
   ]
  },
  {
   "cell_type": "code",
   "execution_count": 58,
   "id": "5b7e7071",
   "metadata": {},
   "outputs": [
    {
     "data": {
      "text/plain": [
       "'python is the best choice.'"
      ]
     },
     "execution_count": 58,
     "metadata": {},
     "output_type": "execute_result"
    }
   ],
   "source": [
    "# 대문자를 소문자로 변환\n",
    "\n",
    "a = \"PYTHON IS THE BEST CHOICE.\"\n",
    "a.lower()"
   ]
  },
  {
   "cell_type": "code",
   "execution_count": 59,
   "id": "5bcb2218",
   "metadata": {},
   "outputs": [
    {
     "name": "stdout",
     "output_type": "stream",
     "text": [
      "hi      \n",
      "      hi\n",
      "hi\n"
     ]
    }
   ],
   "source": [
    "# 공백 지우기\n",
    "# 얘도 일회성이므로, 다른 변수에 저장하지 않으면\n",
    "# a는 원래의 형태를 유지한다.\n",
    "\n",
    "a = \"      hi      \"\n",
    "# 좌측 공백 지우기\n",
    "print(a.lstrip())\n",
    "# 우측 공백 지우기\n",
    "print(a.rstrip())\n",
    "# 양쪽 공백 지우기\n",
    "print(a.strip())"
   ]
  },
  {
   "cell_type": "code",
   "execution_count": 60,
   "id": "d3d7ef64",
   "metadata": {},
   "outputs": [
    {
     "data": {
      "text/plain": [
       "'Your leg is short.'"
      ]
     },
     "execution_count": 60,
     "metadata": {},
     "output_type": "execute_result"
    }
   ],
   "source": [
    "# 문자열 바꾸기\n",
    "\n",
    "a = \"Life is short.\"\n",
    "a.replace(\"Life\", \"Your leg\")"
   ]
  },
  {
   "cell_type": "code",
   "execution_count": 62,
   "id": "949831d2",
   "metadata": {},
   "outputs": [
    {
     "name": "stdout",
     "output_type": "stream",
     "text": [
      "['Life', 'is', 'too', 'short']\n",
      "['a', 'b', 'c', 'd']\n"
     ]
    }
   ],
   "source": [
    "# 문자열 나누기(쪼개기)\n",
    "\n",
    "# 디폴트는 공백을 기준으로 스플릿\n",
    "a = \"Life is too short\"\n",
    "print(a.split())\n",
    "\n",
    "# 특정 문자를 기준으로 스플릿\n",
    "b = \"a:b:c:d\"\n",
    "print(b.split(\":\"))"
   ]
  },
  {
   "cell_type": "code",
   "execution_count": null,
   "id": "d914ffb7",
   "metadata": {},
   "outputs": [],
   "source": []
  }
 ],
 "metadata": {
  "kernelspec": {
   "display_name": "Python 3 (ipykernel)",
   "language": "python",
   "name": "python3"
  },
  "language_info": {
   "codemirror_mode": {
    "name": "ipython",
    "version": 3
   },
   "file_extension": ".py",
   "mimetype": "text/x-python",
   "name": "python",
   "nbconvert_exporter": "python",
   "pygments_lexer": "ipython3",
   "version": "3.9.12"
  }
 },
 "nbformat": 4,
 "nbformat_minor": 5
}
