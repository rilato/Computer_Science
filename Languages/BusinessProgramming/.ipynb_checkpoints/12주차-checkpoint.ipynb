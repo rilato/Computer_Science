{
 "cells": [
  {
   "cell_type": "code",
   "execution_count": 1,
   "id": "0040e381",
   "metadata": {},
   "outputs": [],
   "source": [
    "# 클래스\n",
    "\n",
    "# 클래스 이름은 반드시 대문자로 시작\n",
    "# parameter가 없음\n",
    "\n",
    "class FourCal:\n",
    "    # 매소드 함수\n",
    "    # self는 class가 만들어낸 instance 자체를 의미\n",
    "    def setdata(self, first, second):\n",
    "        self.first = first\n",
    "        self.second = second\n",
    "        "
   ]
  },
  {
   "cell_type": "code",
   "execution_count": 2,
   "id": "2a25c63a",
   "metadata": {},
   "outputs": [],
   "source": [
    "# 클래스 생성 시, ()를 붙여 생성자를 통해 인스턴스를 만들어준다!\n",
    "a = FourCal()"
   ]
  },
  {
   "cell_type": "code",
   "execution_count": 5,
   "id": "d9145109",
   "metadata": {},
   "outputs": [],
   "source": [
    "# self에 해당하는 부분은, 값을 따로 넣지 않는다!\n",
    "# self는 자기자신의 인스턴스를 가리킬 뿐, 인자로 값을 넣어주지 않는다\n",
    "\n",
    "a.setdata(4,2)"
   ]
  },
  {
   "cell_type": "code",
   "execution_count": 6,
   "id": "50d0aa80",
   "metadata": {},
   "outputs": [
    {
     "data": {
      "text/plain": [
       "4"
      ]
     },
     "execution_count": 6,
     "metadata": {},
     "output_type": "execute_result"
    }
   ],
   "source": [
    "# 값 호출\n",
    "\n",
    "a.first"
   ]
  },
  {
   "cell_type": "code",
   "execution_count": 7,
   "id": "44038759",
   "metadata": {},
   "outputs": [
    {
     "data": {
      "text/plain": [
       "2"
      ]
     },
     "execution_count": 7,
     "metadata": {},
     "output_type": "execute_result"
    }
   ],
   "source": [
    "a.second"
   ]
  },
  {
   "cell_type": "code",
   "execution_count": 8,
   "id": "5887b676",
   "metadata": {},
   "outputs": [],
   "source": [
    "# 클래스 자체를 통해 a 인스턴스의 값 변경하기\n",
    "FourCal.setdata(a, 7, 8)"
   ]
  },
  {
   "cell_type": "code",
   "execution_count": 9,
   "id": "2ef2259b",
   "metadata": {},
   "outputs": [
    {
     "data": {
      "text/plain": [
       "7"
      ]
     },
     "execution_count": 9,
     "metadata": {},
     "output_type": "execute_result"
    }
   ],
   "source": [
    "a.first"
   ]
  },
  {
   "cell_type": "code",
   "execution_count": 10,
   "id": "5e01f32c",
   "metadata": {},
   "outputs": [
    {
     "data": {
      "text/plain": [
       "8"
      ]
     },
     "execution_count": 10,
     "metadata": {},
     "output_type": "execute_result"
    }
   ],
   "source": [
    "a.second"
   ]
  },
  {
   "cell_type": "code",
   "execution_count": 20,
   "id": "39cae00d",
   "metadata": {},
   "outputs": [],
   "source": [
    "# 부모 클래스 생성\n",
    "class FourCal:\n",
    "    # 생성자, 초기자\n",
    "    def __init__(self, first, second):\n",
    "        self.first = first\n",
    "        self.second = second\n",
    "    def add(self):\n",
    "        result = self.first + self.second\n",
    "        return result\n",
    "    \n",
    "# 자식 클래스 생성\n",
    "class MoreFourCal(FourCal):\n",
    "    # 파이썬은 super 안써도 부모 내용 모두 갖고있음!, add()를 통해 add 사용 가능!\n",
    "    def pow(self):\n",
    "        result = self.first**self.second\n",
    "        return result"
   ]
  },
  {
   "cell_type": "code",
   "execution_count": 14,
   "id": "e2636e93",
   "metadata": {},
   "outputs": [],
   "source": [
    "b = FourCal(4, 2)"
   ]
  },
  {
   "cell_type": "code",
   "execution_count": 15,
   "id": "63e096b7",
   "metadata": {},
   "outputs": [
    {
     "data": {
      "text/plain": [
       "4"
      ]
     },
     "execution_count": 15,
     "metadata": {},
     "output_type": "execute_result"
    }
   ],
   "source": [
    "b.first"
   ]
  },
  {
   "cell_type": "code",
   "execution_count": 16,
   "id": "c81df4cf",
   "metadata": {},
   "outputs": [
    {
     "data": {
      "text/plain": [
       "2"
      ]
     },
     "execution_count": 16,
     "metadata": {},
     "output_type": "execute_result"
    }
   ],
   "source": [
    "b.second"
   ]
  },
  {
   "cell_type": "code",
   "execution_count": 19,
   "id": "85efca34",
   "metadata": {},
   "outputs": [
    {
     "data": {
      "text/plain": [
       "6"
      ]
     },
     "execution_count": 19,
     "metadata": {},
     "output_type": "execute_result"
    }
   ],
   "source": [
    "# add 뒤에 () 붙이기!!\n",
    "\n",
    "b.add()"
   ]
  },
  {
   "cell_type": "code",
   "execution_count": 23,
   "id": "3747d188",
   "metadata": {},
   "outputs": [],
   "source": [
    "c = MoreFourCal(5,2)"
   ]
  },
  {
   "cell_type": "code",
   "execution_count": 24,
   "id": "70f29f25",
   "metadata": {},
   "outputs": [
    {
     "data": {
      "text/plain": [
       "25"
      ]
     },
     "execution_count": 24,
     "metadata": {},
     "output_type": "execute_result"
    }
   ],
   "source": [
    "c.pow()"
   ]
  },
  {
   "cell_type": "code",
   "execution_count": 2,
   "id": "b979a5c1",
   "metadata": {},
   "outputs": [],
   "source": [
    "class Person:\n",
    "    def greeting(self):\n",
    "        print('hi')\n",
    "        \n",
    "# 상속\n",
    "# 오버라이딩\n",
    "class Student(Person):\n",
    "    def greeting(self):\n",
    "        # super는 부모 클래스를 가리킴\n",
    "        super().greeting()\n",
    "        print('hello')"
   ]
  },
  {
   "cell_type": "code",
   "execution_count": 3,
   "id": "49ae12af",
   "metadata": {},
   "outputs": [
    {
     "name": "stdout",
     "output_type": "stream",
     "text": [
      "hi\n",
      "===========\n",
      "hi\n",
      "hello\n"
     ]
    }
   ],
   "source": [
    "d = Person()\n",
    "d.greeting()\n",
    "print(\"===========\")\n",
    "e = Student()\n",
    "e.greeting()"
   ]
  },
  {
   "cell_type": "code",
   "execution_count": 39,
   "id": "619e865d",
   "metadata": {},
   "outputs": [],
   "source": [
    "class Data:\n",
    "    def __init__ (self, string):\n",
    "        myString = string.split(\"|\")\n",
    "        self.name = myString[0]\n",
    "        self.age = myString[1]\n",
    "        self.grade = myString[2]\n",
    "        \n",
    "    def print_age(self):\n",
    "        print(self.age)\n",
    "        \n",
    "    def print_grade(self):\n",
    "        print(self.name + \"님 당신의 점수는 \" + self.grade + \"입니다.\")"
   ]
  },
  {
   "cell_type": "code",
   "execution_count": 40,
   "id": "72920c7b",
   "metadata": {},
   "outputs": [
    {
     "name": "stdout",
     "output_type": "stream",
     "text": [
      "42\n",
      "홍길동님 당신의 점수는 A입니다.\n"
     ]
    }
   ],
   "source": [
    "data = Data(\"홍길동|42|A\")\n",
    "\n",
    "data.print_age()\n",
    "data.print_grade()"
   ]
  },
  {
   "cell_type": "code",
   "execution_count": 41,
   "id": "081c108b",
   "metadata": {},
   "outputs": [],
   "source": [
    "class Data:\n",
    "    def __init__ (self, grade):\n",
    "        self.list_grade = grade.split(\"|\")\n",
    "        \n",
    "    def print_age(self):\n",
    "        print(self.list_grade[1])\n",
    "        \n",
    "    def print_grade(self):\n",
    "        print(self.list_grade[0] + \"님 당신의 점수는 \" + self.list_grade[2] + \"입니다.\")"
   ]
  },
  {
   "cell_type": "code",
   "execution_count": 42,
   "id": "abcc7def",
   "metadata": {},
   "outputs": [
    {
     "name": "stdout",
     "output_type": "stream",
     "text": [
      "42\n",
      "홍길동님 당신의 점수는 A입니다.\n"
     ]
    }
   ],
   "source": [
    "data = Data(\"홍길동|42|A\")\n",
    "\n",
    "data.print_age()\n",
    "data.print_grade()"
   ]
  },
  {
   "cell_type": "code",
   "execution_count": null,
   "id": "244f5495",
   "metadata": {},
   "outputs": [],
   "source": []
  }
 ],
 "metadata": {
  "kernelspec": {
   "display_name": "Python 3 (ipykernel)",
   "language": "python",
   "name": "python3"
  },
  "language_info": {
   "codemirror_mode": {
    "name": "ipython",
    "version": 3
   },
   "file_extension": ".py",
   "mimetype": "text/x-python",
   "name": "python",
   "nbconvert_exporter": "python",
   "pygments_lexer": "ipython3",
   "version": "3.9.12"
  }
 },
 "nbformat": 4,
 "nbformat_minor": 5
}
