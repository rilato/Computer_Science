{
 "cells": [
  {
   "cell_type": "markdown",
   "metadata": {},
   "source": [
    "함수 문제 1-3.<br>\n",
    "1. 사용자 입력을 받아 그 숫자 n에 해당되는 구구단을 출력한 후 n을 return하는 함수를 작성하고 함수를 실행하여 결과를 출력하시오.<br>"
   ]
  },
  {
   "cell_type": "code",
   "execution_count": null,
   "metadata": {},
   "outputs": [],
   "source": [
    "def gugudan(n):\n",
    "    for i in range(1,10):\n",
    "        print(f'{n} X {i} = {n * i}\\n')"
   ]
  },
  {
   "cell_type": "markdown",
   "metadata": {},
   "source": [
    "2. 주어진 자연수가 홀수이면 True를 짝수이면 False를 return하여 주는 함수(is_odd)를 작성하시오.<br>"
   ]
  },
  {
   "cell_type": "code",
   "execution_count": null,
   "metadata": {},
   "outputs": [],
   "source": []
  },
  {
   "cell_type": "markdown",
   "metadata": {},
   "source": [
    "(함수/입출력) 3. 1~2번의 함수를 가지는 module, mod2을 생성하시오(현재 디렉토리 내). mod2을 import하고 mod2의 함수를 이용하여 다음의 코드를 작성하시오.<br>\n",
    "사용자로부터 숫자를 입력받아 해당하는 구구단을 출력하고 입력받은 수가 짝수이면 \"짝수 구구단입니다\"를, 홀수이면 \"홀수 구구단입니다\"를 출력하는 코드를 작성하시오.<br>"
   ]
  },
  {
   "cell_type": "code",
   "execution_count": null,
   "metadata": {},
   "outputs": [],
   "source": []
  },
  {
   "cell_type": "markdown",
   "metadata": {},
   "source": [
    "(입출력) 4. 사용자의 입력을 파일(test.txt)에 저장하는 프로그램을 작성하시오. (단, 프로그램을 다시 실행하더라도 기존 작성한 내용을 유지하고 새로 입력한 내용이 추가되어야 한다.)<br>\n",
    "예. 작성한 코드를 네번 실행하여 각 실행 시 다음과 같은 각 입력이 네번 주어지는 경우 모두 차례대로 test.txt에 입력되어야 합니다.<br>\n",
    "\n",
    "\"안녕하세요\"<br>\n",
    "\"비지니스\"<br>\n",
    "\"프로그래밍을\"<br>\n",
    "\"수강합니다\"<br>\n"
   ]
  },
  {
   "cell_type": "code",
   "execution_count": null,
   "metadata": {},
   "outputs": [],
   "source": []
  },
  {
   "cell_type": "markdown",
   "metadata": {},
   "source": [
    "(함수) 1. 세개의 숫자를 차례로 사용자로부터 입력받아 리스트로 리턴해 주는 함수 num_list()을 생성하고 이 함수를 호출하는 파이썬 코드를 작성하고 에러없이 실행하시오.<br> \n",
    "\n",
    "(예)<br>\n",
    "   첫번째 숫자를 입력하세요: 7 <br>\n",
    "   두번째 숫자를 입력하세요: 8 <br>\n",
    "   세번째 숫자를 입력하세요: 9 <br>"
   ]
  },
  {
   "cell_type": "code",
   "execution_count": null,
   "metadata": {},
   "outputs": [],
   "source": []
  },
  {
   "cell_type": "markdown",
   "metadata": {},
   "source": [
    "2. 숫자들로 이루어진 리스트를 인수(argument)로 받아 7보다 큰 수만 필터링하여 리턴해 주는 함수, myfunc()를 작성하시오 \n",
    " 그리고 myfunc([5,6,7,8,9,10])를 실행하여 [8,9,10]이 출력되는 코드를 작성하시오. \n"
   ]
  },
  {
   "cell_type": "code",
   "execution_count": null,
   "metadata": {},
   "outputs": [],
   "source": []
  },
  {
   "cell_type": "markdown",
   "metadata": {},
   "source": [
    "(패키지 모듈)<br>\n",
    "3. 1~2번의 함수가 포함된 module, mod3을 생성하시오.(현재 디렉토리 내 mod3.py를 생성)<br>\n",
    "mod3을 import하고 mod3.함수명()을 이용하여, 세개의 숫자를 입력받아 7보다 큰 숫자만 필터링하여 출력하시오. <br>\n",
    "예.<br> 7,8,9 입력시 [8,9]를 출력.\n",
    "    "
   ]
  },
  {
   "cell_type": "code",
   "execution_count": null,
   "metadata": {},
   "outputs": [],
   "source": []
  },
  {
   "cell_type": "markdown",
   "metadata": {},
   "source": [
    "(파일생성) 4.1~5를 연결하여 완성된 파이썬 코드를 작성하고 에러없이 실행하시오.<br>\n",
    "\n",
    "4-1. 아래와 같은 내용을 입력한 파일 test.txt 를 생성한 후,<br>\n",
    "\"Life is too short (줄바꿈)<br>\n",
    " you need java\"<br>"
   ]
  },
  {
   "cell_type": "code",
   "execution_count": null,
   "metadata": {},
   "outputs": [],
   "source": []
  },
  {
   "cell_type": "markdown",
   "metadata": {},
   "source": [
    "4-2 test.txt의 문장을 변수명 sent로 읽어들여 "
   ]
  },
  {
   "cell_type": "code",
   "execution_count": null,
   "metadata": {},
   "outputs": [],
   "source": []
  },
  {
   "cell_type": "markdown",
   "metadata": {},
   "source": [
    "4-3 java라는 문자열을 python으로 바꾸고(replace(a,b))"
   ]
  },
  {
   "cell_type": "code",
   "execution_count": null,
   "metadata": {},
   "outputs": [],
   "source": []
  },
  {
   "cell_type": "markdown",
   "metadata": {},
   "source": [
    "4-4 수정된 문장을 test.txt에 추가하여"
   ]
  },
  {
   "cell_type": "code",
   "execution_count": null,
   "metadata": {},
   "outputs": [],
   "source": []
  },
  {
   "cell_type": "markdown",
   "metadata": {},
   "source": [
    "4-5 test.txt에 저장된 내용을 모두 읽어들여 출력하는 코드를 작성하시오."
   ]
  },
  {
   "cell_type": "code",
   "execution_count": null,
   "metadata": {},
   "outputs": [],
   "source": []
  },
  {
   "cell_type": "markdown",
   "metadata": {},
   "source": [
    "(입출력) 5. 사용자로부터 2~9 까지의 숫자중 하나를 입력받아 해당 숫자보다 작은 모든 숫자의 구구단을 출력하는 파이썬 코드를 작성하고 에러없이 실행하시오.<br>\n",
    "단, 같은 숫자에 해당하는 구구단은 한줄로, 다른 숫자의 구구단은 다른 줄로 출력하시오. <br>\n",
    "    \n",
    "\n",
    "      "
   ]
  },
  {
   "cell_type": "code",
   "execution_count": null,
   "metadata": {},
   "outputs": [],
   "source": []
  },
  {
   "cell_type": "markdown",
   "metadata": {},
   "source": [
    "(제어문, 함수, 파일생성, 입출력)\n",
    "\n",
    "1.\t “ID_FIRST_LAST.ipynb” 스크립트 파일을 BP/doit12에 생성하고 “nasdaq.txt” , “raven.txt” , “frankenstein.txt” 데이터 파일을 \n",
    "“ID_FIRST_LAST.ipynb” 스크립트 파일이 저장된 동일한 디렉토리에 다운로드하시오. FIRST는 본인의 성, LAST은 본인의 이름에 해당하는 영문으로 작성하시오. (예. \"B123456_Kildong_Hong.ipynb\")<br><br>\n",
    "\n",
    "2.\t“ID_FIRST_LAST.ipynb” 파일에서 make_length_wordcount() 함수를 정의하시오. 함수는 다음을 수행합니다:<br>\n",
    "a.\tBP/doit12에 있는 데이터 파일에서 입력을 받으시오 (string)<br>\n",
    "b.\tdictionary를 생성하여 key는 단어 길이, value는 동일한 길이의 단어 갯수로 만드시오.<br>\n",
    "    예를 들어, 입력 파일의 내용이 “Hello Python people Welcome to the world of Python”이라면 dictionary 는 다음과 같습니다: <br>\n",
    "    {2: 2, 3: 1, 5: 2, 6: 3, 7: 1} <br><br>\n",
    "\n",
    "3.\t“ID_FIRST_LAST.ipynb” 스크립트 파일에서 make_word_count() 함수를 정의하시오. 함수는 다음을 수행합니다:<br>\n",
    "a.\tBP/doit12에 있는 데이터 파일에서 입력을 받으시오 (string)<br>\n",
    "b.\tdictionary를 생성하여 key는 단어, value는 단어가 나타나는 횟수로 만드시오.<br>\n",
    "    i.\t단어는 모두 소문자로 변환하시오.<br>\n",
    "    ii.\t예를 들어, 입력 데이터 파일의 내용이 “Hello Python people Welcome to the world of Python” 이라면 dictionary는 다음과 같습니다: <br>\n",
    "{'hello': 1,  'of': 1,  'people': 1,  'python': 2,  'the': 1,  'to': 1,  'welcome': 1,  'world': 1}<br><br>\n",
    "\n",
    "4.\t“ID_FIRST_LAST.ipynb” 스크립트 파일에서 analyze_text() 함수를 정의하시오. 함수는 다음을 수행합니다:<br>\n",
    "a.\tBP/doit12에 있는 데이터 파일에서 입력을 받으시오 (string)<br>\n",
    "b.\t2,3번의 함수를 이용하여 (i) length-wordcount dictionary 와 (ii) word count의 dictionary를 만드시오.<br>\n",
    "c.\t새로운 출력 파일 “FILE_analyzed_FIRST_LAST.txt” 을 생성하고 위의 두 dictionary 를 저장하시오. 저장 포맷은 다음과 같습니다. <br>\n",
    "d.\t예를 들어 입력 데이터 파일이 “test.txt”이라면 출력 파일은 “test_analyzed_Kildong_Hong.txt” 이고 다음 포맷의 출력을 저장해야 합니다.:<br>\n",
    "\n",
    "Words of length 2 : 2<br>\n",
    "Words of length 3 : 1<br>\n",
    "Words of length 5 : 2<br>\n",
    "Words of length 6 : 3<br>\n",
    "Words of length 7 : 1<br>\n",
    "to : 1<br>\n",
    "of : 1<br>\n",
    "people : 1<br>\n",
    "the : 1<br>\n",
    "python : 2<br>\n",
    "welcome : 1<br>\n",
    "hello : 1<br>\n",
    "world : 1<br>\n",
    "\n",
    "5.\t“ID_FIRST_LAST.ipynb” 스크립트 파일에서 다음의 3개 데이터 파일을 입력으로 analyze_text() 함수를 각각 실행하는 코드를 작성하시오.<br>\n",
    "\n",
    "a.\t“nasdaq.txt”<br>\n",
    "b.\t“raven.txt”<br>\n",
    "c.\t“frankenstein.txt” <br>\n",
    "\n",
    "“ID_FIRST_LAST.ipynb”을 실행하여 1) 다음의 3개 출력 파일이 생성되고, 2) 지시한 결과가 정확히 내용으로 저장되어야 만점.<br>\n",
    "\n",
    "“nasdaq_analyzed_FIRST_LAST.txt”<br>\n",
    "“raven_analyzed_FIRST_LAST.txt” <br>\n",
    "“frankenstein_analyzed_FIRST_LAST.txt”<br>\n",
    "\n",
    "*대량 데이터 파일을 입력으로 실행하기 전에 소수의 데이터가 있는 test.txt를 이용하여 test_analyzed_FIRST_LAST.txt 를 생성하여 코드를 확인하시오.<br>\n",
    "\n"
   ]
  },
  {
   "cell_type": "code",
   "execution_count": null,
   "metadata": {},
   "outputs": [],
   "source": []
  }
 ],
 "metadata": {
  "kernelspec": {
   "display_name": "Python 3 (ipykernel)",
   "language": "python",
   "name": "python3"
  },
  "language_info": {
   "codemirror_mode": {
    "name": "ipython",
    "version": 3
   },
   "file_extension": ".py",
   "mimetype": "text/x-python",
   "name": "python",
   "nbconvert_exporter": "python",
   "pygments_lexer": "ipython3",
   "version": "3.9.12"
  }
 },
 "nbformat": 4,
 "nbformat_minor": 4
}
