{
 "cells": [
  {
   "cell_type": "markdown",
   "metadata": {},
   "source": [
    "# Pandas exercise"
   ]
  },
  {
   "cell_type": "code",
   "execution_count": null,
   "metadata": {},
   "outputs": [],
   "source": [
    "#%% DF24. Dictionary를 이용하여 다음의 값으로 구성된 DataFrame을 생성하시오.\n",
    "col1 col2 col3\n",
    "0 1 4 7\n",
    "1 4 5 8\n",
    "2 3 6 9\n",
    "3 4 7 0\n",
    "4 5 8 1"
   ]
  },
  {
   "cell_type": "code",
   "execution_count": null,
   "metadata": {},
   "outputs": [],
   "source": [
    "#%% 행의 index 대신 다음의 값을 label로 주고 결과를 출력하시오\n",
    "labels = ['a','b','c','d','e']"
   ]
  },
  {
   "cell_type": "code",
   "execution_count": null,
   "metadata": {},
   "outputs": [],
   "source": [
    "#%% 'col1'의 평균을 구하시오"
   ]
  },
  {
   "cell_type": "code",
   "execution_count": null,
   "metadata": {},
   "outputs": [],
   "source": [
    "#%% 'col3'의 합계를 구하시오"
   ]
  },
  {
   "cell_type": "code",
   "execution_count": null,
   "metadata": {},
   "outputs": [],
   "source": [
    "#%% DF25. col1 과 col3의 순서를 바꾸어 출력하시오"
   ]
  },
  {
   "cell_type": "code",
   "execution_count": null,
   "metadata": {},
   "outputs": [],
   "source": [
    "#%% DF29. 위의 dataframe에서 col2의 값이 5인 row를 삭제하고 출력하시오"
   ]
  },
  {
   "cell_type": "code",
   "execution_count": null,
   "metadata": {},
   "outputs": [],
   "source": [
    "#%% DF31. index 2인 row를 출력하시오"
   ]
  },
  {
   "cell_type": "code",
   "execution_count": null,
   "metadata": {},
   "outputs": [],
   "source": [
    "#%% DF36. 다음의 주어진 dataframe에서 2,4번째 row를 없앤 후 다시 출력하시오\n",
    "\"\"\"\n",
    "col1 col2 col3\n",
    "0 1 4 7\n",
    "1 4 5 8\n",
    "2 3 6 9\n",
    "3 4 7 0\n",
    "4 5 8 1\n",
    "\"\"\""
   ]
  },
  {
   "cell_type": "code",
   "execution_count": null,
   "metadata": {},
   "outputs": [],
   "source": [
    "#%% DF42. 컬럼명 col2를 Column2로 변경하여 출력하시오 (rename())"
   ]
  },
  {
   "cell_type": "code",
   "execution_count": null,
   "metadata": {},
   "outputs": [],
   "source": [
    "#%% DF43. 주어진 dataframe에서 col2 컬럼으로 이루어진 리스트를 출력하시오 (df.tolist())"
   ]
  },
  {
   "cell_type": "code",
   "execution_count": null,
   "metadata": {},
   "outputs": [],
   "source": [
    "#%% DF47. 주어진 DataFrame에서 row 1과 4을 출력하시오"
   ]
  },
  {
   "cell_type": "code",
   "execution_count": null,
   "metadata": {},
   "outputs": [],
   "source": [
    "#%% DF57. 다음 DataFrame의 컬럼 수를 출력하시오"
   ]
  },
  {
   "cell_type": "code",
   "execution_count": null,
   "metadata": {},
   "outputs": [],
   "source": [
    "#%%DF59. 주어진 DataFrame에서 첫 3 row를 출력하시오"
   ]
  },
  {
   "cell_type": "code",
   "execution_count": null,
   "metadata": {},
   "outputs": [],
   "source": [
    "#%% DF60. 주어진 DataFrame에서 마지막 3 row를 출력하시오"
   ]
  },
  {
   "cell_type": "code",
   "execution_count": null,
   "metadata": {},
   "outputs": [],
   "source": [
    "#%% DF 62. 주어진 DataFrame에서 첫 3 rows를 삭제하고 출력하시오"
   ]
  },
  {
   "cell_type": "code",
   "execution_count": null,
   "metadata": {},
   "outputs": [],
   "source": [
    "#%%DF63. 주어진 DataFrame에서 마지막 3 row를 삭제하고 출력하시오"
   ]
  },
  {
   "cell_type": "code",
   "execution_count": null,
   "metadata": {},
   "outputs": [],
   "source": [
    "#%% 'col1' 기준 내림차순, 'col2'기준 오름차순으로 sort하고 결과를 출력하시오."
   ]
  },
  {
   "cell_type": "markdown",
   "metadata": {},
   "source": [
    "## Pandas excercise with baseball data"
   ]
  },
  {
   "cell_type": "code",
   "execution_count": null,
   "metadata": {},
   "outputs": [],
   "source": [
    "#%% baseball.csv 로부터 데이터를 읽어와 dataframe으로 저장하고 컬럼 labels,컬럼 labels 수, 데이터수, 로우와 컬럼수를 출력하시오."
   ]
  },
  {
   "cell_type": "code",
   "execution_count": null,
   "metadata": {},
   "outputs": [],
   "source": [
    "#%% baseball 데이터 df의 head 100개와 tail 100개를 출력하시오."
   ]
  },
  {
   "cell_type": "code",
   "execution_count": null,
   "metadata": {},
   "outputs": [],
   "source": [
    "#%% baseball 데이터 df의 100~300 행만 선택하여 새로운 파일에 저장하는 코드를 작성하시오 그리고 다시 저장한 파일을 읽어와 출력하시오."
   ]
  },
  {
   "cell_type": "code",
   "execution_count": null,
   "metadata": {},
   "outputs": [],
   "source": [
    "#%% baseball 데이터 df의 Position이 \"Outfielder\"인 선수를 찾아 df_OF 파일에 저장하시오 df_OF 파일을 불러와 출력하시오."
   ]
  },
  {
   "cell_type": "code",
   "execution_count": null,
   "metadata": {},
   "outputs": [],
   "source": [
    "#%% DF29. baseball 데이터 df에서 team이 \"STL\"인 선수들 row를 삭제하고 출력하시오 "
   ]
  },
  {
   "cell_type": "code",
   "execution_count": null,
   "metadata": {},
   "outputs": [],
   "source": [
    "#%% DF31. baseball 데이터 df에서 index 456인 row를 출력하시오 "
   ]
  },
  {
   "cell_type": "code",
   "execution_count": null,
   "metadata": {},
   "outputs": [],
   "source": [
    "#%% DF36. baseball 데이터 df에서 256번째, 478번째 row를 없앤 후 다시 출력하시오 "
   ]
  },
  {
   "cell_type": "code",
   "execution_count": null,
   "metadata": {},
   "outputs": [],
   "source": [
    "#%% baseball 데이터 df에서 선수들의 키의 평균은 얼마인가?"
   ]
  },
  {
   "cell_type": "code",
   "execution_count": null,
   "metadata": {},
   "outputs": [],
   "source": [
    "#%% baseball 데이터 df에서 몸무게가 190이상이고 200 이하인 선수는 몇명인가?"
   ]
  },
  {
   "cell_type": "code",
   "execution_count": null,
   "metadata": {},
   "outputs": [],
   "source": [
    "#%% baseball 데이터 df에서 20대, 30대 선수는 각각 몇명인가?"
   ]
  },
  {
   "cell_type": "code",
   "execution_count": null,
   "metadata": {},
   "outputs": [],
   "source": [
    "#%% baseball 데이터 df에서 position의 종류는 어떤 것이 있나? (tolist() 사용)"
   ]
  }
 ],
 "metadata": {
  "kernelspec": {
   "display_name": "Python 3 (ipykernel)",
   "language": "python",
   "name": "python3"
  },
  "language_info": {
   "codemirror_mode": {
    "name": "ipython",
    "version": 3
   },
   "file_extension": ".py",
   "mimetype": "text/x-python",
   "name": "python",
   "nbconvert_exporter": "python",
   "pygments_lexer": "ipython3",
   "version": "3.9.12"
  }
 },
 "nbformat": 4,
 "nbformat_minor": 4
}
