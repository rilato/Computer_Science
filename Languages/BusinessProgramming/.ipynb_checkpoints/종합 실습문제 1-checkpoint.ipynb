{
 "cells": [
  {
   "cell_type": "markdown",
   "metadata": {},
   "source": [
    "5.1 zoo.py 모듈에서 \"Open 9-5 daily\" 문자열을 반환하는 hours() 함수를 정의하라. 그리고 zoo 모듈을 임포트하여 hours() 함수를 호출하시오"
   ]
  },
  {
   "cell_type": "code",
   "execution_count": null,
   "metadata": {},
   "outputs": [],
   "source": [
    "import zoo"
   ]
  },
  {
   "cell_type": "code",
   "execution_count": null,
   "metadata": {
    "scrolled": true
   },
   "outputs": [],
   "source": [
    "zoo.hours()"
   ]
  },
  {
   "cell_type": "markdown",
   "metadata": {},
   "source": [
    "5.2 zoo 모듈을 menageria 라는 이름으로 import한 후 hours() 함수를 호출하라"
   ]
  },
  {
   "cell_type": "code",
   "execution_count": null,
   "metadata": {},
   "outputs": [],
   "source": [
    "menageria.hours()"
   ]
  },
  {
   "cell_type": "markdown",
   "metadata": {},
   "source": [
    "5.4 key:value 쌍이 'a':1, 'b':2, 'c':3 인 plain 딕셔너리를 만들어서 출력한 후, 'a'의 value를 'something for a '로 바꾸어 출력하시오."
   ]
  },
  {
   "cell_type": "code",
   "execution_count": null,
   "metadata": {},
   "outputs": [],
   "source": []
  },
  {
   "cell_type": "markdown",
   "metadata": {},
   "source": [
    "4.1 guess_me 변수에 7을 할당한다. 그리고 값이 7보다 작으면 문자열 'too low'를, 7보다 크면 'too high'를, 7과 같으면 'just right'를 출력하는 조건문(if, elif, else) 를 작성하라."
   ]
  },
  {
   "cell_type": "code",
   "execution_count": null,
   "metadata": {},
   "outputs": [],
   "source": []
  },
  {
   "cell_type": "markdown",
   "metadata": {},
   "source": [
    "4.2 guess_me 변수에 7을 할당하고 start 변수에 1을 할당한다. start와 guess_me를 비교하는 while 문을 작성하라. start가 guess_me보다 작은 경우에는 'too low'를 출력하고 start와 guess_me가 같은 경우에는 'found it!'을 출력하고 루프를 종료한다. start가 guess_me보다 큰 경우에는 'oops'를 출력하고 루프를 종료한다."
   ]
  },
  {
   "cell_type": "code",
   "execution_count": null,
   "metadata": {},
   "outputs": [],
   "source": []
  },
  {
   "cell_type": "markdown",
   "metadata": {},
   "source": [
    "5.1 같은 숫자가 나올때까지 주사위 3개를 동시에 무한 반복해서 던집니다.<br>\n",
    "    같은 숫자는 무엇이고 같은 숫자가 나올때까지 몇번 던졌는지 출력하시오. <br>\n",
    "    다음 코드를 이용하시오."
   ]
  },
  {
   "cell_type": "code",
   "execution_count": null,
   "metadata": {},
   "outputs": [],
   "source": [
    "import random\n",
    "random.randrange(1,7)"
   ]
  },
  {
   "cell_type": "markdown",
   "metadata": {},
   "source": [
    "6.1 사용자가 숫자를 여러개 입력하면 '+'문자를 입력한 숫자만큼 출력하는 코드를 만들어 실행하시오.<br>\n",
    "예를 들어 6398을 입력하면 6개, 3개, 9개, 8개의 '+'을 각기 다른 줄에 출력하시오."
   ]
  },
  {
   "cell_type": "code",
   "execution_count": null,
   "metadata": {},
   "outputs": [],
   "source": []
  },
  {
   "cell_type": "markdown",
   "metadata": {},
   "source": [
    "1.2 숫자 맞히기 게임<br>\n",
    "    사용자가 1부터 10까지의 숫자 중 하나를 입력하여 미리 지정된 숫자를 맞히는 프로그램이다. 3회까지만 시도할 수 있다. guess_num() 함수를 호출하여 실행한다."
   ]
  },
  {
   "cell_type": "code",
   "execution_count": null,
   "metadata": {},
   "outputs": [],
   "source": [
    "import random\n",
    "\n",
    "def guess_num():\n",
    "    number = random.randint(1,10)\n",
    "    count = 0\n",
    "    while ____:\n",
    "        \n",
    "        "
   ]
  },
  {
   "cell_type": "code",
   "execution_count": null,
   "metadata": {},
   "outputs": [],
   "source": [
    "#결과: 함수호출\n",
    "\n",
    "guess_num()"
   ]
  },
  {
   "cell_type": "markdown",
   "metadata": {},
   "source": [
    "(함수)"
   ]
  },
  {
   "cell_type": "markdown",
   "metadata": {},
   "source": [
    "6.3 (비밀번호 생성기 함수) 알파벳 문자열과 정수를 패러미터로 받아 정수에 해당하는 갯수의 알파벳을 문자열에서 랜덤하게 선택해 비밀번호를 생성하는 함수 create_password_generator() 함수를 만드시오.(random.choice()함수를 사용하시오)"
   ]
  },
  {
   "cell_type": "code",
   "execution_count": null,
   "metadata": {},
   "outputs": [],
   "source": [
    "import random"
   ]
  },
  {
   "cell_type": "code",
   "execution_count": null,
   "metadata": {},
   "outputs": [],
   "source": []
  },
  {
   "cell_type": "code",
   "execution_count": null,
   "metadata": {},
   "outputs": [],
   "source": [
    "print(create_password_generator('aoei340958u20fhjapwe','6'))"
   ]
  },
  {
   "cell_type": "markdown",
   "metadata": {},
   "source": [
    "(함수형 프로그래밍: 리스트 내포)"
   ]
  },
  {
   "cell_type": "code",
   "execution_count": 1,
   "metadata": {},
   "outputs": [
    {
     "data": {
      "text/plain": [
       "[0, 1, 4, 9, 16]"
      ]
     },
     "execution_count": 1,
     "metadata": {},
     "output_type": "execute_result"
    }
   ],
   "source": [
    "# 리스트 내포 \n",
    "[x*x for x in range(5)]"
   ]
  },
  {
   "cell_type": "code",
   "execution_count": 2,
   "metadata": {},
   "outputs": [
    {
     "name": "stdout",
     "output_type": "stream",
     "text": [
      "[0, 1, 4, 9, 16]\n"
     ]
    }
   ],
   "source": [
    "y=[]\n",
    "for x in range(5):\n",
    "    y.append(x*x)\n",
    "    \n",
    "print(y)"
   ]
  },
  {
   "cell_type": "code",
   "execution_count": 3,
   "metadata": {},
   "outputs": [
    {
     "data": {
      "text/plain": [
       "{0: 0, 1: 1, 2: 4, 3: 9, 4: 16}"
      ]
     },
     "execution_count": 3,
     "metadata": {},
     "output_type": "execute_result"
    }
   ],
   "source": [
    "# 딕셔너리 내포\n",
    "{x:x*x for x in range(5)}"
   ]
  },
  {
   "cell_type": "code",
   "execution_count": 4,
   "metadata": {},
   "outputs": [
    {
     "name": "stdout",
     "output_type": "stream",
     "text": [
      "{0: 0, 1: 1, 2: 4, 3: 9, 4: 16}\n"
     ]
    }
   ],
   "source": [
    "y = dict()\n",
    "for x in range(5):\n",
    "    y[x] = x*x\n",
    "    \n",
    "print(y)"
   ]
  },
  {
   "cell_type": "code",
   "execution_count": 5,
   "metadata": {},
   "outputs": [
    {
     "data": {
      "text/plain": [
       "{0, 1, 4, 9, 16}"
      ]
     },
     "execution_count": 5,
     "metadata": {},
     "output_type": "execute_result"
    }
   ],
   "source": [
    "# 세트 내포\n",
    "{x*x for x in range(5)}"
   ]
  },
  {
   "cell_type": "code",
   "execution_count": 6,
   "metadata": {},
   "outputs": [
    {
     "name": "stdout",
     "output_type": "stream",
     "text": [
      "{0, 1, 4, 9, 16}\n"
     ]
    }
   ],
   "source": [
    "y=[]\n",
    "for x in range(5):\n",
    "    y.append(x*x)\n",
    "y_set = set(y)\n",
    "\n",
    "print(y_set)"
   ]
  },
  {
   "cell_type": "markdown",
   "metadata": {},
   "source": [
    "최종적으로 리스트(딕셔너리, 세트)를 만드는 것이 목적이라면 내포를 사용하고, 각각의 요소에 특정 처리를 하는 것이 목적이면 반복문 사용"
   ]
  },
  {
   "cell_type": "markdown",
   "metadata": {},
   "source": [
    "7.1 range를 매개변수로 받아 숫자들을 쉼표(,)로 연결해 문자열로 리턴하는 join_numbers 함수를 만드시오. 즉, range(9)를 매개변수로 넣으면 다음과 같은 문자열을 리턴하시오.<br>\n",
    "0,1,2,3,4,5,6,7,8"
   ]
  },
  {
   "cell_type": "code",
   "execution_count": null,
   "metadata": {},
   "outputs": [],
   "source": []
  },
  {
   "cell_type": "code",
   "execution_count": null,
   "metadata": {},
   "outputs": [],
   "source": [
    "print(join_numbers(range(9)))"
   ]
  },
  {
   "cell_type": "markdown",
   "metadata": {},
   "source": [
    "7.2 다음과 같은 문자열을 입력받아 숫자만 합하여 총합을 출력하는 함수 sum_numbers()를 구현하시오.<br><br>\n",
    "10 abc 20 de44 30 55fg 40"
   ]
  },
  {
   "cell_type": "code",
   "execution_count": null,
   "metadata": {},
   "outputs": [],
   "source": []
  },
  {
   "cell_type": "code",
   "execution_count": null,
   "metadata": {},
   "outputs": [],
   "source": [
    "print(sum_numbers('10 abc 20 de44 30 55fg 40'))"
   ]
  },
  {
   "cell_type": "markdown",
   "metadata": {},
   "source": [
    "7.3 리스트의 리스트(2차원 리스트)를 패러미터로 받고, 이를 1차원 리스트로 평탄화하여 리턴하는 flatten() 함수를 만드시오.<br>\n",
    "\n",
    "flatten([[1,2],[3,4]])<br>\n",
    "[1,2,3,4]\n"
   ]
  },
  {
   "cell_type": "code",
   "execution_count": null,
   "metadata": {},
   "outputs": [],
   "source": []
  },
  {
   "cell_type": "code",
   "execution_count": null,
   "metadata": {},
   "outputs": [],
   "source": [
    "flatten([[1,2],[3,4]])"
   ]
  },
  {
   "cell_type": "markdown",
   "metadata": {},
   "source": [
    "7.5 (딕셔너리 반전하기)다음의 딕셔너리 a의 key를 value로, value를 key로 반전하는 함수 flipped_dict()를 만드시오.<br>\n",
    "(모든 key와 value는 중복되지 않고 같은 값을 가지지 않음.)"
   ]
  },
  {
   "cell_type": "code",
   "execution_count": null,
   "metadata": {},
   "outputs": [],
   "source": [
    "a = {'a':1,'b':2,'c':3}"
   ]
  },
  {
   "cell_type": "code",
   "execution_count": null,
   "metadata": {},
   "outputs": [],
   "source": []
  },
  {
   "cell_type": "code",
   "execution_count": null,
   "metadata": {},
   "outputs": [],
   "source": [
    "print(flipped_dict(a))"
   ]
  },
  {
   "cell_type": "markdown",
   "metadata": {},
   "source": [
    "(객체)"
   ]
  },
  {
   "cell_type": "markdown",
   "metadata": {},
   "source": [
    " 9.1.2 Scoop 클래스를 만들어 flavor 문자열 속성을 만드시오. create_scoops 함수를 만들고 인스턴스 3개를 만들어 scoops 리스트에 넣고 이들의 flavor를 출력하시오."
   ]
  },
  {
   "cell_type": "code",
   "execution_count": null,
   "metadata": {},
   "outputs": [],
   "source": []
  },
  {
   "cell_type": "code",
   "execution_count": null,
   "metadata": {},
   "outputs": [],
   "source": [
    "creat_scoops()"
   ]
  },
  {
   "cell_type": "markdown",
   "metadata": {},
   "source": [
    "9.1.3 Beverage 클래스를 만들고 name, temperature 속성을 만들어 temperature의 기본값을 75로 설정하시오. bev 라는 instance를 만들고 name을 'Soo'로 주어 bev.name이 'Soo', bev.temperature 가 75로 출력되는지 확인하시오."
   ]
  },
  {
   "cell_type": "code",
   "execution_count": null,
   "metadata": {},
   "outputs": [],
   "source": []
  },
  {
   "cell_type": "code",
   "execution_count": null,
   "metadata": {},
   "outputs": [],
   "source": [
    "bev = Beverage('Soo')"
   ]
  },
  {
   "cell_type": "code",
   "execution_count": null,
   "metadata": {},
   "outputs": [],
   "source": [
    "bev.name"
   ]
  },
  {
   "cell_type": "code",
   "execution_count": null,
   "metadata": {},
   "outputs": [],
   "source": [
    "bev.temperature"
   ]
  },
  {
   "cell_type": "markdown",
   "metadata": {},
   "source": [
    "9.2 아이스크림 여러 스쿱을 넣을 수 있는 Bowl 클래스를 만들고 bowl 인스턴스를 만들어 bowl의 패러미터로 Scoop 여러개를 받아 이를 모두 출력하는 add_scoops()라는 메소드를 만드시오. print(bowl.scoops[-1])을 통해 마지막 추가된 scoop의 flavor를 출력하시오."
   ]
  },
  {
   "cell_type": "code",
   "execution_count": null,
   "metadata": {},
   "outputs": [],
   "source": []
  },
  {
   "cell_type": "code",
   "execution_count": null,
   "metadata": {},
   "outputs": [],
   "source": [
    "s1=Scoop('chocolate')\n",
    "s2=Scoop('apple')\n",
    "s3=Scoop('banana')\n",
    "\n",
    "bowl=Bowl()\n",
    "bowl.add_scoops(s1,s2)\n",
    "print(bowl.scoops[-1].flavor)\n",
    "\n",
    "bowl.add_scoops(s3)\n",
    "print(bowl.scoops[-1].flavor)"
   ]
  },
  {
   "cell_type": "markdown",
   "metadata": {},
   "source": [
    "181. 데이터 파일을 읽어들여 연도별 출생아 수를 계산하시오. 연도별 텍스트를 한줄씩 읽고 출생아 수만 추출하시오. <br>\n",
    "그 결과값을 baby_born.csv 파일에 연도별로 저장하시오. count_baby() 함수를 만들어 실행하시오.<br>\n",
    "\n",
    "\n",
    "https://catalog.data.gov/dataset/baby-names-from-social-security-card-applications-national-data "
   ]
  },
  {
   "cell_type": "code",
   "execution_count": 48,
   "metadata": {},
   "outputs": [
    {
     "data": {
      "text/plain": [
       "'/Users/HK/BP/실습문제'"
      ]
     },
     "execution_count": 48,
     "metadata": {},
     "output_type": "execute_result"
    }
   ],
   "source": [
    "import os\n",
    "os.getcwd()"
   ]
  },
  {
   "cell_type": "code",
   "execution_count": 46,
   "metadata": {},
   "outputs": [
    {
     "data": {
      "text/plain": [
       "'/Users/HK/BP/실습문제'"
      ]
     },
     "execution_count": 46,
     "metadata": {},
     "output_type": "execute_result"
    }
   ],
   "source": [
    "('./names/yob2021.txt', 'r')"
   ]
  },
  {
   "cell_type": "code",
   "execution_count": null,
   "metadata": {},
   "outputs": [],
   "source": []
  },
  {
   "cell_type": "code",
   "execution_count": null,
   "metadata": {},
   "outputs": [],
   "source": [
    "count_baby()"
   ]
  },
  {
   "cell_type": "markdown",
   "metadata": {},
   "source": [
    "181_1. 데이터 파일을 읽어들여 연도별 성별 출생아 수를 계산하시오.<br>\n",
    "그 결과값을 baby_born_1.csv 파일에 연도별, 성별로 저장하시오. count_baby_gender() 함수를 만들어 실행하시오.<br>\n",
    "https://catalog.data.gov/dataset/baby-names-from-social-security-card-applications-national-data "
   ]
  },
  {
   "cell_type": "code",
   "execution_count": null,
   "metadata": {},
   "outputs": [],
   "source": []
  },
  {
   "cell_type": "code",
   "execution_count": null,
   "metadata": {},
   "outputs": [],
   "source": [
    "count_baby_gender()"
   ]
  },
  {
   "cell_type": "markdown",
   "metadata": {},
   "source": [
    "181_2. 데이터 파일을 읽어들여 연도별 성별, 가장 인기있는 이름 상위 10개의 출생아 수를 계산하시오.<br>\n",
    "그 결과값을 baby_born_2.csv 파일에 연도별, 성별, 인기순위별로 저장하시오.<br>\n",
    "https://catalog.data.gov/dataset/baby-names-from-social-security-card-applications-national-data "
   ]
  },
  {
   "cell_type": "code",
   "execution_count": null,
   "metadata": {},
   "outputs": [],
   "source": []
  }
 ],
 "metadata": {
  "kernelspec": {
   "display_name": "Python 3 (ipykernel)",
   "language": "python",
   "name": "python3"
  },
  "language_info": {
   "codemirror_mode": {
    "name": "ipython",
    "version": 3
   },
   "file_extension": ".py",
   "mimetype": "text/x-python",
   "name": "python",
   "nbconvert_exporter": "python",
   "pygments_lexer": "ipython3",
   "version": "3.9.12"
  }
 },
 "nbformat": 4,
 "nbformat_minor": 4
}
