{
 "cells": [
  {
   "cell_type": "markdown",
   "metadata": {},
   "source": [
    "사용자 입력 연습문제"
   ]
  },
  {
   "cell_type": "code",
   "execution_count": 80,
   "metadata": {},
   "outputs": [
    {
     "name": "stdout",
     "output_type": "stream",
     "text": [
      "첫번째 숫자를 입력하세요:3\n",
      "두번째 숫자를 입력하세요:6\n",
      "두 수의 합은 9 입니다\n"
     ]
    }
   ],
   "source": [
    "#연습문제 1.\n",
    "input1 = input(\"첫번째 숫자를 입력하세요:\")\n",
    "input2 = input(\"두번째 숫자를 입력하세요:\")\n",
    "\n",
    "total = int(input1) + int(input2)\n",
    "print(\"두 수의 합은 %i 입니다\" % total)"
   ]
  },
  {
   "cell_type": "code",
   "execution_count": null,
   "metadata": {},
   "outputs": [],
   "source": [
    "#%%연습문제 2. 여러개의 숫자를 input으로 입력받아 \n",
    "#(예. 1,2,3,4,5) 모두 합한 결과를 출력하는 코드를 작성하시오. \n",
    "\n",
    "number = input('숫자 여러개를 콤마를 넣어 입력하시오: ')\n",
    "numbers = number.split(',')\n",
    "\n",
    "total = 0\n",
    "for i in numbers:\n",
    "    total += int(i)\n",
    "    \n",
    "print(total)"
   ]
  },
  {
   "cell_type": "code",
   "execution_count": 81,
   "metadata": {},
   "outputs": [
    {
     "name": "stdout",
     "output_type": "stream",
     "text": [
      "youneedpython\n",
      "youneedpython\n",
      "you need python\n",
      "youneedpython\n"
     ]
    }
   ],
   "source": [
    "#%%연습문제 3\n",
    "\n",
    "print('you' 'need' 'python')\n",
    "print('you'+'need'+'python')\n",
    "print('you','need','python')\n",
    "print(\"\".join(['you','need','python']))"
   ]
  },
  {
   "cell_type": "code",
   "execution_count": 82,
   "metadata": {},
   "outputs": [
    {
     "name": "stdout",
     "output_type": "stream",
     "text": [
      "구구단을 출력할 숫자를 입력하시오 (2~9): 4\n",
      "4 8 12 16 20 24 28 32 36 "
     ]
    }
   ],
   "source": [
    "#%%연습문제 4.\n",
    "user_input = int(input(\"구구단을 출력할 숫자를 입력하시오 (2~9): \"))\n",
    "\n",
    "for i in range(1, 10):\n",
    "    print(user_input*i, end = \" \")"
   ]
  },
  {
   "cell_type": "markdown",
   "metadata": {},
   "source": [
    "파일 입출력 연습문제"
   ]
  },
  {
   "cell_type": "code",
   "execution_count": 14,
   "metadata": {},
   "outputs": [],
   "source": [
    "#%% 연습문제 1.\n",
    "    \n",
    "f1 = open(\"test.txt\", 'w')\n",
    "f1.write(\"Life is too short\")\n",
    "f1.close()"
   ]
  },
  {
   "cell_type": "code",
   "execution_count": 15,
   "metadata": {},
   "outputs": [
    {
     "name": "stdout",
     "output_type": "stream",
     "text": [
      "Life is too short\n"
     ]
    }
   ],
   "source": [
    "f2 = open(\"test.txt\", 'r')\n",
    "print(f2.read())\n",
    "f2.close()"
   ]
  },
  {
   "cell_type": "code",
   "execution_count": 16,
   "metadata": {},
   "outputs": [
    {
     "name": "stdout",
     "output_type": "stream",
     "text": [
      "Life is too short, you need python\n"
     ]
    }
   ],
   "source": [
    "#%% 연습문제 1.-1\n",
    "with open(\"test.txt\",\"w\") as f1:\n",
    "    f1.write(\"Life is too short, you need python\")\n",
    "\n",
    "with open(\"test.txt\", 'r') as f2:\n",
    "    print(f2.read())"
   ]
  },
  {
   "cell_type": "code",
   "execution_count": null,
   "metadata": {},
   "outputs": [],
   "source": []
  },
  {
   "cell_type": "code",
   "execution_count": 19,
   "metadata": {},
   "outputs": [
    {
     "name": "stdout",
     "output_type": "stream",
     "text": [
      "저장할 내용을 입력하세요: 789\n"
     ]
    }
   ],
   "source": [
    "#%% 연습문제 2.\n",
    "\n",
    "f = open(\"test.txt\", 'a')\n",
    "f.write(input(\"저장할 내용을 입력하세요: \"))\n",
    "f.write(\"\\n\")\n",
    "\n",
    "f.close()\n",
    "    "
   ]
  },
  {
   "cell_type": "code",
   "execution_count": null,
   "metadata": {},
   "outputs": [],
   "source": []
  },
  {
   "cell_type": "code",
   "execution_count": 23,
   "metadata": {},
   "outputs": [
    {
     "data": {
      "text/plain": [
       "['AAA\\n', 'BBB\\n', 'CCC\\n', 'DDD\\n', 'EEE\\n']"
      ]
     },
     "execution_count": 23,
     "metadata": {},
     "output_type": "execute_result"
    }
   ],
   "source": [
    "#%% 연습문제 3.\n",
    "f = open('abc.txt', 'r')\n",
    "lines = f.readlines()  # 모든 라인을 읽음\n",
    "f.close()\n",
    "#print(lines)\n",
    "\n",
    "rlines = reversed(lines)  # 읽은 라인을 역순으로 정렬, 리스트가 아닌 list_reverseiterator object\n",
    "\n",
    "type(rlines)\n",
    "\n",
    "lines\n"
   ]
  },
  {
   "cell_type": "code",
   "execution_count": 24,
   "metadata": {},
   "outputs": [],
   "source": [
    "f = open('abc.txt', 'w')\n",
    "for line in rlines:\n",
    "    line = line.strip()  # 포함되어 있는 줄바꿈 문자 제거\n",
    "    f.write(line)\n",
    "    f.write('\\n')  # 줄바꿈 문자 삽입\n",
    "f.close()\n"
   ]
  },
  {
   "cell_type": "code",
   "execution_count": 25,
   "metadata": {},
   "outputs": [],
   "source": [
    "#%%연습문제 4\n",
    "f = open('test.txt', 'r')\n",
    "body = f.read()\n",
    "f.close()\n",
    "\n",
    "body = body.replace('java', 'python')\n",
    "\n",
    "f = open('test.txt', 'w')\n",
    "f.write(body)\n",
    "f.close()"
   ]
  },
  {
   "cell_type": "code",
   "execution_count": 26,
   "metadata": {},
   "outputs": [
    {
     "name": "stdout",
     "output_type": "stream",
     "text": [
      "['70\\n', '60\\n', '55\\n', '66\\n', '77\\n', '88\\n', '99\\n', '100\\n']\n",
      "76.875\n"
     ]
    }
   ],
   "source": [
    "#%%연습문제 5\n",
    "\n",
    "f = open(\"sample.txt\", 'r')\n",
    "lines = f.readlines( )  # sample.txt를 줄단위로 모두 읽는다.\n",
    "f.close( )\n",
    "\n",
    "print(lines)\n",
    "\n",
    "total = 0\n",
    "for line in lines:\n",
    "    score = int(line)  # 줄에 적힌 점수를 숫자형으로 변환한다.\n",
    "    total += score\n",
    "average = total / len(lines)\n",
    "print(average)\n",
    "\n",
    "f = open(\"result.txt\", \"w\")\n",
    "f.write(str(average))\n",
    "f.close()"
   ]
  },
  {
   "cell_type": "code",
   "execution_count": null,
   "metadata": {},
   "outputs": [],
   "source": []
  },
  {
   "cell_type": "code",
   "execution_count": null,
   "metadata": {},
   "outputs": [],
   "source": []
  },
  {
   "cell_type": "code",
   "execution_count": null,
   "metadata": {},
   "outputs": [],
   "source": []
  }
 ],
 "metadata": {
  "kernelspec": {
   "display_name": "Python 3 (ipykernel)",
   "language": "python",
   "name": "python3"
  },
  "language_info": {
   "codemirror_mode": {
    "name": "ipython",
    "version": 3
   },
   "file_extension": ".py",
   "mimetype": "text/x-python",
   "name": "python",
   "nbconvert_exporter": "python",
   "pygments_lexer": "ipython3",
   "version": "3.9.12"
  }
 },
 "nbformat": 4,
 "nbformat_minor": 4
}
